{
 "cells": [
  {
   "cell_type": "markdown",
   "metadata": {
    "colab_type": "text",
    "id": "view-in-github"
   },
   "source": [
    "<a href=\"https://colab.research.google.com/github/caropilardiaz/Mentoria-Imagenes_Drones/blob/master/3_Pr%C3%A1cticoIAA.ipynb\" target=\"_parent\"><img src=\"https://colab.research.google.com/assets/colab-badge.svg\" alt=\"Open In Colab\"/></a>"
   ]
  },
  {
   "cell_type": "markdown",
   "metadata": {
    "colab_type": "text",
    "id": "UzPhzP2fpt0Q"
   },
   "source": [
    "##**Diplomatura en Ciencias de Datos, Aprendizaje Automático y sus Aplicaciones**"
   ]
  },
  {
   "cell_type": "markdown",
   "metadata": {
    "colab_type": "text",
    "id": "oTY7X_KSo9ay"
   },
   "source": [
    "##**Mentoría Diplomatura en Ciencia de Datos 2020**\n",
    "###**\"Detección del desarrollo del cultivo con imágenes de Drones\"**\n",
    "###**Mentora**: Carolina Del Pilar Díaz"
   ]
  },
  {
   "cell_type": "markdown",
   "metadata": {
    "colab_type": "text",
    "id": "x-UmQ4fCqTMj"
   },
   "source": [
    "###**Introducción al Aprendizaje Automático**"
   ]
  },
  {
   "cell_type": "markdown",
   "metadata": {
    "colab_type": "text",
    "id": "_EZ_J-LBn8ha"
   },
   "source": [
    " \n",
    "En este laboratorio deben hacer experimentos de regresión y clasificación con el conjunto de datos obtenido en el práctico anterior.\n",
    "\n",
    "Estudiarán el dataset y seleccionarán atributos relevantes a mano. \n",
    "\n",
    "El objetivo consiste en explorar la aplicación de diferentes métodos de aprendizaje supervisado aprendidos en el curso, a través de experimentos reproducibles, y evaluando a su vez la conveniencia de uno u otro, así como la selección de diferentes hiperparámetros a partir del cálculo de las métricas pertinentes. Nuestro objetivo no será construir el mejor modelo, sino ganar un poco más de intuición sobre nuestro conjunto de datos, y tomar algunas decisiones sobre las que profundizaremos en el próximo práctico.\n",
    "\n",
    "Luego, entrenarán y evaluarán diferentes tipos de regresiones y clasificadores, buscando las configuraciones que mejores resultados den."
   ]
  },
  {
   "cell_type": "markdown",
   "metadata": {
    "colab_type": "text",
    "id": "lPiXCvZi-f1x"
   },
   "source": [
    "###Preprocesamiento\n",
    "Antes de aplicar los modelos, haremos un filtrado de los datos. Se sugiere seguir los siguientes pasos, pero pueden experimentar ustedes también otras alternativas.ZADOCK y RDTO serán nuestras variables objetivos, sobre la cual buscaremos hacer predicciones las cuáles poseen diferentes distribuciones.\n",
    "\n",
    "###Crear los siguientes features:\n",
    "Ciclos; Asignar el valor 0 al ciclo corto y valor 1 al ciclo largo.\n",
    "Conjunto de datos; Variable binaria construida a partir de asignar 1 correspondiente a la 1° fecha de siembra, o 0 en caso contrario.\n",
    "Pueden decidir otras configuraciones que necesiten.\n",
    "\n",
    "###Recordar;\n",
    "Una vez que el dataset resultante no tenga valores nulos, es necesario transformar las variables categóricas en variables numéricas (es decir, realizar un encoding de los datos) además de convertir longitud,latitud y fechas a numericas.\n",
    "\n",
    "Más info https://towardsdatascience.com/categorical-encoding-using-label-encoding-and-one-hot-encoder-911ef77fb5bd\n"
   ]
  },
  {
   "cell_type": "markdown",
   "metadata": {
    "colab_type": "text",
    "id": "U9ufZGp_krsB"
   },
   "source": [
    "###Elección de los modelos\n",
    "Con los pasos anteriores, nuestro dataset debería ser una tabla con valores numéricos y sin valores nulos. Ahora, deberán separar el conjunto de datos en conjunto de entrenamiento (train) y conjunto de prueba (test). Por ahora, no utilizaremos conjunto de validación. Se recomienda utilizar el método train_test_split de scikitlearn, con un 80% para train y 20% para test.\n",
    "\n",
    "Una vez divididos los datos, construimos los modelos predictivos. Entrenen cada modelo utilizando el conjunto de entrenamiento y los parámetros por defecto y evaluen la predicción utilizando las cinco métricas descriptas más adelante según corresponda al modelo. \n",
    "\n",
    "Es importante recordar, que el dataset posee dos targets con distribuciones diferentes, ZADOK y RDTO."
   ]
  },
  {
   "cell_type": "markdown",
   "metadata": {
    "colab_type": "text",
    "id": "I3d_7I9ObBGS"
   },
   "source": [
    "###Elección de métricas\n",
    "Un aspecto fundamental del aprendizaje automático es la elección de métricas para evaluar los modelos predictivos según correspondan. En este práctico vamos a explorar las siguientes cinco métricas:\n",
    "ECM, \n",
    "Accuracy,\n",
    "F1\n",
    "AUC ROC,\n",
    "AUC Precision-Recall.\n",
    "\n",
    "Para cada uno de los modelos que utilicen, calculen las cinco métricas. Pueden encontrar información sobre las últimas dos https://machinelearningmastery.com/roc-curves-and-precision-recall-curves-for-classification-in-python/"
   ]
  },
  {
   "cell_type": "markdown",
   "metadata": {
    "colab_type": "text",
    "id": "0F3rmd38b1oN"
   },
   "source": [
    "###División en Entrenamiento y Evaluación\n",
    "Dividimos aleatoriamente los datos en 80% para entrenamiento y 20% para evaluación:"
   ]
  },
  {
   "cell_type": "code",
   "execution_count": 1,
   "metadata": {
    "colab": {},
    "colab_type": "code",
    "executionInfo": {
     "elapsed": 1524,
     "status": "ok",
     "timestamp": 1600302899570,
     "user": {
      "displayName": "Fernando Vazquez",
      "photoUrl": "",
      "userId": "07463311502574319119"
     },
     "user_tz": 180
    },
    "id": "4ptGChrFhDhb"
   },
   "outputs": [],
   "source": [
    "import numpy as np\n",
    "import pandas as pd\n",
    "import matplotlib.pyplot as plt\n",
    "from datetime import datetime\n",
    "import os"
   ]
  },
  {
   "cell_type": "code",
   "execution_count": 2,
   "metadata": {
    "colab": {},
    "colab_type": "code",
    "executionInfo": {
     "elapsed": 2260,
     "status": "ok",
     "timestamp": 1600302903891,
     "user": {
      "displayName": "Fernando Vazquez",
      "photoUrl": "",
      "userId": "07463311502574319119"
     },
     "user_tz": 180
    },
    "id": "trkhbmCab02P"
   },
   "outputs": [],
   "source": [
    "from sklearn.model_selection import train_test_split\n",
    "from sklearn.linear_model import LogisticRegression\n",
    "from sklearn.ensemble import RandomForestClassifier\n",
    "from sklearn.metrics import accuracy_score, f1_score\n",
    "from sklearn.metrics import mean_squared_error\n",
    "from sklearn.linear_model import Ridge\n",
    "\n",
    "\n",
    "from sklearn.tree import DecisionTreeClassifier\n",
    "from sklearn import ensemble\n",
    "\n",
    "from sklearn.linear_model import LinearRegression\n",
    "from sklearn.preprocessing import PolynomialFeatures\n",
    "from sklearn.pipeline import make_pipeline\n",
    "\n",
    "from sklearn.metrics import classification_report\n",
    "\n",
    "from sklearn.linear_model import LinearRegression\n",
    "from sklearn.preprocessing import PolynomialFeatures\n",
    "from sklearn.pipeline import make_pipeline\n",
    "from sklearn.preprocessing import StandardScaler"
   ]
  },
  {
   "cell_type": "code",
   "execution_count": 4,
   "metadata": {
    "colab": {
     "base_uri": "https://localhost:8080/",
     "height": 34
    },
    "colab_type": "code",
    "executionInfo": {
     "elapsed": 131191,
     "status": "ok",
     "timestamp": 1600303232543,
     "user": {
      "displayName": "Fernando Vazquez",
      "photoUrl": "",
      "userId": "07463311502574319119"
     },
     "user_tz": 180
    },
    "id": "xpqAOvQEdcsl",
    "outputId": "21fa4caa-f42e-47d2-a0ba-01d98f2003d5"
   },
   "outputs": [
    {
     "name": "stdout",
     "output_type": "stream",
     "text": [
      "Mounted at /content/gdrive\n"
     ]
    }
   ],
   "source": [
    "from google.colab import drive \n",
    "drive.mount('/content/gdrive')"
   ]
  },
  {
   "cell_type": "code",
   "execution_count": null,
   "metadata": {
    "colab": {},
    "colab_type": "code",
    "id": "QbRAaLnOLGMz"
   },
   "outputs": [],
   "source": []
  },
  {
   "cell_type": "code",
   "execution_count": 6,
   "metadata": {
    "colab": {},
    "colab_type": "code",
    "executionInfo": {
     "elapsed": 851,
     "status": "ok",
     "timestamp": 1600303308561,
     "user": {
      "displayName": "Fernando Vazquez",
      "photoUrl": "",
      "userId": "07463311502574319119"
     },
     "user_tz": 180
    },
    "id": "sd5YtibkFv-O"
   },
   "outputs": [],
   "source": [
    "#DATA_DIRECTORY = './'\n",
    "dataset = pd.read_csv('/content/gdrive/My Drive/Colab Notebooks/dron_final.csv',decimal=\".\",sep=\",\")\n"
   ]
  },
  {
   "cell_type": "code",
   "execution_count": 7,
   "metadata": {
    "colab": {
     "base_uri": "https://localhost:8080/",
     "height": 549
    },
    "colab_type": "code",
    "executionInfo": {
     "elapsed": 820,
     "status": "ok",
     "timestamp": 1600303310507,
     "user": {
      "displayName": "Fernando Vazquez",
      "photoUrl": "",
      "userId": "07463311502574319119"
     },
     "user_tz": 180
    },
    "id": "2cBN7dAJFv-d",
    "outputId": "b0af5dd5-d54f-40a1-87f8-b73e6f88f395"
   },
   "outputs": [
    {
     "data": {
      "text/html": [
       "<div>\n",
       "<style scoped>\n",
       "    .dataframe tbody tr th:only-of-type {\n",
       "        vertical-align: middle;\n",
       "    }\n",
       "\n",
       "    .dataframe tbody tr th {\n",
       "        vertical-align: top;\n",
       "    }\n",
       "\n",
       "    .dataframe thead th {\n",
       "        text-align: right;\n",
       "    }\n",
       "</style>\n",
       "<table border=\"1\" class=\"dataframe\">\n",
       "  <thead>\n",
       "    <tr style=\"text-align: right;\">\n",
       "      <th></th>\n",
       "      <th>ID</th>\n",
       "      <th>Longitude</th>\n",
       "      <th>Latitude</th>\n",
       "      <th>Conjunto_de_datos</th>\n",
       "      <th>Ciclos</th>\n",
       "      <th>Variedad</th>\n",
       "      <th>Rep</th>\n",
       "      <th>Parcela</th>\n",
       "      <th>ZADOCK</th>\n",
       "      <th>fila</th>\n",
       "      <th>columna</th>\n",
       "      <th>Azul</th>\n",
       "      <th>Verde</th>\n",
       "      <th>InfraRojo</th>\n",
       "      <th>Borde_rojo</th>\n",
       "      <th>_Rojo</th>\n",
       "      <th>NDVI</th>\n",
       "      <th>NDRE</th>\n",
       "      <th>SAVI</th>\n",
       "      <th>SCCI</th>\n",
       "      <th>GNDVI</th>\n",
       "      <th>GVI</th>\n",
       "      <th>RVI</th>\n",
       "      <th>RedEdg</th>\n",
       "      <th>LNVI</th>\n",
       "      <th>GRVI</th>\n",
       "      <th>MGRVI</th>\n",
       "      <th>Roya_porcentaje</th>\n",
       "      <th>Carbon_porcentaje</th>\n",
       "      <th>Adversidades</th>\n",
       "      <th>Fecha_de_espigazon</th>\n",
       "      <th>Fecha_de_madurez</th>\n",
       "      <th>dias_entre_fechas</th>\n",
       "      <th>RDTO</th>\n",
       "      <th>Fusariosis_otros</th>\n",
       "      <th>Manchas_Foliares_otros</th>\n",
       "      <th>Fecha</th>\n",
       "      <th>Temp_centigrados_Máx</th>\n",
       "      <th>Presion_hPa_Máx</th>\n",
       "      <th>Temp_suelo_centigrados_Máx</th>\n",
       "      <th>Intende_Lluvia_mm_h</th>\n",
       "      <th>Vel_de_Viento_Km_h_Máx</th>\n",
       "      <th>Hum_porcentajeHR_Máx</th>\n",
       "    </tr>\n",
       "  </thead>\n",
       "  <tbody>\n",
       "    <tr>\n",
       "      <th>538</th>\n",
       "      <td>7929</td>\n",
       "      <td>-2.057.272.724.607.630</td>\n",
       "      <td>-2.120.806.915.359.970</td>\n",
       "      <td>2daSiembra</td>\n",
       "      <td>CL</td>\n",
       "      <td>Variedad_K</td>\n",
       "      <td>3</td>\n",
       "      <td>103</td>\n",
       "      <td>4.3</td>\n",
       "      <td>3</td>\n",
       "      <td>46</td>\n",
       "      <td>47600</td>\n",
       "      <td>10230</td>\n",
       "      <td>44100</td>\n",
       "      <td>27400</td>\n",
       "      <td>14528</td>\n",
       "      <td>0.5044</td>\n",
       "      <td>0.2335</td>\n",
       "      <td>0.7565</td>\n",
       "      <td>0.4630</td>\n",
       "      <td>0.6234</td>\n",
       "      <td>4.3108</td>\n",
       "      <td>3.0355</td>\n",
       "      <td>1.6094</td>\n",
       "      <td>0.4759</td>\n",
       "      <td>-0.1736</td>\n",
       "      <td>-0.3370</td>\n",
       "      <td>1</td>\n",
       "      <td>0</td>\n",
       "      <td>0.00</td>\n",
       "      <td>2018-12-10</td>\n",
       "      <td>2018-01-12</td>\n",
       "      <td>50.0</td>\n",
       "      <td>3206</td>\n",
       "      <td>0</td>\n",
       "      <td>0</td>\n",
       "      <td>2018-12-10</td>\n",
       "      <td>19.40</td>\n",
       "      <td>985.625</td>\n",
       "      <td>15.0</td>\n",
       "      <td>1.2</td>\n",
       "      <td>18.407</td>\n",
       "      <td>98.24</td>\n",
       "    </tr>\n",
       "    <tr>\n",
       "      <th>28679</th>\n",
       "      <td>17125</td>\n",
       "      <td>-2.057.280.441.862.850</td>\n",
       "      <td>-2.120.816.521.233.800</td>\n",
       "      <td>2daSiembra</td>\n",
       "      <td>CC</td>\n",
       "      <td>Variedad_O</td>\n",
       "      <td>3</td>\n",
       "      <td>139</td>\n",
       "      <td>6.7</td>\n",
       "      <td>3</td>\n",
       "      <td>32</td>\n",
       "      <td>64800</td>\n",
       "      <td>17900</td>\n",
       "      <td>90300</td>\n",
       "      <td>51370</td>\n",
       "      <td>23989</td>\n",
       "      <td>0.5802</td>\n",
       "      <td>0.2747</td>\n",
       "      <td>0.8703</td>\n",
       "      <td>0.4736</td>\n",
       "      <td>0.6691</td>\n",
       "      <td>5.0446</td>\n",
       "      <td>3.7642</td>\n",
       "      <td>1.7578</td>\n",
       "      <td>0.5640</td>\n",
       "      <td>-0.1453</td>\n",
       "      <td>-0.2847</td>\n",
       "      <td>0</td>\n",
       "      <td>0</td>\n",
       "      <td>0.00</td>\n",
       "      <td>2018-09-24</td>\n",
       "      <td>2018-11-20</td>\n",
       "      <td>57.0</td>\n",
       "      <td>7066</td>\n",
       "      <td>0</td>\n",
       "      <td>0</td>\n",
       "      <td>2018-09-24</td>\n",
       "      <td>25.37</td>\n",
       "      <td>985.625</td>\n",
       "      <td>24.8</td>\n",
       "      <td>0.0</td>\n",
       "      <td>19.030</td>\n",
       "      <td>61.39</td>\n",
       "    </tr>\n",
       "    <tr>\n",
       "      <th>8879</th>\n",
       "      <td>8865</td>\n",
       "      <td>-2.057.299.690.053.090</td>\n",
       "      <td>-2.120.841.814.296.250</td>\n",
       "      <td>1er Siembra</td>\n",
       "      <td>CC</td>\n",
       "      <td>Variedad_U</td>\n",
       "      <td>3</td>\n",
       "      <td>60</td>\n",
       "      <td>6.9</td>\n",
       "      <td>3</td>\n",
       "      <td>1</td>\n",
       "      <td>52000</td>\n",
       "      <td>10990</td>\n",
       "      <td>48500</td>\n",
       "      <td>26380</td>\n",
       "      <td>14551</td>\n",
       "      <td>0.5384</td>\n",
       "      <td>0.2954</td>\n",
       "      <td>0.8076</td>\n",
       "      <td>0.5486</td>\n",
       "      <td>0.6305</td>\n",
       "      <td>4.4131</td>\n",
       "      <td>3.3331</td>\n",
       "      <td>1.8385</td>\n",
       "      <td>0.6089</td>\n",
       "      <td>-0.1394</td>\n",
       "      <td>-0.2735</td>\n",
       "      <td>0</td>\n",
       "      <td>0</td>\n",
       "      <td>0.00</td>\n",
       "      <td>2018-09-13</td>\n",
       "      <td>2018-11-18</td>\n",
       "      <td>66.0</td>\n",
       "      <td>4089</td>\n",
       "      <td>0</td>\n",
       "      <td>0</td>\n",
       "      <td>2018-09-13</td>\n",
       "      <td>19.44</td>\n",
       "      <td>984.375</td>\n",
       "      <td>20.4</td>\n",
       "      <td>12.0</td>\n",
       "      <td>17.079</td>\n",
       "      <td>99.52</td>\n",
       "    </tr>\n",
       "    <tr>\n",
       "      <th>24826</th>\n",
       "      <td>8839</td>\n",
       "      <td>-2.057.281.948.221.740</td>\n",
       "      <td>-2.120.807.824.845.210</td>\n",
       "      <td>2daSiembra</td>\n",
       "      <td>CC</td>\n",
       "      <td>Variedad_H</td>\n",
       "      <td>1</td>\n",
       "      <td>107</td>\n",
       "      <td>6.1</td>\n",
       "      <td>1</td>\n",
       "      <td>26</td>\n",
       "      <td>50500</td>\n",
       "      <td>11300</td>\n",
       "      <td>48000</td>\n",
       "      <td>28540</td>\n",
       "      <td>13279</td>\n",
       "      <td>0.5666</td>\n",
       "      <td>0.2542</td>\n",
       "      <td>0.8499</td>\n",
       "      <td>0.4487</td>\n",
       "      <td>0.6188</td>\n",
       "      <td>4.2477</td>\n",
       "      <td>3.6147</td>\n",
       "      <td>1.6818</td>\n",
       "      <td>0.5198</td>\n",
       "      <td>-0.0805</td>\n",
       "      <td>-0.1599</td>\n",
       "      <td>1</td>\n",
       "      <td>0</td>\n",
       "      <td>0.00</td>\n",
       "      <td>2018-09-28</td>\n",
       "      <td>2018-11-20</td>\n",
       "      <td>53.0</td>\n",
       "      <td>5183</td>\n",
       "      <td>0</td>\n",
       "      <td>0</td>\n",
       "      <td>2018-09-28</td>\n",
       "      <td>28.27</td>\n",
       "      <td>977.500</td>\n",
       "      <td>23.2</td>\n",
       "      <td>1.2</td>\n",
       "      <td>28.566</td>\n",
       "      <td>100.00</td>\n",
       "    </tr>\n",
       "    <tr>\n",
       "      <th>20831</th>\n",
       "      <td>12039</td>\n",
       "      <td>-2.057.287.640.800.930</td>\n",
       "      <td>-2.120.818.355.589.450</td>\n",
       "      <td>2daSiembra</td>\n",
       "      <td>CC</td>\n",
       "      <td>Variedad_I</td>\n",
       "      <td>2</td>\n",
       "      <td>119</td>\n",
       "      <td>6.9</td>\n",
       "      <td>2</td>\n",
       "      <td>37</td>\n",
       "      <td>63300</td>\n",
       "      <td>15430</td>\n",
       "      <td>92100</td>\n",
       "      <td>44310</td>\n",
       "      <td>18554</td>\n",
       "      <td>0.6646</td>\n",
       "      <td>0.3503</td>\n",
       "      <td>0.9969</td>\n",
       "      <td>0.5271</td>\n",
       "      <td>0.7130</td>\n",
       "      <td>5.9688</td>\n",
       "      <td>4.9638</td>\n",
       "      <td>2.0785</td>\n",
       "      <td>0.7316</td>\n",
       "      <td>-0.0919</td>\n",
       "      <td>-0.1823</td>\n",
       "      <td>0</td>\n",
       "      <td>0</td>\n",
       "      <td>5.00</td>\n",
       "      <td>2018-09-23</td>\n",
       "      <td>2018-11-20</td>\n",
       "      <td>58.0</td>\n",
       "      <td>4934</td>\n",
       "      <td>0</td>\n",
       "      <td>0</td>\n",
       "      <td>2018-09-23</td>\n",
       "      <td>30.06</td>\n",
       "      <td>981.250</td>\n",
       "      <td>26.4</td>\n",
       "      <td>0.0</td>\n",
       "      <td>26.132</td>\n",
       "      <td>62.12</td>\n",
       "    </tr>\n",
       "    <tr>\n",
       "      <th>6538</th>\n",
       "      <td>9626</td>\n",
       "      <td>-2.057.300.814.963.100</td>\n",
       "      <td>-2.120.845.257.865.370</td>\n",
       "      <td>1er Siembra</td>\n",
       "      <td>CC</td>\n",
       "      <td>Variedad_G</td>\n",
       "      <td>3</td>\n",
       "      <td>63</td>\n",
       "      <td>6.7</td>\n",
       "      <td>3</td>\n",
       "      <td>4</td>\n",
       "      <td>55500</td>\n",
       "      <td>12700</td>\n",
       "      <td>49800</td>\n",
       "      <td>32070</td>\n",
       "      <td>15406</td>\n",
       "      <td>0.5274</td>\n",
       "      <td>0.2165</td>\n",
       "      <td>0.7911</td>\n",
       "      <td>0.4105</td>\n",
       "      <td>0.5936</td>\n",
       "      <td>3.9212</td>\n",
       "      <td>3.2325</td>\n",
       "      <td>1.5528</td>\n",
       "      <td>0.4400</td>\n",
       "      <td>-0.0962</td>\n",
       "      <td>-0.1907</td>\n",
       "      <td>1</td>\n",
       "      <td>0</td>\n",
       "      <td>0.10</td>\n",
       "      <td>2018-09-14</td>\n",
       "      <td>2018-11-19</td>\n",
       "      <td>66.0</td>\n",
       "      <td>4428</td>\n",
       "      <td>1</td>\n",
       "      <td>0</td>\n",
       "      <td>2018-09-14</td>\n",
       "      <td>24.33</td>\n",
       "      <td>983.750</td>\n",
       "      <td>20.8</td>\n",
       "      <td>0.0</td>\n",
       "      <td>13.217</td>\n",
       "      <td>96.91</td>\n",
       "    </tr>\n",
       "    <tr>\n",
       "      <th>21343</th>\n",
       "      <td>9234</td>\n",
       "      <td>-2.057.284.310.613.750</td>\n",
       "      <td>-2.120.807.134.835.310</td>\n",
       "      <td>2daSiembra</td>\n",
       "      <td>CC</td>\n",
       "      <td>Variedad_I</td>\n",
       "      <td>1</td>\n",
       "      <td>108</td>\n",
       "      <td>6.9</td>\n",
       "      <td>1</td>\n",
       "      <td>27</td>\n",
       "      <td>54600</td>\n",
       "      <td>13580</td>\n",
       "      <td>57900</td>\n",
       "      <td>37340</td>\n",
       "      <td>17740</td>\n",
       "      <td>0.5309</td>\n",
       "      <td>0.2158</td>\n",
       "      <td>0.7963</td>\n",
       "      <td>0.4065</td>\n",
       "      <td>0.6200</td>\n",
       "      <td>4.2636</td>\n",
       "      <td>3.2638</td>\n",
       "      <td>1.5506</td>\n",
       "      <td>0.4386</td>\n",
       "      <td>-0.1328</td>\n",
       "      <td>-0.2610</td>\n",
       "      <td>0</td>\n",
       "      <td>0</td>\n",
       "      <td>5.00</td>\n",
       "      <td>2018-09-23</td>\n",
       "      <td>2018-11-20</td>\n",
       "      <td>58.0</td>\n",
       "      <td>5505</td>\n",
       "      <td>0</td>\n",
       "      <td>0</td>\n",
       "      <td>2018-09-23</td>\n",
       "      <td>30.06</td>\n",
       "      <td>981.250</td>\n",
       "      <td>26.4</td>\n",
       "      <td>0.0</td>\n",
       "      <td>26.132</td>\n",
       "      <td>62.12</td>\n",
       "    </tr>\n",
       "    <tr>\n",
       "      <th>17466</th>\n",
       "      <td>4062</td>\n",
       "      <td>-2.057.276.237.015.830</td>\n",
       "      <td>-2.120.802.708.083.150</td>\n",
       "      <td>2daSiembra</td>\n",
       "      <td>CL</td>\n",
       "      <td>Variedad_R</td>\n",
       "      <td>2</td>\n",
       "      <td>88</td>\n",
       "      <td>4.5</td>\n",
       "      <td>2</td>\n",
       "      <td>44</td>\n",
       "      <td>56300</td>\n",
       "      <td>13610</td>\n",
       "      <td>60100</td>\n",
       "      <td>38180</td>\n",
       "      <td>19485</td>\n",
       "      <td>0.5103</td>\n",
       "      <td>0.2230</td>\n",
       "      <td>0.7654</td>\n",
       "      <td>0.4370</td>\n",
       "      <td>0.6307</td>\n",
       "      <td>4.4158</td>\n",
       "      <td>3.0844</td>\n",
       "      <td>1.5741</td>\n",
       "      <td>0.4536</td>\n",
       "      <td>-0.1775</td>\n",
       "      <td>-0.3441</td>\n",
       "      <td>1</td>\n",
       "      <td>0</td>\n",
       "      <td>0.00</td>\n",
       "      <td>2018-08-10</td>\n",
       "      <td>2018-01-12</td>\n",
       "      <td>54.0</td>\n",
       "      <td>5022</td>\n",
       "      <td>0</td>\n",
       "      <td>0</td>\n",
       "      <td>2018-08-10</td>\n",
       "      <td>38.02</td>\n",
       "      <td>975.000</td>\n",
       "      <td>24.3</td>\n",
       "      <td>0.0</td>\n",
       "      <td>37.779</td>\n",
       "      <td>68.65</td>\n",
       "    </tr>\n",
       "    <tr>\n",
       "      <th>2545</th>\n",
       "      <td>6301</td>\n",
       "      <td>-2.057.310.414.356.550</td>\n",
       "      <td>-2.120.847.444.515.830</td>\n",
       "      <td>1er Siembra</td>\n",
       "      <td>CC</td>\n",
       "      <td>Variedad_Q</td>\n",
       "      <td>2</td>\n",
       "      <td>50</td>\n",
       "      <td>6.5</td>\n",
       "      <td>2</td>\n",
       "      <td>10</td>\n",
       "      <td>53100</td>\n",
       "      <td>13300</td>\n",
       "      <td>51500</td>\n",
       "      <td>33980</td>\n",
       "      <td>18334</td>\n",
       "      <td>0.4749</td>\n",
       "      <td>0.2049</td>\n",
       "      <td>0.7123</td>\n",
       "      <td>0.4315</td>\n",
       "      <td>0.5895</td>\n",
       "      <td>3.8721</td>\n",
       "      <td>2.8089</td>\n",
       "      <td>1.5155</td>\n",
       "      <td>0.4158</td>\n",
       "      <td>-0.1591</td>\n",
       "      <td>-0.3104</td>\n",
       "      <td>0</td>\n",
       "      <td>0</td>\n",
       "      <td>0.00</td>\n",
       "      <td>2018-09-15</td>\n",
       "      <td>2018-11-20</td>\n",
       "      <td>66.0</td>\n",
       "      <td>6009</td>\n",
       "      <td>0</td>\n",
       "      <td>0</td>\n",
       "      <td>2018-09-15</td>\n",
       "      <td>24.35</td>\n",
       "      <td>979.375</td>\n",
       "      <td>21.0</td>\n",
       "      <td>0.0</td>\n",
       "      <td>19.835</td>\n",
       "      <td>100.00</td>\n",
       "    </tr>\n",
       "    <tr>\n",
       "      <th>5642</th>\n",
       "      <td>4689</td>\n",
       "      <td>-2.057.314.428.884.980</td>\n",
       "      <td>-2.120.844.166.969.940</td>\n",
       "      <td>1er Siembra</td>\n",
       "      <td>CC</td>\n",
       "      <td>Variedad_T</td>\n",
       "      <td>1</td>\n",
       "      <td>43</td>\n",
       "      <td>6.6</td>\n",
       "      <td>1</td>\n",
       "      <td>10</td>\n",
       "      <td>56900</td>\n",
       "      <td>11330</td>\n",
       "      <td>62100</td>\n",
       "      <td>28730</td>\n",
       "      <td>12181</td>\n",
       "      <td>0.6720</td>\n",
       "      <td>0.3673</td>\n",
       "      <td>1.0080</td>\n",
       "      <td>0.5466</td>\n",
       "      <td>0.6914</td>\n",
       "      <td>5.4810</td>\n",
       "      <td>5.0981</td>\n",
       "      <td>2.1615</td>\n",
       "      <td>0.7708</td>\n",
       "      <td>-0.0361</td>\n",
       "      <td>-0.0722</td>\n",
       "      <td>0</td>\n",
       "      <td>0</td>\n",
       "      <td>0.02</td>\n",
       "      <td>2018-09-14</td>\n",
       "      <td>2018-11-19</td>\n",
       "      <td>66.0</td>\n",
       "      <td>4050</td>\n",
       "      <td>1</td>\n",
       "      <td>0</td>\n",
       "      <td>2018-09-14</td>\n",
       "      <td>24.33</td>\n",
       "      <td>983.750</td>\n",
       "      <td>20.8</td>\n",
       "      <td>0.0</td>\n",
       "      <td>13.217</td>\n",
       "      <td>96.91</td>\n",
       "    </tr>\n",
       "  </tbody>\n",
       "</table>\n",
       "</div>"
      ],
      "text/plain": [
       "          ID  ... Hum_porcentajeHR_Máx\n",
       "538     7929  ...                98.24\n",
       "28679  17125  ...                61.39\n",
       "8879    8865  ...                99.52\n",
       "24826   8839  ...               100.00\n",
       "20831  12039  ...                62.12\n",
       "6538    9626  ...                96.91\n",
       "21343   9234  ...                62.12\n",
       "17466   4062  ...                68.65\n",
       "2545    6301  ...               100.00\n",
       "5642    4689  ...                96.91\n",
       "\n",
       "[10 rows x 43 columns]"
      ]
     },
     "execution_count": 7,
     "metadata": {
      "tags": []
     },
     "output_type": "execute_result"
    }
   ],
   "source": [
    "dataset.sample(10)"
   ]
  },
  {
   "cell_type": "markdown",
   "metadata": {
    "colab_type": "text",
    "id": "WN_P0DAtFv-o"
   },
   "source": [
    "### Preprocesamiento:"
   ]
  },
  {
   "cell_type": "code",
   "execution_count": null,
   "metadata": {
    "colab": {
     "base_uri": "https://localhost:8080/",
     "height": 224
    },
    "colab_type": "code",
    "id": "Uc4Sz1grFv-s",
    "outputId": "36832f62-2678-4eb7-b166-4b583a1fa66c"
   },
   "outputs": [
    {
     "data": {
      "text/html": [
       "<div>\n",
       "<style scoped>\n",
       "    .dataframe tbody tr th:only-of-type {\n",
       "        vertical-align: middle;\n",
       "    }\n",
       "\n",
       "    .dataframe tbody tr th {\n",
       "        vertical-align: top;\n",
       "    }\n",
       "\n",
       "    .dataframe thead th {\n",
       "        text-align: right;\n",
       "    }\n",
       "</style>\n",
       "<table border=\"1\" class=\"dataframe\">\n",
       "  <thead>\n",
       "    <tr style=\"text-align: right;\">\n",
       "      <th></th>\n",
       "      <th>ID</th>\n",
       "      <th>Longitude</th>\n",
       "      <th>Latitude</th>\n",
       "      <th>Conjunto_de_datos</th>\n",
       "      <th>Ciclos</th>\n",
       "      <th>Rep</th>\n",
       "      <th>Parcela</th>\n",
       "      <th>ZADOCK</th>\n",
       "      <th>fila</th>\n",
       "      <th>columna</th>\n",
       "      <th>Azul</th>\n",
       "      <th>Verde</th>\n",
       "      <th>InfraRojo</th>\n",
       "      <th>Borde_rojo</th>\n",
       "      <th>_Rojo</th>\n",
       "      <th>NDVI</th>\n",
       "      <th>NDRE</th>\n",
       "      <th>SAVI</th>\n",
       "      <th>SCCI</th>\n",
       "      <th>GNDVI</th>\n",
       "      <th>GVI</th>\n",
       "      <th>RVI</th>\n",
       "      <th>RedEdg</th>\n",
       "      <th>LNVI</th>\n",
       "      <th>GRVI</th>\n",
       "      <th>MGRVI</th>\n",
       "      <th>Roya_porcentaje</th>\n",
       "      <th>Carbon_porcentaje</th>\n",
       "      <th>Adversidades</th>\n",
       "      <th>Fecha_de_espigazon</th>\n",
       "      <th>Fecha_de_madurez</th>\n",
       "      <th>dias_entre_fechas</th>\n",
       "      <th>RDTO</th>\n",
       "      <th>Fusariosis_otros</th>\n",
       "      <th>Manchas_Foliares_otros</th>\n",
       "      <th>Fecha</th>\n",
       "      <th>Temp_centigrados_Máx</th>\n",
       "      <th>Presion_hPa_Máx</th>\n",
       "      <th>Temp_suelo_centigrados_Máx</th>\n",
       "      <th>Intende_Lluvia_mm_h</th>\n",
       "      <th>Vel_de_Viento_Km_h_Máx</th>\n",
       "      <th>Hum_porcentajeHR_Máx</th>\n",
       "      <th>Variedad_B</th>\n",
       "      <th>Variedad_C</th>\n",
       "      <th>Variedad_D</th>\n",
       "      <th>Variedad_E</th>\n",
       "      <th>Variedad_F</th>\n",
       "      <th>Variedad_G</th>\n",
       "      <th>Variedad_H</th>\n",
       "      <th>Variedad_I</th>\n",
       "      <th>Variedad_J</th>\n",
       "      <th>Variedad_K</th>\n",
       "      <th>Variedad_L</th>\n",
       "      <th>Variedad_M</th>\n",
       "      <th>Variedad_N</th>\n",
       "      <th>Variedad_O</th>\n",
       "      <th>Variedad_P</th>\n",
       "      <th>Variedad_Q</th>\n",
       "      <th>Variedad_R</th>\n",
       "      <th>Variedad_S</th>\n",
       "      <th>Variedad_T</th>\n",
       "      <th>Variedad_U</th>\n",
       "    </tr>\n",
       "  </thead>\n",
       "  <tbody>\n",
       "    <tr>\n",
       "      <th>11253</th>\n",
       "      <td>13206</td>\n",
       "      <td>-2.057.282.090.758.630</td>\n",
       "      <td>-2.120.815.095.051.290</td>\n",
       "      <td>0</td>\n",
       "      <td>0</td>\n",
       "      <td>2</td>\n",
       "      <td>124</td>\n",
       "      <td>6.5</td>\n",
       "      <td>2</td>\n",
       "      <td>32</td>\n",
       "      <td>60600</td>\n",
       "      <td>15370</td>\n",
       "      <td>62600</td>\n",
       "      <td>43040</td>\n",
       "      <td>20628</td>\n",
       "      <td>0.5043</td>\n",
       "      <td>0.1851</td>\n",
       "      <td>0.7564</td>\n",
       "      <td>0.3671</td>\n",
       "      <td>0.6057</td>\n",
       "      <td>4.0728</td>\n",
       "      <td>3.0347</td>\n",
       "      <td>1.4544</td>\n",
       "      <td>0.3746</td>\n",
       "      <td>-0.1460</td>\n",
       "      <td>-0.2860</td>\n",
       "      <td>2</td>\n",
       "      <td>0</td>\n",
       "      <td>5.0</td>\n",
       "      <td>20180925</td>\n",
       "      <td>20181120</td>\n",
       "      <td>56.0</td>\n",
       "      <td>5799</td>\n",
       "      <td>1</td>\n",
       "      <td>0</td>\n",
       "      <td>20180925</td>\n",
       "      <td>27.66</td>\n",
       "      <td>981.875</td>\n",
       "      <td>24.7</td>\n",
       "      <td>0.0</td>\n",
       "      <td>15.832</td>\n",
       "      <td>83.81</td>\n",
       "      <td>0</td>\n",
       "      <td>0</td>\n",
       "      <td>0</td>\n",
       "      <td>0</td>\n",
       "      <td>0</td>\n",
       "      <td>0</td>\n",
       "      <td>0</td>\n",
       "      <td>0</td>\n",
       "      <td>0</td>\n",
       "      <td>0</td>\n",
       "      <td>0</td>\n",
       "      <td>0</td>\n",
       "      <td>0</td>\n",
       "      <td>0</td>\n",
       "      <td>0</td>\n",
       "      <td>0</td>\n",
       "      <td>0</td>\n",
       "      <td>1</td>\n",
       "      <td>0</td>\n",
       "      <td>0</td>\n",
       "    </tr>\n",
       "    <tr>\n",
       "      <th>286</th>\n",
       "      <td>290</td>\n",
       "      <td>-2.057.276.510.751.440</td>\n",
       "      <td>-2.120.796.986.348.990</td>\n",
       "      <td>0</td>\n",
       "      <td>1</td>\n",
       "      <td>1</td>\n",
       "      <td>74</td>\n",
       "      <td>4.3</td>\n",
       "      <td>1</td>\n",
       "      <td>39</td>\n",
       "      <td>56200</td>\n",
       "      <td>13790</td>\n",
       "      <td>63700</td>\n",
       "      <td>40260</td>\n",
       "      <td>19505</td>\n",
       "      <td>0.5311</td>\n",
       "      <td>0.2254</td>\n",
       "      <td>0.7967</td>\n",
       "      <td>0.4244</td>\n",
       "      <td>0.6440</td>\n",
       "      <td>4.6192</td>\n",
       "      <td>3.2658</td>\n",
       "      <td>1.5822</td>\n",
       "      <td>0.4588</td>\n",
       "      <td>-0.1716</td>\n",
       "      <td>-0.3334</td>\n",
       "      <td>1</td>\n",
       "      <td>0</td>\n",
       "      <td>5.0</td>\n",
       "      <td>20181210</td>\n",
       "      <td>20180112</td>\n",
       "      <td>50.0</td>\n",
       "      <td>2554</td>\n",
       "      <td>0</td>\n",
       "      <td>0</td>\n",
       "      <td>20181210</td>\n",
       "      <td>19.40</td>\n",
       "      <td>985.625</td>\n",
       "      <td>15.0</td>\n",
       "      <td>1.2</td>\n",
       "      <td>18.407</td>\n",
       "      <td>98.24</td>\n",
       "      <td>0</td>\n",
       "      <td>0</td>\n",
       "      <td>0</td>\n",
       "      <td>0</td>\n",
       "      <td>0</td>\n",
       "      <td>0</td>\n",
       "      <td>0</td>\n",
       "      <td>0</td>\n",
       "      <td>0</td>\n",
       "      <td>1</td>\n",
       "      <td>0</td>\n",
       "      <td>0</td>\n",
       "      <td>0</td>\n",
       "      <td>0</td>\n",
       "      <td>0</td>\n",
       "      <td>0</td>\n",
       "      <td>0</td>\n",
       "      <td>0</td>\n",
       "      <td>0</td>\n",
       "      <td>0</td>\n",
       "    </tr>\n",
       "    <tr>\n",
       "      <th>25599</th>\n",
       "      <td>13026</td>\n",
       "      <td>-2.057.283.354.966.700</td>\n",
       "      <td>-2.120.815.097.481.100</td>\n",
       "      <td>0</td>\n",
       "      <td>0</td>\n",
       "      <td>2</td>\n",
       "      <td>123</td>\n",
       "      <td>6.1</td>\n",
       "      <td>2</td>\n",
       "      <td>33</td>\n",
       "      <td>54700</td>\n",
       "      <td>12550</td>\n",
       "      <td>50400</td>\n",
       "      <td>32840</td>\n",
       "      <td>15704</td>\n",
       "      <td>0.5248</td>\n",
       "      <td>0.2109</td>\n",
       "      <td>0.7872</td>\n",
       "      <td>0.4019</td>\n",
       "      <td>0.6012</td>\n",
       "      <td>4.0159</td>\n",
       "      <td>3.2093</td>\n",
       "      <td>1.5347</td>\n",
       "      <td>0.4283</td>\n",
       "      <td>-0.1116</td>\n",
       "      <td>-0.2205</td>\n",
       "      <td>1</td>\n",
       "      <td>0</td>\n",
       "      <td>0.0</td>\n",
       "      <td>20180928</td>\n",
       "      <td>20181120</td>\n",
       "      <td>53.0</td>\n",
       "      <td>5702</td>\n",
       "      <td>0</td>\n",
       "      <td>0</td>\n",
       "      <td>20180928</td>\n",
       "      <td>28.27</td>\n",
       "      <td>977.500</td>\n",
       "      <td>23.2</td>\n",
       "      <td>1.2</td>\n",
       "      <td>28.566</td>\n",
       "      <td>100.00</td>\n",
       "      <td>0</td>\n",
       "      <td>0</td>\n",
       "      <td>0</td>\n",
       "      <td>0</td>\n",
       "      <td>0</td>\n",
       "      <td>0</td>\n",
       "      <td>1</td>\n",
       "      <td>0</td>\n",
       "      <td>0</td>\n",
       "      <td>0</td>\n",
       "      <td>0</td>\n",
       "      <td>0</td>\n",
       "      <td>0</td>\n",
       "      <td>0</td>\n",
       "      <td>0</td>\n",
       "      <td>0</td>\n",
       "      <td>0</td>\n",
       "      <td>0</td>\n",
       "      <td>0</td>\n",
       "      <td>0</td>\n",
       "    </tr>\n",
       "    <tr>\n",
       "      <th>22581</th>\n",
       "      <td>16571</td>\n",
       "      <td>-2.057.298.280.068.390</td>\n",
       "      <td>-2.120.835.701.393.980</td>\n",
       "      <td>1</td>\n",
       "      <td>1</td>\n",
       "      <td>2</td>\n",
       "      <td>15</td>\n",
       "      <td>5.9</td>\n",
       "      <td>2</td>\n",
       "      <td>21</td>\n",
       "      <td>53600</td>\n",
       "      <td>13410</td>\n",
       "      <td>50800</td>\n",
       "      <td>37760</td>\n",
       "      <td>20591</td>\n",
       "      <td>0.4231</td>\n",
       "      <td>0.1472</td>\n",
       "      <td>0.6347</td>\n",
       "      <td>0.3479</td>\n",
       "      <td>0.5823</td>\n",
       "      <td>3.7882</td>\n",
       "      <td>2.4670</td>\n",
       "      <td>1.3453</td>\n",
       "      <td>0.2966</td>\n",
       "      <td>-0.2111</td>\n",
       "      <td>-0.4043</td>\n",
       "      <td>1</td>\n",
       "      <td>0</td>\n",
       "      <td>0.0</td>\n",
       "      <td>20180510</td>\n",
       "      <td>20181126</td>\n",
       "      <td>52.0</td>\n",
       "      <td>5046</td>\n",
       "      <td>0</td>\n",
       "      <td>0</td>\n",
       "      <td>20180510</td>\n",
       "      <td>24.76</td>\n",
       "      <td>988.750</td>\n",
       "      <td>22.2</td>\n",
       "      <td>0.0</td>\n",
       "      <td>28.324</td>\n",
       "      <td>76.66</td>\n",
       "      <td>0</td>\n",
       "      <td>0</td>\n",
       "      <td>0</td>\n",
       "      <td>0</td>\n",
       "      <td>0</td>\n",
       "      <td>0</td>\n",
       "      <td>0</td>\n",
       "      <td>0</td>\n",
       "      <td>0</td>\n",
       "      <td>1</td>\n",
       "      <td>0</td>\n",
       "      <td>0</td>\n",
       "      <td>0</td>\n",
       "      <td>0</td>\n",
       "      <td>0</td>\n",
       "      <td>0</td>\n",
       "      <td>0</td>\n",
       "      <td>0</td>\n",
       "      <td>0</td>\n",
       "      <td>0</td>\n",
       "    </tr>\n",
       "    <tr>\n",
       "      <th>20397</th>\n",
       "      <td>14131</td>\n",
       "      <td>-2.057.304.700.720.840</td>\n",
       "      <td>-2.120.831.230.909.820</td>\n",
       "      <td>1</td>\n",
       "      <td>1</td>\n",
       "      <td>1</td>\n",
       "      <td>7</td>\n",
       "      <td>5.9</td>\n",
       "      <td>1</td>\n",
       "      <td>20</td>\n",
       "      <td>45200</td>\n",
       "      <td>10740</td>\n",
       "      <td>38600</td>\n",
       "      <td>32060</td>\n",
       "      <td>17211</td>\n",
       "      <td>0.3832</td>\n",
       "      <td>0.0925</td>\n",
       "      <td>0.5748</td>\n",
       "      <td>0.2415</td>\n",
       "      <td>0.5646</td>\n",
       "      <td>3.5940</td>\n",
       "      <td>2.2427</td>\n",
       "      <td>1.2039</td>\n",
       "      <td>0.1856</td>\n",
       "      <td>-0.2315</td>\n",
       "      <td>-0.4394</td>\n",
       "      <td>1</td>\n",
       "      <td>0</td>\n",
       "      <td>0.0</td>\n",
       "      <td>20180930</td>\n",
       "      <td>20181128</td>\n",
       "      <td>59.0</td>\n",
       "      <td>7542</td>\n",
       "      <td>1</td>\n",
       "      <td>0</td>\n",
       "      <td>20180930</td>\n",
       "      <td>27.38</td>\n",
       "      <td>976.875</td>\n",
       "      <td>22.9</td>\n",
       "      <td>0.0</td>\n",
       "      <td>26.454</td>\n",
       "      <td>91.62</td>\n",
       "      <td>0</td>\n",
       "      <td>0</td>\n",
       "      <td>0</td>\n",
       "      <td>0</td>\n",
       "      <td>0</td>\n",
       "      <td>0</td>\n",
       "      <td>0</td>\n",
       "      <td>0</td>\n",
       "      <td>0</td>\n",
       "      <td>0</td>\n",
       "      <td>0</td>\n",
       "      <td>0</td>\n",
       "      <td>1</td>\n",
       "      <td>0</td>\n",
       "      <td>0</td>\n",
       "      <td>0</td>\n",
       "      <td>0</td>\n",
       "      <td>0</td>\n",
       "      <td>0</td>\n",
       "      <td>0</td>\n",
       "    </tr>\n",
       "  </tbody>\n",
       "</table>\n",
       "</div>"
      ],
      "text/plain": [
       "          ID               Longitude  ... Variedad_T  Variedad_U\n",
       "11253  13206  -2.057.282.090.758.630  ...          0           0\n",
       "286      290  -2.057.276.510.751.440  ...          0           0\n",
       "25599  13026  -2.057.283.354.966.700  ...          0           0\n",
       "22581  16571  -2.057.298.280.068.390  ...          0           0\n",
       "20397  14131  -2.057.304.700.720.840  ...          0           0\n",
       "\n",
       "[5 rows x 62 columns]"
      ]
     },
     "execution_count": 7,
     "metadata": {
      "tags": []
     },
     "output_type": "execute_result"
    }
   ],
   "source": [
    "# Ciclos; Asignar el valor 0 al ciclo corto y valor 1 al ciclo largo\n",
    "dataset['Ciclos'] = dataset['Ciclos'].replace(['CC'], 0)\n",
    "dataset['Ciclos'] = dataset['Ciclos'].replace(['CL'], 1)\n",
    "\n",
    "# Conjunto de datos; Asignar 1 correspondiente a la 1° fecha de siembra, o 0 en caso contrario.\n",
    "dataset['Conjunto_de_datos'] = dataset['Conjunto_de_datos'].replace(['2daSiembra'], 0)\n",
    "dataset['Conjunto_de_datos'] = dataset['Conjunto_de_datos'].replace(['1er Siembra'], 1)\n",
    "\n",
    "# Transformar las variables categóricas en variables numéricas\n",
    "dataset = pd.get_dummies(dataset, columns=['Variedad'], drop_first=True)\n",
    "dataset.columns = dataset.columns.str.replace('Variedad_Variedad_', 'Variedad_')\n",
    "\n",
    "# Convertir longitud,latitud y fechas a numericas\n",
    "\n",
    "dataset.Fecha_de_espigazon = dataset['Fecha_de_espigazon'].str.replace('-','').astype(int)\n",
    "dataset.Fecha_de_madurez = dataset['Fecha_de_madurez'].str.replace('-','').astype(int)\n",
    "dataset.Fecha = dataset['Fecha'].str.replace('-','').astype(int)\n",
    "\n",
    "dataset.sample(5)\n",
    "\n"
   ]
  },
  {
   "cell_type": "code",
   "execution_count": null,
   "metadata": {
    "colab": {},
    "colab_type": "code",
    "id": "F1iB03EqFv-0"
   },
   "outputs": [],
   "source": [
    "# Keep only data columns\n",
    "feature_names = dataset.columns.values.tolist()\n",
    "feature_names.remove('ID')\n",
    "feature_names.remove('RDTO')\n",
    "feature_names.remove('Longitude')\n",
    "feature_names.remove('Latitude')\n",
    "\n",
    "# Create dron dict\n",
    "dron = dict()\n",
    "dron['feature_names'] = np.array(feature_names)\n",
    "dron[\"data\"] = dataset[feature_names].to_numpy()\n",
    "dron[\"target\"] = dataset.RDTO.to_numpy()"
   ]
  },
  {
   "cell_type": "code",
   "execution_count": null,
   "metadata": {
    "colab": {
     "base_uri": "https://localhost:8080/",
     "height": 34
    },
    "colab_type": "code",
    "id": "ghDjKs7-fQ2V",
    "outputId": "f12feae5-74fc-4db4-8112-eeb14df6c3d4"
   },
   "outputs": [
    {
     "data": {
      "text/plain": [
       "((23659, 58), (5915, 58), (23659,), (5915,))"
      ]
     },
     "execution_count": 9,
     "metadata": {
      "tags": []
     },
     "output_type": "execute_result"
    }
   ],
   "source": [
    "# División entre instancias y etiquetas\n",
    "X, y = dron[\"data\"], dron[\"target\"]\n",
    "X_train, X_test, y_train, y_test = train_test_split(X, y, test_size=0.20, random_state=0)\n",
    "X_train.shape, X_test.shape, y_train.shape, y_test.shape"
   ]
  },
  {
   "cell_type": "code",
   "execution_count": null,
   "metadata": {
    "colab": {
     "base_uri": "https://localhost:8080/",
     "height": 439
    },
    "colab_type": "code",
    "id": "VqnDWVWJKN2l",
    "outputId": "51dbef75-59ae-4a87-92e3-01f05de37d15"
   },
   "outputs": [
    {
     "data": {
      "text/html": [
       "<div>\n",
       "<style scoped>\n",
       "    .dataframe tbody tr th:only-of-type {\n",
       "        vertical-align: middle;\n",
       "    }\n",
       "\n",
       "    .dataframe tbody tr th {\n",
       "        vertical-align: top;\n",
       "    }\n",
       "\n",
       "    .dataframe thead th {\n",
       "        text-align: right;\n",
       "    }\n",
       "</style>\n",
       "<table border=\"1\" class=\"dataframe\">\n",
       "  <thead>\n",
       "    <tr style=\"text-align: right;\">\n",
       "      <th></th>\n",
       "      <th>Conjunto_de_datos</th>\n",
       "      <th>Ciclos</th>\n",
       "      <th>Rep</th>\n",
       "      <th>Parcela</th>\n",
       "      <th>ZADOCK</th>\n",
       "      <th>fila</th>\n",
       "      <th>columna</th>\n",
       "      <th>Azul</th>\n",
       "      <th>Verde</th>\n",
       "      <th>InfraRojo</th>\n",
       "      <th>Borde_rojo</th>\n",
       "      <th>_Rojo</th>\n",
       "      <th>NDVI</th>\n",
       "      <th>NDRE</th>\n",
       "      <th>SAVI</th>\n",
       "      <th>SCCI</th>\n",
       "      <th>GNDVI</th>\n",
       "      <th>GVI</th>\n",
       "      <th>RVI</th>\n",
       "      <th>RedEdg</th>\n",
       "      <th>LNVI</th>\n",
       "      <th>GRVI</th>\n",
       "      <th>MGRVI</th>\n",
       "      <th>Roya_porcentaje</th>\n",
       "      <th>Carbon_porcentaje</th>\n",
       "      <th>Adversidades</th>\n",
       "      <th>Fecha_de_espigazon</th>\n",
       "      <th>Fecha_de_madurez</th>\n",
       "      <th>dias_entre_fechas</th>\n",
       "      <th>Fusariosis_otros</th>\n",
       "      <th>Manchas_Foliares_otros</th>\n",
       "      <th>Fecha</th>\n",
       "      <th>Temp_centigrados_Máx</th>\n",
       "      <th>Presion_hPa_Máx</th>\n",
       "      <th>Temp_suelo_centigrados_Máx</th>\n",
       "      <th>Intende_Lluvia_mm_h</th>\n",
       "      <th>Vel_de_Viento_Km_h_Máx</th>\n",
       "      <th>Hum_porcentajeHR_Máx</th>\n",
       "      <th>Variedad_B</th>\n",
       "      <th>Variedad_C</th>\n",
       "      <th>Variedad_D</th>\n",
       "      <th>Variedad_E</th>\n",
       "      <th>Variedad_F</th>\n",
       "      <th>Variedad_G</th>\n",
       "      <th>Variedad_H</th>\n",
       "      <th>Variedad_I</th>\n",
       "      <th>Variedad_J</th>\n",
       "      <th>Variedad_K</th>\n",
       "      <th>Variedad_L</th>\n",
       "      <th>Variedad_M</th>\n",
       "      <th>Variedad_N</th>\n",
       "      <th>Variedad_O</th>\n",
       "      <th>Variedad_P</th>\n",
       "      <th>Variedad_Q</th>\n",
       "      <th>Variedad_R</th>\n",
       "      <th>Variedad_S</th>\n",
       "      <th>Variedad_T</th>\n",
       "      <th>Variedad_U</th>\n",
       "    </tr>\n",
       "  </thead>\n",
       "  <tbody>\n",
       "    <tr>\n",
       "      <th>0</th>\n",
       "      <td>0</td>\n",
       "      <td>1</td>\n",
       "      <td>2</td>\n",
       "      <td>89</td>\n",
       "      <td>4.3</td>\n",
       "      <td>2</td>\n",
       "      <td>43</td>\n",
       "      <td>56800</td>\n",
       "      <td>13050</td>\n",
       "      <td>56200</td>\n",
       "      <td>32100</td>\n",
       "      <td>13653</td>\n",
       "      <td>0.6090</td>\n",
       "      <td>0.2729</td>\n",
       "      <td>0.9136</td>\n",
       "      <td>0.4480</td>\n",
       "      <td>0.6231</td>\n",
       "      <td>4.3065</td>\n",
       "      <td>4.1163</td>\n",
       "      <td>1.7507</td>\n",
       "      <td>0.5600</td>\n",
       "      <td>-0.02250</td>\n",
       "      <td>-0.04510</td>\n",
       "      <td>1</td>\n",
       "      <td>0</td>\n",
       "      <td>0.0</td>\n",
       "      <td>20181210</td>\n",
       "      <td>20180112</td>\n",
       "      <td>50.0</td>\n",
       "      <td>0</td>\n",
       "      <td>0</td>\n",
       "      <td>20181210</td>\n",
       "      <td>19.40</td>\n",
       "      <td>985.625</td>\n",
       "      <td>15.0</td>\n",
       "      <td>1.2</td>\n",
       "      <td>18.407</td>\n",
       "      <td>98.24</td>\n",
       "      <td>0</td>\n",
       "      <td>0</td>\n",
       "      <td>0</td>\n",
       "      <td>0</td>\n",
       "      <td>0</td>\n",
       "      <td>0</td>\n",
       "      <td>0</td>\n",
       "      <td>0</td>\n",
       "      <td>0</td>\n",
       "      <td>1</td>\n",
       "      <td>0</td>\n",
       "      <td>0</td>\n",
       "      <td>0</td>\n",
       "      <td>0</td>\n",
       "      <td>0</td>\n",
       "      <td>0</td>\n",
       "      <td>0</td>\n",
       "      <td>0</td>\n",
       "      <td>0</td>\n",
       "      <td>0</td>\n",
       "    </tr>\n",
       "    <tr>\n",
       "      <th>1</th>\n",
       "      <td>0</td>\n",
       "      <td>1</td>\n",
       "      <td>2</td>\n",
       "      <td>89</td>\n",
       "      <td>4.3</td>\n",
       "      <td>2</td>\n",
       "      <td>43</td>\n",
       "      <td>52800</td>\n",
       "      <td>11800</td>\n",
       "      <td>50600</td>\n",
       "      <td>30590</td>\n",
       "      <td>16463</td>\n",
       "      <td>0.5090</td>\n",
       "      <td>0.2464</td>\n",
       "      <td>0.7635</td>\n",
       "      <td>0.4841</td>\n",
       "      <td>0.6217</td>\n",
       "      <td>4.2881</td>\n",
       "      <td>3.0735</td>\n",
       "      <td>1.6541</td>\n",
       "      <td>0.5032</td>\n",
       "      <td>-0.16490</td>\n",
       "      <td>-0.32120</td>\n",
       "      <td>1</td>\n",
       "      <td>0</td>\n",
       "      <td>0.0</td>\n",
       "      <td>20181210</td>\n",
       "      <td>20180112</td>\n",
       "      <td>50.0</td>\n",
       "      <td>0</td>\n",
       "      <td>0</td>\n",
       "      <td>20181210</td>\n",
       "      <td>19.40</td>\n",
       "      <td>985.625</td>\n",
       "      <td>15.0</td>\n",
       "      <td>1.2</td>\n",
       "      <td>18.407</td>\n",
       "      <td>98.24</td>\n",
       "      <td>0</td>\n",
       "      <td>0</td>\n",
       "      <td>0</td>\n",
       "      <td>0</td>\n",
       "      <td>0</td>\n",
       "      <td>0</td>\n",
       "      <td>0</td>\n",
       "      <td>0</td>\n",
       "      <td>0</td>\n",
       "      <td>1</td>\n",
       "      <td>0</td>\n",
       "      <td>0</td>\n",
       "      <td>0</td>\n",
       "      <td>0</td>\n",
       "      <td>0</td>\n",
       "      <td>0</td>\n",
       "      <td>0</td>\n",
       "      <td>0</td>\n",
       "      <td>0</td>\n",
       "      <td>0</td>\n",
       "    </tr>\n",
       "    <tr>\n",
       "      <th>2</th>\n",
       "      <td>0</td>\n",
       "      <td>1</td>\n",
       "      <td>2</td>\n",
       "      <td>89</td>\n",
       "      <td>4.3</td>\n",
       "      <td>2</td>\n",
       "      <td>43</td>\n",
       "      <td>50600</td>\n",
       "      <td>11530</td>\n",
       "      <td>48800</td>\n",
       "      <td>30310</td>\n",
       "      <td>16137</td>\n",
       "      <td>0.5029</td>\n",
       "      <td>0.2337</td>\n",
       "      <td>0.7544</td>\n",
       "      <td>0.4646</td>\n",
       "      <td>0.6177</td>\n",
       "      <td>4.2324</td>\n",
       "      <td>3.0241</td>\n",
       "      <td>1.6100</td>\n",
       "      <td>0.4762</td>\n",
       "      <td>-0.16650</td>\n",
       "      <td>-0.32400</td>\n",
       "      <td>1</td>\n",
       "      <td>0</td>\n",
       "      <td>0.0</td>\n",
       "      <td>20181210</td>\n",
       "      <td>20180112</td>\n",
       "      <td>50.0</td>\n",
       "      <td>0</td>\n",
       "      <td>0</td>\n",
       "      <td>20181210</td>\n",
       "      <td>19.40</td>\n",
       "      <td>985.625</td>\n",
       "      <td>15.0</td>\n",
       "      <td>1.2</td>\n",
       "      <td>18.407</td>\n",
       "      <td>98.24</td>\n",
       "      <td>0</td>\n",
       "      <td>0</td>\n",
       "      <td>0</td>\n",
       "      <td>0</td>\n",
       "      <td>0</td>\n",
       "      <td>0</td>\n",
       "      <td>0</td>\n",
       "      <td>0</td>\n",
       "      <td>0</td>\n",
       "      <td>1</td>\n",
       "      <td>0</td>\n",
       "      <td>0</td>\n",
       "      <td>0</td>\n",
       "      <td>0</td>\n",
       "      <td>0</td>\n",
       "      <td>0</td>\n",
       "      <td>0</td>\n",
       "      <td>0</td>\n",
       "      <td>0</td>\n",
       "      <td>0</td>\n",
       "    </tr>\n",
       "    <tr>\n",
       "      <th>3</th>\n",
       "      <td>0</td>\n",
       "      <td>1</td>\n",
       "      <td>2</td>\n",
       "      <td>89</td>\n",
       "      <td>4.3</td>\n",
       "      <td>2</td>\n",
       "      <td>43</td>\n",
       "      <td>60100</td>\n",
       "      <td>11870</td>\n",
       "      <td>63800</td>\n",
       "      <td>30330</td>\n",
       "      <td>11869</td>\n",
       "      <td>0.6862</td>\n",
       "      <td>0.3555</td>\n",
       "      <td>1.0294</td>\n",
       "      <td>0.5181</td>\n",
       "      <td>0.6862</td>\n",
       "      <td>5.3748</td>\n",
       "      <td>5.3753</td>\n",
       "      <td>2.1035</td>\n",
       "      <td>0.7436</td>\n",
       "      <td>0.00004</td>\n",
       "      <td>0.00008</td>\n",
       "      <td>1</td>\n",
       "      <td>0</td>\n",
       "      <td>0.0</td>\n",
       "      <td>20181210</td>\n",
       "      <td>20180112</td>\n",
       "      <td>50.0</td>\n",
       "      <td>0</td>\n",
       "      <td>0</td>\n",
       "      <td>20181210</td>\n",
       "      <td>19.40</td>\n",
       "      <td>985.625</td>\n",
       "      <td>15.0</td>\n",
       "      <td>1.2</td>\n",
       "      <td>18.407</td>\n",
       "      <td>98.24</td>\n",
       "      <td>0</td>\n",
       "      <td>0</td>\n",
       "      <td>0</td>\n",
       "      <td>0</td>\n",
       "      <td>0</td>\n",
       "      <td>0</td>\n",
       "      <td>0</td>\n",
       "      <td>0</td>\n",
       "      <td>0</td>\n",
       "      <td>1</td>\n",
       "      <td>0</td>\n",
       "      <td>0</td>\n",
       "      <td>0</td>\n",
       "      <td>0</td>\n",
       "      <td>0</td>\n",
       "      <td>0</td>\n",
       "      <td>0</td>\n",
       "      <td>0</td>\n",
       "      <td>0</td>\n",
       "      <td>0</td>\n",
       "    </tr>\n",
       "    <tr>\n",
       "      <th>4</th>\n",
       "      <td>0</td>\n",
       "      <td>1</td>\n",
       "      <td>2</td>\n",
       "      <td>89</td>\n",
       "      <td>4.3</td>\n",
       "      <td>2</td>\n",
       "      <td>43</td>\n",
       "      <td>49000</td>\n",
       "      <td>11310</td>\n",
       "      <td>52100</td>\n",
       "      <td>30130</td>\n",
       "      <td>14079</td>\n",
       "      <td>0.5745</td>\n",
       "      <td>0.2671</td>\n",
       "      <td>0.8617</td>\n",
       "      <td>0.4650</td>\n",
       "      <td>0.6432</td>\n",
       "      <td>4.6065</td>\n",
       "      <td>3.7005</td>\n",
       "      <td>1.7291</td>\n",
       "      <td>0.5476</td>\n",
       "      <td>-0.10900</td>\n",
       "      <td>-0.21550</td>\n",
       "      <td>1</td>\n",
       "      <td>0</td>\n",
       "      <td>0.0</td>\n",
       "      <td>20181210</td>\n",
       "      <td>20180112</td>\n",
       "      <td>50.0</td>\n",
       "      <td>0</td>\n",
       "      <td>0</td>\n",
       "      <td>20181210</td>\n",
       "      <td>19.40</td>\n",
       "      <td>985.625</td>\n",
       "      <td>15.0</td>\n",
       "      <td>1.2</td>\n",
       "      <td>18.407</td>\n",
       "      <td>98.24</td>\n",
       "      <td>0</td>\n",
       "      <td>0</td>\n",
       "      <td>0</td>\n",
       "      <td>0</td>\n",
       "      <td>0</td>\n",
       "      <td>0</td>\n",
       "      <td>0</td>\n",
       "      <td>0</td>\n",
       "      <td>0</td>\n",
       "      <td>1</td>\n",
       "      <td>0</td>\n",
       "      <td>0</td>\n",
       "      <td>0</td>\n",
       "      <td>0</td>\n",
       "      <td>0</td>\n",
       "      <td>0</td>\n",
       "      <td>0</td>\n",
       "      <td>0</td>\n",
       "      <td>0</td>\n",
       "      <td>0</td>\n",
       "    </tr>\n",
       "    <tr>\n",
       "      <th>...</th>\n",
       "      <td>...</td>\n",
       "      <td>...</td>\n",
       "      <td>...</td>\n",
       "      <td>...</td>\n",
       "      <td>...</td>\n",
       "      <td>...</td>\n",
       "      <td>...</td>\n",
       "      <td>...</td>\n",
       "      <td>...</td>\n",
       "      <td>...</td>\n",
       "      <td>...</td>\n",
       "      <td>...</td>\n",
       "      <td>...</td>\n",
       "      <td>...</td>\n",
       "      <td>...</td>\n",
       "      <td>...</td>\n",
       "      <td>...</td>\n",
       "      <td>...</td>\n",
       "      <td>...</td>\n",
       "      <td>...</td>\n",
       "      <td>...</td>\n",
       "      <td>...</td>\n",
       "      <td>...</td>\n",
       "      <td>...</td>\n",
       "      <td>...</td>\n",
       "      <td>...</td>\n",
       "      <td>...</td>\n",
       "      <td>...</td>\n",
       "      <td>...</td>\n",
       "      <td>...</td>\n",
       "      <td>...</td>\n",
       "      <td>...</td>\n",
       "      <td>...</td>\n",
       "      <td>...</td>\n",
       "      <td>...</td>\n",
       "      <td>...</td>\n",
       "      <td>...</td>\n",
       "      <td>...</td>\n",
       "      <td>...</td>\n",
       "      <td>...</td>\n",
       "      <td>...</td>\n",
       "      <td>...</td>\n",
       "      <td>...</td>\n",
       "      <td>...</td>\n",
       "      <td>...</td>\n",
       "      <td>...</td>\n",
       "      <td>...</td>\n",
       "      <td>...</td>\n",
       "      <td>...</td>\n",
       "      <td>...</td>\n",
       "      <td>...</td>\n",
       "      <td>...</td>\n",
       "      <td>...</td>\n",
       "      <td>...</td>\n",
       "      <td>...</td>\n",
       "      <td>...</td>\n",
       "      <td>...</td>\n",
       "      <td>...</td>\n",
       "    </tr>\n",
       "    <tr>\n",
       "      <th>29569</th>\n",
       "      <td>1</td>\n",
       "      <td>1</td>\n",
       "      <td>3</td>\n",
       "      <td>33</td>\n",
       "      <td>5.8</td>\n",
       "      <td>3</td>\n",
       "      <td>24</td>\n",
       "      <td>61300</td>\n",
       "      <td>16670</td>\n",
       "      <td>65900</td>\n",
       "      <td>45630</td>\n",
       "      <td>20960</td>\n",
       "      <td>0.5173</td>\n",
       "      <td>0.1817</td>\n",
       "      <td>0.7760</td>\n",
       "      <td>0.3512</td>\n",
       "      <td>0.5962</td>\n",
       "      <td>3.9532</td>\n",
       "      <td>3.1440</td>\n",
       "      <td>1.4442</td>\n",
       "      <td>0.3675</td>\n",
       "      <td>-0.11400</td>\n",
       "      <td>-0.22500</td>\n",
       "      <td>0</td>\n",
       "      <td>0</td>\n",
       "      <td>0.0</td>\n",
       "      <td>20180110</td>\n",
       "      <td>20181124</td>\n",
       "      <td>54.0</td>\n",
       "      <td>0</td>\n",
       "      <td>0</td>\n",
       "      <td>20180110</td>\n",
       "      <td>17.37</td>\n",
       "      <td>986.875</td>\n",
       "      <td>21.2</td>\n",
       "      <td>0.0</td>\n",
       "      <td>36.713</td>\n",
       "      <td>89.10</td>\n",
       "      <td>0</td>\n",
       "      <td>0</td>\n",
       "      <td>0</td>\n",
       "      <td>0</td>\n",
       "      <td>0</td>\n",
       "      <td>0</td>\n",
       "      <td>0</td>\n",
       "      <td>0</td>\n",
       "      <td>0</td>\n",
       "      <td>0</td>\n",
       "      <td>0</td>\n",
       "      <td>0</td>\n",
       "      <td>0</td>\n",
       "      <td>0</td>\n",
       "      <td>0</td>\n",
       "      <td>0</td>\n",
       "      <td>1</td>\n",
       "      <td>0</td>\n",
       "      <td>0</td>\n",
       "      <td>0</td>\n",
       "    </tr>\n",
       "    <tr>\n",
       "      <th>29570</th>\n",
       "      <td>1</td>\n",
       "      <td>1</td>\n",
       "      <td>3</td>\n",
       "      <td>33</td>\n",
       "      <td>5.8</td>\n",
       "      <td>3</td>\n",
       "      <td>24</td>\n",
       "      <td>59200</td>\n",
       "      <td>15900</td>\n",
       "      <td>64200</td>\n",
       "      <td>44980</td>\n",
       "      <td>20281</td>\n",
       "      <td>0.5198</td>\n",
       "      <td>0.1760</td>\n",
       "      <td>0.7797</td>\n",
       "      <td>0.3386</td>\n",
       "      <td>0.6029</td>\n",
       "      <td>4.0377</td>\n",
       "      <td>3.1655</td>\n",
       "      <td>1.4273</td>\n",
       "      <td>0.3557</td>\n",
       "      <td>-0.12100</td>\n",
       "      <td>-0.23860</td>\n",
       "      <td>0</td>\n",
       "      <td>0</td>\n",
       "      <td>0.0</td>\n",
       "      <td>20180110</td>\n",
       "      <td>20181124</td>\n",
       "      <td>54.0</td>\n",
       "      <td>0</td>\n",
       "      <td>0</td>\n",
       "      <td>20180110</td>\n",
       "      <td>17.37</td>\n",
       "      <td>986.875</td>\n",
       "      <td>21.2</td>\n",
       "      <td>0.0</td>\n",
       "      <td>36.713</td>\n",
       "      <td>89.10</td>\n",
       "      <td>0</td>\n",
       "      <td>0</td>\n",
       "      <td>0</td>\n",
       "      <td>0</td>\n",
       "      <td>0</td>\n",
       "      <td>0</td>\n",
       "      <td>0</td>\n",
       "      <td>0</td>\n",
       "      <td>0</td>\n",
       "      <td>0</td>\n",
       "      <td>0</td>\n",
       "      <td>0</td>\n",
       "      <td>0</td>\n",
       "      <td>0</td>\n",
       "      <td>0</td>\n",
       "      <td>0</td>\n",
       "      <td>1</td>\n",
       "      <td>0</td>\n",
       "      <td>0</td>\n",
       "      <td>0</td>\n",
       "    </tr>\n",
       "    <tr>\n",
       "      <th>29571</th>\n",
       "      <td>1</td>\n",
       "      <td>1</td>\n",
       "      <td>3</td>\n",
       "      <td>33</td>\n",
       "      <td>5.8</td>\n",
       "      <td>3</td>\n",
       "      <td>24</td>\n",
       "      <td>56500</td>\n",
       "      <td>14670</td>\n",
       "      <td>59800</td>\n",
       "      <td>42460</td>\n",
       "      <td>19656</td>\n",
       "      <td>0.5052</td>\n",
       "      <td>0.1695</td>\n",
       "      <td>0.7578</td>\n",
       "      <td>0.3356</td>\n",
       "      <td>0.6060</td>\n",
       "      <td>4.0763</td>\n",
       "      <td>3.0423</td>\n",
       "      <td>1.4083</td>\n",
       "      <td>0.3424</td>\n",
       "      <td>-0.14520</td>\n",
       "      <td>-0.28450</td>\n",
       "      <td>0</td>\n",
       "      <td>0</td>\n",
       "      <td>0.0</td>\n",
       "      <td>20180110</td>\n",
       "      <td>20181124</td>\n",
       "      <td>54.0</td>\n",
       "      <td>0</td>\n",
       "      <td>0</td>\n",
       "      <td>20180110</td>\n",
       "      <td>17.37</td>\n",
       "      <td>986.875</td>\n",
       "      <td>21.2</td>\n",
       "      <td>0.0</td>\n",
       "      <td>36.713</td>\n",
       "      <td>89.10</td>\n",
       "      <td>0</td>\n",
       "      <td>0</td>\n",
       "      <td>0</td>\n",
       "      <td>0</td>\n",
       "      <td>0</td>\n",
       "      <td>0</td>\n",
       "      <td>0</td>\n",
       "      <td>0</td>\n",
       "      <td>0</td>\n",
       "      <td>0</td>\n",
       "      <td>0</td>\n",
       "      <td>0</td>\n",
       "      <td>0</td>\n",
       "      <td>0</td>\n",
       "      <td>0</td>\n",
       "      <td>0</td>\n",
       "      <td>1</td>\n",
       "      <td>0</td>\n",
       "      <td>0</td>\n",
       "      <td>0</td>\n",
       "    </tr>\n",
       "    <tr>\n",
       "      <th>29572</th>\n",
       "      <td>1</td>\n",
       "      <td>1</td>\n",
       "      <td>3</td>\n",
       "      <td>33</td>\n",
       "      <td>5.8</td>\n",
       "      <td>3</td>\n",
       "      <td>24</td>\n",
       "      <td>54500</td>\n",
       "      <td>13720</td>\n",
       "      <td>43600</td>\n",
       "      <td>34180</td>\n",
       "      <td>16346</td>\n",
       "      <td>0.4546</td>\n",
       "      <td>0.1211</td>\n",
       "      <td>0.6819</td>\n",
       "      <td>0.2663</td>\n",
       "      <td>0.5212</td>\n",
       "      <td>3.1778</td>\n",
       "      <td>2.6673</td>\n",
       "      <td>1.2755</td>\n",
       "      <td>0.2434</td>\n",
       "      <td>-0.08730</td>\n",
       "      <td>-0.17330</td>\n",
       "      <td>0</td>\n",
       "      <td>0</td>\n",
       "      <td>0.0</td>\n",
       "      <td>20180110</td>\n",
       "      <td>20181124</td>\n",
       "      <td>54.0</td>\n",
       "      <td>0</td>\n",
       "      <td>0</td>\n",
       "      <td>20180110</td>\n",
       "      <td>17.37</td>\n",
       "      <td>986.875</td>\n",
       "      <td>21.2</td>\n",
       "      <td>0.0</td>\n",
       "      <td>36.713</td>\n",
       "      <td>89.10</td>\n",
       "      <td>0</td>\n",
       "      <td>0</td>\n",
       "      <td>0</td>\n",
       "      <td>0</td>\n",
       "      <td>0</td>\n",
       "      <td>0</td>\n",
       "      <td>0</td>\n",
       "      <td>0</td>\n",
       "      <td>0</td>\n",
       "      <td>0</td>\n",
       "      <td>0</td>\n",
       "      <td>0</td>\n",
       "      <td>0</td>\n",
       "      <td>0</td>\n",
       "      <td>0</td>\n",
       "      <td>0</td>\n",
       "      <td>1</td>\n",
       "      <td>0</td>\n",
       "      <td>0</td>\n",
       "      <td>0</td>\n",
       "    </tr>\n",
       "    <tr>\n",
       "      <th>29573</th>\n",
       "      <td>1</td>\n",
       "      <td>1</td>\n",
       "      <td>3</td>\n",
       "      <td>33</td>\n",
       "      <td>5.8</td>\n",
       "      <td>3</td>\n",
       "      <td>24</td>\n",
       "      <td>56500</td>\n",
       "      <td>15970</td>\n",
       "      <td>59100</td>\n",
       "      <td>43420</td>\n",
       "      <td>19975</td>\n",
       "      <td>0.4947</td>\n",
       "      <td>0.1529</td>\n",
       "      <td>0.7421</td>\n",
       "      <td>0.3091</td>\n",
       "      <td>0.5745</td>\n",
       "      <td>3.7006</td>\n",
       "      <td>2.9586</td>\n",
       "      <td>1.3611</td>\n",
       "      <td>0.3083</td>\n",
       "      <td>-0.11140</td>\n",
       "      <td>-0.22010</td>\n",
       "      <td>0</td>\n",
       "      <td>0</td>\n",
       "      <td>0.0</td>\n",
       "      <td>20180110</td>\n",
       "      <td>20181124</td>\n",
       "      <td>54.0</td>\n",
       "      <td>0</td>\n",
       "      <td>0</td>\n",
       "      <td>20180110</td>\n",
       "      <td>17.37</td>\n",
       "      <td>986.875</td>\n",
       "      <td>21.2</td>\n",
       "      <td>0.0</td>\n",
       "      <td>36.713</td>\n",
       "      <td>89.10</td>\n",
       "      <td>0</td>\n",
       "      <td>0</td>\n",
       "      <td>0</td>\n",
       "      <td>0</td>\n",
       "      <td>0</td>\n",
       "      <td>0</td>\n",
       "      <td>0</td>\n",
       "      <td>0</td>\n",
       "      <td>0</td>\n",
       "      <td>0</td>\n",
       "      <td>0</td>\n",
       "      <td>0</td>\n",
       "      <td>0</td>\n",
       "      <td>0</td>\n",
       "      <td>0</td>\n",
       "      <td>0</td>\n",
       "      <td>1</td>\n",
       "      <td>0</td>\n",
       "      <td>0</td>\n",
       "      <td>0</td>\n",
       "    </tr>\n",
       "  </tbody>\n",
       "</table>\n",
       "<p>29574 rows × 58 columns</p>\n",
       "</div>"
      ],
      "text/plain": [
       "       Conjunto_de_datos  Ciclos  Rep  ...  Variedad_S  Variedad_T  Variedad_U\n",
       "0                      0       1    2  ...           0           0           0\n",
       "1                      0       1    2  ...           0           0           0\n",
       "2                      0       1    2  ...           0           0           0\n",
       "3                      0       1    2  ...           0           0           0\n",
       "4                      0       1    2  ...           0           0           0\n",
       "...                  ...     ...  ...  ...         ...         ...         ...\n",
       "29569                  1       1    3  ...           0           0           0\n",
       "29570                  1       1    3  ...           0           0           0\n",
       "29571                  1       1    3  ...           0           0           0\n",
       "29572                  1       1    3  ...           0           0           0\n",
       "29573                  1       1    3  ...           0           0           0\n",
       "\n",
       "[29574 rows x 58 columns]"
      ]
     },
     "execution_count": 10,
     "metadata": {
      "tags": []
     },
     "output_type": "execute_result"
    }
   ],
   "source": [
    "dataset[feature_names]"
   ]
  },
  {
   "cell_type": "markdown",
   "metadata": {
    "colab_type": "text",
    "id": "CzNExedHqhOe"
   },
   "source": [
    "###**1.Regresión**"
   ]
  },
  {
   "cell_type": "markdown",
   "metadata": {
    "colab_type": "text",
    "id": "FOWkRyZao8Dx"
   },
   "source": [
    "###**1.1.Regresión Lineal**"
   ]
  },
  {
   "cell_type": "markdown",
   "metadata": {
    "colab_type": "text",
    "id": "DJFbHuOojxfb"
   },
   "source": [
    "Elegir un atributo para el target \"RDTO\", instancie una regresión lineal,evaluar ECM de train y test, grafique el modelo junto a los puntos de train y test.Interprete el resultado, haciendo algún comentario sobre las cualidades del modelo obtenido.https://scikit-learn.org/stable/modules/generated/sklearn.linear_model.LinearRegression.html"
   ]
  },
  {
   "cell_type": "code",
   "execution_count": null,
   "metadata": {
    "colab": {
     "base_uri": "https://localhost:8080/",
     "height": 34
    },
    "colab_type": "code",
    "id": "s8hkX_-5lpL7",
    "outputId": "51023aa6-462d-4164-ec1c-388f46ba1805"
   },
   "outputs": [
    {
     "data": {
      "text/plain": [
       "((23659, 1), (5915, 1))"
      ]
     },
     "execution_count": 11,
     "metadata": {
      "tags": []
     },
     "output_type": "execute_result"
    }
   ],
   "source": [
    "feature = 'Roya_porcentaje'\n",
    "selector = (dron['feature_names'] == feature)\n",
    "X_train_f = X_train[:, selector]\n",
    "X_test_f = X_test[:, selector]\n",
    "X_train_f.shape, X_test_f.shape"
   ]
  },
  {
   "cell_type": "code",
   "execution_count": null,
   "metadata": {
    "colab": {
     "base_uri": "https://localhost:8080/",
     "height": 281
    },
    "colab_type": "code",
    "id": "qo9R_WK-Fv_e",
    "outputId": "d29ffee2-d29c-49dc-d946-28f53336526b"
   },
   "outputs": [
    {
     "data": {
      "image/png": "[encoded data removed]",
      "text/plain": [
       "<Figure size 432x288 with 1 Axes>"
      ]
     },
     "metadata": {
      "needs_background": "light",
      "tags": []
     },
     "output_type": "display_data"
    }
   ],
   "source": [
    "# Instanciamos y entrenamos\n",
    "model = LinearRegression()\n",
    "model.fit(X_train_f, y_train)\n",
    "\n",
    "# Predecimos\n",
    "y_train_pred = model.predict(X_train_f)\n",
    "y_test_pred = model.predict(X_test_f)\n",
    "\n",
    "# Graficamos\n",
    "x_start = min(np.min(X_train_f), np.min(X_test_f))\n",
    "x_end = max(np.max(X_train_f), np.max(X_test_f))\n",
    "x = np.linspace(x_start, x_end, 200).reshape(-1, 1)\n",
    "plt.plot(x, model.predict(x), color=\"tomato\", label=\"modelo\")\n",
    "\n",
    "plt.scatter(X_train_f, y_train, facecolor=\"dodgerblue\", edgecolor=\"k\", label=\"train\")\n",
    "plt.scatter(X_test_f, y_test, facecolor=\"white\", edgecolor=\"k\", label=\"test\")\n",
    "plt.title(feature)\n",
    "plt.legend()\n",
    "plt.show()"
   ]
  },
  {
   "cell_type": "code",
   "execution_count": null,
   "metadata": {
    "colab": {
     "base_uri": "https://localhost:8080/",
     "height": 51
    },
    "colab_type": "code",
    "id": "V9EeayKVFv_m",
    "outputId": "8d3d0b3b-6b52-4403-d937-734a3c6935bb"
   },
   "outputs": [
    {
     "name": "stdout",
     "output_type": "stream",
     "text": [
      "Train error: 1260409.13\n",
      "Test error: 1189126.992615\n"
     ]
    }
   ],
   "source": [
    "train_error = mean_squared_error(y_train, y_train_pred)\n",
    "test_error = mean_squared_error(y_test, y_test_pred)\n",
    "print(f'Train error: {train_error:.2f}')\n",
    "print(f'Test error: {test_error:2f}')"
   ]
  },
  {
   "cell_type": "markdown",
   "metadata": {
    "colab_type": "text",
    "id": "KL50kDZvFv_z"
   },
   "source": [
    "#### INTERPRETACION"
   ]
  },
  {
   "cell_type": "markdown",
   "metadata": {
    "colab_type": "text",
    "id": "d4Xpo3BEy5en"
   },
   "source": [
    "Al ser un modelo lineal no es posible ajustar la recta a los valores por predecir. Ademas, notamos claramente que los errores tanto en train como en test son demasiados elevados.\n",
    "Tambien pudimos verificar, que haciendo varias pruebas con distintas variables, todas tenian un resultado similar, con errores altos."
   ]
  },
  {
   "cell_type": "markdown",
   "metadata": {
    "colab_type": "text",
    "id": "8_GLf_Pum924"
   },
   "source": [
    "###**1.2.Regresión Polinomial**"
   ]
  },
  {
   "cell_type": "markdown",
   "metadata": {
    "colab_type": "text",
    "id": "xsKuJLJTnYmw"
   },
   "source": [
    "En este ejercicio deben entrenar regresiones polinomiales de diferente complejidad, siempre usando scikit-learn.Deben usar el mismo atributo seleccionado para el ejercicio anterior.Instancie y entrene, prediga y calcule error train y test, imprima valores, guarde errores.\n",
    "Grafique las curvas de error en términos del grado del polinomio.\n",
    "Seleccione el modelo que mejor funcione, y grafique el modelo conjuntamente con los puntos.Interprete el resultado."
   ]
  },
  {
   "cell_type": "code",
   "execution_count": null,
   "metadata": {
    "colab": {},
    "colab_type": "code",
    "id": "ji3Y6SzlFv_5"
   },
   "outputs": [],
   "source": [
    "train_errors = []\n",
    "test_errors = []\n",
    "degrees = range(30)\n",
    "for degree in degrees:\n",
    "    # train:\n",
    "    model = make_pipeline(PolynomialFeatures(degree), LinearRegression())\n",
    "    model.fit(X_train_f, y_train)\n",
    "    \n",
    "    # predict:\n",
    "    y_train_pred = model.predict(X_train_f)\n",
    "    y_test_pred = model.predict(X_test_f)\n",
    "    \n",
    "    # evaluate:\n",
    "    train_error = mean_squared_error(y_train, y_train_pred)\n",
    "    test_error = mean_squared_error(y_test, y_test_pred)\n",
    "    train_errors.append(train_error)\n",
    "    test_errors.append(test_error)"
   ]
  },
  {
   "cell_type": "code",
   "execution_count": null,
   "metadata": {
    "colab": {
     "base_uri": "https://localhost:8080/",
     "height": 290
    },
    "colab_type": "code",
    "id": "Xvf3th-mFwAF",
    "outputId": "3ff0aa50-a7b6-4aa2-c378-2f5133b47000"
   },
   "outputs": [
    {
     "data": {
      "image/png": "[encoded data removed]",
      "text/plain": [
       "<Figure size 432x288 with 1 Axes>"
      ]
     },
     "metadata": {
      "needs_background": "light",
      "tags": []
     },
     "output_type": "display_data"
    }
   ],
   "source": [
    "# Graficamos curvas de error\n",
    "plt.plot(degrees, train_errors, color=\"blue\", label=\"train\")\n",
    "plt.plot(degrees, test_errors, color=\"red\", label=\"test\")\n",
    "plt.legend()\n",
    "plt.xlabel(\"degree\")\n",
    "plt.ylabel(\"error\")\n",
    "plt.show()"
   ]
  },
  {
   "cell_type": "code",
   "execution_count": null,
   "metadata": {
    "colab": {
     "base_uri": "https://localhost:8080/",
     "height": 281
    },
    "colab_type": "code",
    "id": "pv5CVB58FwAO",
    "outputId": "fc76057c-af03-4102-b37e-b01f0a539b8f"
   },
   "outputs": [
    {
     "data": {
      "image/png": "[encoded data removed]",
      "text/plain": [
       "<Figure size 432x288 with 1 Axes>"
      ]
     },
     "metadata": {
      "needs_background": "light",
      "tags": []
     },
     "output_type": "display_data"
    }
   ],
   "source": [
    "\n",
    "# Reconstruimos mejor modelo y graficamos\n",
    "\n",
    "# train:\n",
    "degree = 2\n",
    "model = make_pipeline(PolynomialFeatures(degree), LinearRegression())\n",
    "model.fit(X_train_f, y_train)\n",
    "    \n",
    "# predict:\n",
    "y_train_pred = model.predict(X_train_f)\n",
    "y_test_pred = model.predict(X_test_f)\n",
    "\n",
    "x_start = min(np.min(X_train_f), np.min(X_test_f))\n",
    "x_end = max(np.max(X_train_f), np.max(X_test_f))\n",
    "x = np.linspace(x_start, x_end, 200).reshape(-1, 1)\n",
    "plt.plot(x, model.predict(x), color=\"tomato\", label=\"modelo\")\n",
    "\n",
    "plt.scatter(X_train_f, y_train, facecolor=\"dodgerblue\", edgecolor=\"k\", label=\"train\")\n",
    "plt.scatter(X_test_f, y_test, facecolor=\"white\", edgecolor=\"k\", label=\"test\")\n",
    "plt.title(feature)\n",
    "plt.legend()\n",
    "plt.show()"
   ]
  },
  {
   "cell_type": "code",
   "execution_count": null,
   "metadata": {
    "colab": {
     "base_uri": "https://localhost:8080/",
     "height": 51
    },
    "colab_type": "code",
    "id": "DVaE2V0aFwAd",
    "outputId": "52b947c8-692d-4456-97b0-3439db643a0d"
   },
   "outputs": [
    {
     "name": "stdout",
     "output_type": "stream",
     "text": [
      "Train error: 37176.56\n",
      "Test error: 36007.834772\n"
     ]
    }
   ],
   "source": [
    "train_error = mean_squared_error(y_train, y_train_pred)\n",
    "test_error = mean_squared_error(y_test, y_test_pred)\n",
    "print(f'Train error: {train_error:.2f}')\n",
    "print(f'Test error: {test_error:2f}')"
   ]
  },
  {
   "cell_type": "markdown",
   "metadata": {
    "colab_type": "text",
    "id": "CHB8ZxBYFwAo"
   },
   "source": [
    "#### INTERPRETACION"
   ]
  },
  {
   "cell_type": "markdown",
   "metadata": {
    "colab_type": "text",
    "id": "k08dXwBN0cFb"
   },
   "source": [
    "Seleccionamos el modelo que contiene un polinomio de grado 2, ya que es el que contiene menor error. Asi mismo, concluimos que por mas que el modelo nos de la libertad de trabajar con distintos grados en el polinomio, esto no permite que disminuyan los errores, ni que la prediccion de los valores mejore. "
   ]
  },
  {
   "cell_type": "markdown",
   "metadata": {
    "colab_type": "text",
    "id": "j1sUR5Q_on1v"
   },
   "source": [
    "###**1.3.Regresión con más de un atributo**"
   ]
  },
  {
   "cell_type": "markdown",
   "metadata": {
    "colab_type": "text",
    "id": "qeHyqT_apQKH"
   },
   "source": [
    "Seleccione dos o tres atributos entre los más relevantes.\n",
    "Repita el ejercicio anterior, pero usando los atributos seleccionados.\n",
    "Interprete el resultado y compare con los ejercicios anteriores. ¿Se obtuvieron mejores modelos? ¿Porqué?"
   ]
  },
  {
   "cell_type": "code",
   "execution_count": null,
   "metadata": {
    "colab": {
     "base_uri": "https://localhost:8080/",
     "height": 34
    },
    "colab_type": "code",
    "id": "eRQqKlXxpgN3",
    "outputId": "e694b651-ed13-4d71-91b9-c24c2fee19a7"
   },
   "outputs": [
    {
     "data": {
      "text/plain": [
       "((23659, 3), (5915, 3))"
      ]
     },
     "execution_count": 17,
     "metadata": {
      "tags": []
     },
     "output_type": "execute_result"
    }
   ],
   "source": [
    "# Con dos atributos fs:\n",
    "#selector = ((dron['feature_names'] == 'Roya_porcentaje') | (dron['feature_names'] == 'dias_entre_fechas') | (dron['feature_names'] == 'Hum_porcentajeHR_Máx'))\n",
    "\n",
    "selector = ((dron['feature_names'] == 'Roya_porcentaje') | \n",
    "            (dron['feature_names'] == 'dias_entre_fechas') |\n",
    "            (dron['feature_names'] == 'Temp_centigrados_Máx'))\n",
    "X_train_fs = X_train[:, selector]\n",
    "X_test_fs = X_test[:, selector]\n",
    "X_train_fs.shape, X_test_fs.shape"
   ]
  },
  {
   "cell_type": "code",
   "execution_count": null,
   "metadata": {
    "colab": {},
    "colab_type": "code",
    "id": "Zhz82IdFFwA8"
   },
   "outputs": [],
   "source": [
    "train_errors = []\n",
    "test_errors = []\n",
    "degrees = range(1,10)\n",
    "for degree in degrees:\n",
    "    # train:\n",
    "    model = make_pipeline(PolynomialFeatures(degree), LinearRegression())\n",
    "    model.fit(X_train_fs, y_train)\n",
    "    \n",
    "    # predict:\n",
    "    y_train_pred = model.predict(X_train_fs)\n",
    "    y_test_pred = model.predict(X_test_fs)\n",
    "    \n",
    "    # evaluate:\n",
    "    train_error = mean_squared_error(y_train, y_train_pred)\n",
    "    test_error = mean_squared_error(y_test, y_test_pred)\n",
    "    train_errors.append(train_error)\n",
    "    test_errors.append(test_error)"
   ]
  },
  {
   "cell_type": "code",
   "execution_count": null,
   "metadata": {
    "colab": {
     "base_uri": "https://localhost:8080/",
     "height": 290
    },
    "colab_type": "code",
    "id": "Hwo590S2FwBG",
    "outputId": "799f44c7-86be-4591-a28c-752a4b0ad481"
   },
   "outputs": [
    {
     "data": {
      "image/png": "[encoded data removed]",
      "text/plain": [
       "<Figure size 432x288 with 1 Axes>"
      ]
     },
     "metadata": {
      "needs_background": "light",
      "tags": []
     },
     "output_type": "display_data"
    }
   ],
   "source": [
    "# Graficamos curvas de error\n",
    "plt.plot(degrees, train_errors, color=\"blue\", label=\"train\")\n",
    "plt.plot(degrees, test_errors, color=\"red\", label=\"test\")\n",
    "plt.legend()\n",
    "plt.xlabel(\"degree\")\n",
    "plt.ylabel(\"error\")\n",
    "plt.show()"
   ]
  },
  {
   "cell_type": "code",
   "execution_count": null,
   "metadata": {
    "colab": {
     "base_uri": "https://localhost:8080/",
     "height": 51
    },
    "colab_type": "code",
    "id": "AihyoLECMOo3",
    "outputId": "c542dd48-6877-4b92-8741-5a2d23512619"
   },
   "outputs": [
    {
     "name": "stdout",
     "output_type": "stream",
     "text": [
      "499293.39344434347\n",
      "483014.2269371703\n"
     ]
    }
   ],
   "source": [
    "print(train_errors[4])\n",
    "print(test_errors[4])"
   ]
  },
  {
   "cell_type": "markdown",
   "metadata": {
    "colab_type": "text",
    "id": "vRP3ZR_6FwBM"
   },
   "source": [
    "#### INTERPRETACION"
   ]
  },
  {
   "cell_type": "markdown",
   "metadata": {
    "colab_type": "text",
    "id": "iHG_W9r03QZi"
   },
   "source": [
    "Notamos que no solo alcanza con aumentar la complejidad del modelo polinomico (aumentar los grados), sino que es necesario incluir mas variables que nos permitan realizar mejores predicciones. En este caso, al utilizar tres variables obtenemos una mejora notable en la disminucion del error de train y test, donde en el grado 7 se obtiene el valor mas bajo."
   ]
  },
  {
   "cell_type": "markdown",
   "metadata": {
    "colab_type": "text",
    "id": "W_NLPt1Ep9QX"
   },
   "source": [
    "###**1.4.Regresión múltiple. Completa**\n",
    "Entrene y evalúe regresiones pero utilizando todos los atributos de entrada (va a andar mucho más lento). Estudie los resultados."
   ]
  },
  {
   "cell_type": "code",
   "execution_count": null,
   "metadata": {
    "colab": {
     "base_uri": "https://localhost:8080/",
     "height": 51
    },
    "colab_type": "code",
    "id": "9dqZ-w9IFwBR",
    "outputId": "05617bdc-1f5f-4987-e5d2-fe155ddf16d4"
   },
   "outputs": [
    {
     "name": "stdout",
     "output_type": "stream",
     "text": [
      "Train error: 505.033863\n",
      "Test error: 3065.821932\n"
     ]
    }
   ],
   "source": [
    "degree = 2\n",
    "model = make_pipeline(PolynomialFeatures(degree), LinearRegression())\n",
    "model.fit(X_train, y_train)\n",
    "\n",
    "# predict:\n",
    "y_train_pred = model.predict(X_train)\n",
    "y_test_pred = model.predict(X_test)\n",
    "    \n",
    "# evaluate:\n",
    "train_error = mean_squared_error(y_train, y_train_pred)\n",
    "test_error = mean_squared_error(y_test, y_test_pred)\n",
    "print(f'Train error: {train_error:2f}')\n",
    "print(f'Test error: {test_error:2f}')"
   ]
  },
  {
   "cell_type": "markdown",
   "metadata": {
    "colab_type": "text",
    "id": "-MwozY9-4udC"
   },
   "source": [
    "#### INTERPRETACION"
   ]
  },
  {
   "cell_type": "markdown",
   "metadata": {
    "colab_type": "text",
    "id": "gTMPZClt4yDK"
   },
   "source": [
    "Reafirmando la anteriror conclusion, al agregar mas variables, le permitimos al modelo tomar mayor informacion para poder mejorar las predicciones y de esta forma reducir demasiado los errores."
   ]
  },
  {
   "cell_type": "markdown",
   "metadata": {
    "colab_type": "text",
    "id": "VFp8SfeXq87W"
   },
   "source": [
    "###**1.5.Regularización**\n",
    "Utilizar diferentes valores de alpha. ¿Mejora?"
   ]
  },
  {
   "cell_type": "code",
   "execution_count": null,
   "metadata": {
    "colab": {
     "base_uri": "https://localhost:8080/",
     "height": 136
    },
    "colab_type": "code",
    "id": "lJxpAKCDFwBY",
    "outputId": "32d96b25-99e2-4b34-bdb3-bdbcfffab841",
    "scrolled": true
   },
   "outputs": [
    {
     "data": {
      "text/plain": [
       "[6563.369824911127,\n",
       " 2355.928722117723,\n",
       " 2935.6547275523676,\n",
       " 2747.6952437309706,\n",
       " 1808.6658799181698,\n",
       " 2458.112905021906,\n",
       " 9267.44618002386]"
      ]
     },
     "execution_count": 22,
     "metadata": {
      "tags": []
     },
     "output_type": "execute_result"
    }
   ],
   "source": [
    "train_errors = []\n",
    "test_errors = []\n",
    "alpha_values = [0.001, 0.01, 0.1, 1, 10, 100, 1000]\n",
    "for alpha_value in alpha_values:\n",
    "    model = make_pipeline(PolynomialFeatures(2), Ridge(alpha=alpha_value))\n",
    "    model.fit(X_train, y_train)\n",
    "    # predict:\n",
    "    y_train_pred = model.predict(X_train)\n",
    "    y_test_pred = model.predict(X_test)\n",
    "    \n",
    "    # evaluate:\n",
    "    train_error = mean_squared_error(y_train, y_train_pred)\n",
    "    test_error = mean_squared_error(y_test, y_test_pred)\n",
    "    train_errors.append(train_error)\n",
    "    test_errors.append(test_error)\n",
    "\n",
    "test_errors"
   ]
  },
  {
   "cell_type": "code",
   "execution_count": null,
   "metadata": {
    "colab": {
     "base_uri": "https://localhost:8080/",
     "height": 136
    },
    "colab_type": "code",
    "id": "enPJ04F-NGp3",
    "outputId": "2caabec6-9688-4284-bf24-71b815ba193f"
   },
   "outputs": [
    {
     "data": {
      "text/plain": [
       "[569.6448460577772,\n",
       " 510.44541753954604,\n",
       " 503.21601816316155,\n",
       " 508.31348700523677,\n",
       " 579.5739727955435,\n",
       " 1483.9096406323872,\n",
       " 8362.019026704795]"
      ]
     },
     "execution_count": 23,
     "metadata": {
      "tags": []
     },
     "output_type": "execute_result"
    }
   ],
   "source": [
    "train_errors"
   ]
  },
  {
   "cell_type": "markdown",
   "metadata": {
    "colab_type": "text",
    "id": "hogI4HF3FwBp"
   },
   "source": [
    "#### INTERPRETACION"
   ]
  },
  {
   "cell_type": "markdown",
   "metadata": {
    "colab_type": "text",
    "id": "m-g3IVwA7i-C"
   },
   "source": [
    "Al utilizar el termino de regularizacion, comprobamos que se evita el overfitting en el conjunto de Train, reduciendo el error de la prediccion en el conjunto de Test."
   ]
  },
  {
   "cell_type": "markdown",
   "metadata": {
    "colab_type": "text",
    "id": "WCPCoxDXKN3X"
   },
   "source": [
    "### Aplicando regularización y normalizando datos de entrada"
   ]
  },
  {
   "cell_type": "code",
   "execution_count": null,
   "metadata": {
    "colab": {
     "base_uri": "https://localhost:8080/",
     "height": 136
    },
    "colab_type": "code",
    "id": "DVYCb2bkKN3X",
    "outputId": "714f6814-a15b-4784-8130-c8118802addc"
   },
   "outputs": [
    {
     "data": {
      "text/plain": [
       "[1523.6775684148722,\n",
       " 1519.1822298339039,\n",
       " 1509.9742138156855,\n",
       " 1738.8371111729275,\n",
       " 4236.939420108997,\n",
       " 11589.473163313702,\n",
       " 36007.83477223648]"
      ]
     },
     "execution_count": 24,
     "metadata": {
      "tags": []
     },
     "output_type": "execute_result"
    }
   ],
   "source": [
    "train_errors = []\n",
    "test_errors = []\n",
    "alpha_values = [0.001, 0.01, 0.1, 1, 10, 100, 1000]\n",
    "for alpha_value in alpha_values:\n",
    "    model = make_pipeline(StandardScaler(), PolynomialFeatures(2), Ridge(alpha=alpha_value))\n",
    "    model.fit(X_train, y_train)\n",
    "    # predict:\n",
    "    y_train_pred = model.predict(X_train)\n",
    "    y_test_pred = model.predict(X_test)\n",
    "    \n",
    "    # evaluate:\n",
    "    train_error = mean_squared_error(y_train, y_train_pred)\n",
    "    test_error = mean_squared_error(y_test, y_test_pred)\n",
    "    train_errors.append(train_error)\n",
    "    test_errors.append(test_error)\n",
    "\n",
    "test_errors"
   ]
  },
  {
   "cell_type": "markdown",
   "metadata": {
    "colab_type": "text",
    "id": "hf6NsCxiPcrz"
   },
   "source": [
    "#### INTERPRETACION"
   ]
  },
  {
   "cell_type": "markdown",
   "metadata": {
    "colab_type": "text",
    "id": "C_r7olCWMkm6"
   },
   "source": [
    "Siguiendo la misma tendencia que se venia dando al aplicar regularizacion al modelo, podemos visualizar claramente que al aplicar normalizacion sobre los datos de entrada al modelo permite reducir considerablemente el error de prediccion del modelo sobre el conjunto de test."
   ]
  },
  {
   "cell_type": "markdown",
   "metadata": {
    "colab_type": "text",
    "id": "ZqN_OEuzuAct"
   },
   "source": [
    "###**2.Clasificación**\n"
   ]
  },
  {
   "cell_type": "markdown",
   "metadata": {
    "colab_type": "text",
    "id": "qxhgYs3lzEC6"
   },
   "source": [
    "###**2.1.SGDClassifier con selección de hiperparámetros**. \n",
    "Probar diferentes funciones de loss, tasas de entrenamiento y tasas de regularización.Usar grid-search y 5-fold cross-validation. Reportar métricas y varianzas.Reportar accuracy promedio y varianza para todas las configuraciones, evaluar sobre el conjunto de entrenamiento y sobre el conjunto de evaluación, reportando:\n",
    "\n",
    "Accuracy\n",
    "Precision\n",
    "Recall\n",
    "F1\n",
    "matriz de confusión\n",
    "Documentación:"
   ]
  },
  {
   "cell_type": "code",
   "execution_count": 20,
   "metadata": {
    "colab": {},
    "colab_type": "code",
    "executionInfo": {
     "elapsed": 786,
     "status": "ok",
     "timestamp": 1600304325873,
     "user": {
      "displayName": "Fernando Vazquez",
      "photoUrl": "",
      "userId": "07463311502574319119"
     },
     "user_tz": 180
    },
    "id": "aH74uJyn0DW8"
   },
   "outputs": [],
   "source": [
    "# DATA_DIRECTORY = './'\n",
    "dataset=pd.read_csv('/content/gdrive/My Drive/Colab Notebooks/dron_final.csv', decimal=\".\", sep=\",\")\n",
    "\n",
    "# Ciclos; Asignar el valor 0 al ciclo corto y valor 1 al ciclo largo\n",
    "dataset['Ciclos'] = dataset['Ciclos'].replace(['CC'], 0)\n",
    "dataset['Ciclos'] = dataset['Ciclos'].replace(['CL'], 1)\n",
    "\n",
    "# Conjunto de datos; Asignar 1 correspondiente a la 1° fecha de siembra, o 0 en caso contrario.\n",
    "dataset['Conjunto_de_datos'] = dataset['Conjunto_de_datos'].replace(['2daSiembra'], 0)\n",
    "dataset['Conjunto_de_datos'] = dataset['Conjunto_de_datos'].replace(['1er Siembra'], 1)\n",
    "\n",
    "# Transformar las variables categóricas en variables numéricas\n",
    "dataset = pd.get_dummies(dataset, columns=['Variedad'], drop_first=True)\n",
    "dataset.columns = dataset.columns.str.replace('Variedad_Variedad_', 'Variedad_')\n",
    "\n",
    "# Convertir longitud,latitud y fechas a numericas\n",
    "\n",
    "dataset.Fecha_de_espigazon = dataset['Fecha_de_espigazon'].str.replace('-','').astype(int)\n",
    "dataset.Fecha_de_madurez = dataset['Fecha_de_madurez'].str.replace('-','').astype(int)\n",
    "dataset.Fecha = dataset['Fecha'].str.replace('-','').astype(int)"
   ]
  },
  {
   "cell_type": "code",
   "execution_count": 21,
   "metadata": {
    "colab": {},
    "colab_type": "code",
    "executionInfo": {
     "elapsed": 631,
     "status": "ok",
     "timestamp": 1600304329767,
     "user": {
      "displayName": "Fernando Vazquez",
      "photoUrl": "",
      "userId": "07463311502574319119"
     },
     "user_tz": 180
    },
    "id": "jZVCbYPe0S4E"
   },
   "outputs": [],
   "source": [
    "# Keep only data columns\n",
    "feature_names = dataset.drop(['ID','Longitude','Latitude'], axis=1).columns.values.tolist()\n",
    "\n",
    "# Create dron dict\n",
    "dron = dict()\n",
    "dron['feature_names'] = np.array(feature_names)\n",
    "dron[\"data\"] = dataset[feature_names].to_numpy()\n",
    "dron[\"target\"] = dataset[\"ZADOCK\"].astype(str)"
   ]
  },
  {
   "cell_type": "code",
   "execution_count": 22,
   "metadata": {
    "colab": {
     "base_uri": "https://localhost:8080/",
     "height": 119
    },
    "colab_type": "code",
    "executionInfo": {
     "elapsed": 760,
     "status": "ok",
     "timestamp": 1600304337606,
     "user": {
      "displayName": "Fernando Vazquez",
      "photoUrl": "",
      "userId": "07463311502574319119"
     },
     "user_tz": 180
    },
    "id": "Hx4lGyQhKN3h",
    "outputId": "5ebb63e8-f244-447e-a825-462250eafae3"
   },
   "outputs": [
    {
     "data": {
      "text/plain": [
       "Ciclos              -0.726937\n",
       "ZADOCK               1.000000\n",
       "columna             -0.734918\n",
       "Fecha_de_madurez     0.807105\n",
       "dias_entre_fechas    0.682883\n",
       "Name: ZADOCK, dtype: float64"
      ]
     },
     "execution_count": 22,
     "metadata": {},
     "output_type": "execute_result"
    }
   ],
   "source": [
    "dataset_for_correlation_check = dataset[feature_names]\n",
    "correlation = dataset_for_correlation_check.corr()\n",
    "\n",
    "correlation[1-np.abs(correlation['ZADOCK']) < 0.40]['ZADOCK']"
   ]
  },
  {
   "cell_type": "markdown",
   "metadata": {
    "colab_type": "text",
    "id": "2_qPzBgrKN3k"
   },
   "source": [
    "#### Detectamos una fuerte correlación entre la variable TARGET y algunos features, procedemos a removerlas como así también a las variables dependientes"
   ]
  },
  {
   "cell_type": "code",
   "execution_count": 23,
   "metadata": {
    "colab": {},
    "colab_type": "code",
    "executionInfo": {
     "elapsed": 1149,
     "status": "ok",
     "timestamp": 1600304346626,
     "user": {
      "displayName": "Fernando Vazquez",
      "photoUrl": "",
      "userId": "07463311502574319119"
     },
     "user_tz": 180
    },
    "id": "ogf1dXXzKN3l"
   },
   "outputs": [],
   "source": [
    "# Removemos TARGET, agregado anteriormente para obtener correlación\n",
    "feature_names.remove('ZADOCK')\n",
    "# Removemos features con fuerte correlación y dependientes\n",
    "feature_names.remove('Ciclos')\n",
    "feature_names.remove('columna')\n",
    "feature_names.remove('Fecha_de_madurez')\n",
    "feature_names.remove('dias_entre_fechas')\n",
    "feature_names.remove('Fecha_de_espigazon')\n",
    "feature_names.remove('RDTO')\n",
    "\n",
    "# Seteamos nuestro nuevo conjunto de features\n",
    "dron['feature_names'] = np.array(feature_names)\n",
    "dron[\"data\"] = dataset[feature_names].to_numpy()\n",
    "dron[\"target\"] = dataset[\"ZADOCK\"].astype(str)"
   ]
  },
  {
   "cell_type": "code",
   "execution_count": 24,
   "metadata": {
    "colab": {
     "base_uri": "https://localhost:8080/",
     "height": 510
    },
    "colab_type": "code",
    "executionInfo": {
     "elapsed": 890,
     "status": "ok",
     "timestamp": 1600304350767,
     "user": {
      "displayName": "Fernando Vazquez",
      "photoUrl": "",
      "userId": "07463311502574319119"
     },
     "user_tz": 180
    },
    "id": "tJHFftXnKN3p",
    "outputId": "baf7741a-ce7b-4869-ff30-05f3d7c033a2"
   },
   "outputs": [
    {
     "data": {
      "text/plain": [
       "['Conjunto_de_datos',\n",
       " 'Rep',\n",
       " 'Parcela',\n",
       " 'fila',\n",
       " 'Azul',\n",
       " 'Verde',\n",
       " 'InfraRojo',\n",
       " 'Borde_rojo',\n",
       " '_Rojo',\n",
       " 'NDVI',\n",
       " 'NDRE',\n",
       " 'SAVI',\n",
       " 'SCCI',\n",
       " 'GNDVI',\n",
       " 'GVI',\n",
       " 'RVI',\n",
       " 'RedEdg',\n",
       " 'LNVI',\n",
       " 'GRVI',\n",
       " 'MGRVI',\n",
       " 'Roya_porcentaje',\n",
       " 'Carbon_porcentaje',\n",
       " 'Adversidades',\n",
       " 'Fusariosis_otros',\n",
       " 'Manchas_Foliares_otros',\n",
       " 'Fecha',\n",
       " 'Temp_centigrados_Máx',\n",
       " 'Presion_hPa_Máx',\n",
       " 'Temp_suelo_centigrados_Máx',\n",
       " 'Intende_Lluvia_mm_h',\n",
       " 'Vel_de_Viento_Km_h_Máx',\n",
       " 'Hum_porcentajeHR_Máx',\n",
       " 'Variedad_B',\n",
       " 'Variedad_C',\n",
       " 'Variedad_D',\n",
       " 'Variedad_E',\n",
       " 'Variedad_F',\n",
       " 'Variedad_G',\n",
       " 'Variedad_H',\n",
       " 'Variedad_I',\n",
       " 'Variedad_J',\n",
       " 'Variedad_K',\n",
       " 'Variedad_L',\n",
       " 'Variedad_M',\n",
       " 'Variedad_N',\n",
       " 'Variedad_O',\n",
       " 'Variedad_P',\n",
       " 'Variedad_Q',\n",
       " 'Variedad_R',\n",
       " 'Variedad_S',\n",
       " 'Variedad_T',\n",
       " 'Variedad_U']"
      ]
     },
     "execution_count": 24,
     "metadata": {},
     "output_type": "execute_result"
    }
   ],
   "source": [
    "# Features a utilizar en la clasificación\n",
    "feature_names"
   ]
  },
  {
   "cell_type": "code",
   "execution_count": 25,
   "metadata": {
    "colab": {
     "base_uri": "https://localhost:8080/",
     "height": 460
    },
    "colab_type": "code",
    "executionInfo": {
     "elapsed": 1141,
     "status": "ok",
     "timestamp": 1600304355215,
     "user": {
      "displayName": "Fernando Vazquez",
      "photoUrl": "",
      "userId": "07463311502574319119"
     },
     "user_tz": 180
    },
    "id": "RkFKNdRjbkV0",
    "outputId": "4daa76eb-4b13-4e14-f5e5-2fd01216be00"
   },
   "outputs": [
    {
     "data": {
      "text/plain": [
       "<matplotlib.axes._subplots.AxesSubplot at 0x7fc252de42e8>"
      ]
     },
     "execution_count": 25,
     "metadata": {},
     "output_type": "execute_result"
    },
    {
     "data": {
      "image/png": "[encoded data removed]",
      "text/plain": [
       "<Figure size 720x432 with 1 Axes>"
      ]
     },
     "metadata": {
      "needs_background": "light"
     },
     "output_type": "display_data"
    }
   ],
   "source": [
    "# Analizamos si la variable target esta desbalanceada\n",
    "import seaborn\n",
    "\n",
    "plt.figure(figsize=(10,6))\n",
    "seaborn.countplot(data=dataset, x ='ZADOCK', color = 'blue')"
   ]
  },
  {
   "cell_type": "code",
   "execution_count": 26,
   "metadata": {
    "colab": {
     "base_uri": "https://localhost:8080/",
     "height": 170
    },
    "colab_type": "code",
    "executionInfo": {
     "elapsed": 872,
     "status": "ok",
     "timestamp": 1600304359767,
     "user": {
      "displayName": "Fernando Vazquez",
      "photoUrl": "",
      "userId": "07463311502574319119"
     },
     "user_tz": 180
    },
    "id": "R91tyM1WcKH-",
    "outputId": "c17c64d7-e5cc-4457-ea10-e310dd00c049"
   },
   "outputs": [
    {
     "data": {
      "text/plain": [
       "count    29574.000000\n",
       "mean         5.754619\n",
       "std          0.826099\n",
       "min          3.900000\n",
       "25%          5.400000\n",
       "50%          5.900000\n",
       "75%          6.500000\n",
       "max          6.900000\n",
       "Name: ZADOCK, dtype: float64"
      ]
     },
     "execution_count": 26,
     "metadata": {},
     "output_type": "execute_result"
    }
   ],
   "source": [
    "dataset.ZADOCK.describe()"
   ]
  },
  {
   "cell_type": "code",
   "execution_count": 27,
   "metadata": {
    "colab": {
     "base_uri": "https://localhost:8080/",
     "height": 34
    },
    "colab_type": "code",
    "executionInfo": {
     "elapsed": 802,
     "status": "ok",
     "timestamp": 1600304361529,
     "user": {
      "displayName": "Fernando Vazquez",
      "photoUrl": "",
      "userId": "07463311502574319119"
     },
     "user_tz": 180
    },
    "id": "bNhTTYo70bU9",
    "outputId": "ec517416-528f-4866-9c78-c65e9e72939b"
   },
   "outputs": [
    {
     "data": {
      "text/plain": [
       "((23659, 52), (5915, 52), (23659,), (5915,))"
      ]
     },
     "execution_count": 27,
     "metadata": {},
     "output_type": "execute_result"
    }
   ],
   "source": [
    "# División entre instancias y etiquetas\n",
    "X, y = dron[\"data\"], dron[\"target\"]\n",
    "X_train, X_test, y_train, y_test = train_test_split(X, y, test_size=0.20, random_state=0)\n",
    "X_train.shape, X_test.shape, y_train.shape, y_test.shape"
   ]
  },
  {
   "cell_type": "code",
   "execution_count": 12,
   "metadata": {
    "colab": {},
    "colab_type": "code",
    "id": "E_NVt7NHFwBu"
   },
   "outputs": [],
   "source": [
    "from sklearn.model_selection import GridSearchCV\n",
    "from sklearn.model_selection import ParameterSampler\n",
    "from sklearn.linear_model import SGDClassifier\n",
    "import warnings\n",
    "\n",
    "warnings.filterwarnings('ignore')"
   ]
  },
  {
   "cell_type": "code",
   "execution_count": null,
   "metadata": {
    "colab": {
     "base_uri": "https://localhost:8080/",
     "height": 595
    },
    "colab_type": "code",
    "id": "cG56-p0xFwB5",
    "outputId": "94d74c97-eb7d-451f-af51-79b981ff3eb6"
   },
   "outputs": [
    {
     "name": "stdout",
     "output_type": "stream",
     "text": [
      "Fitting 5 folds for each of 24 candidates, totalling 120 fits\n"
     ]
    },
    {
     "name": "stderr",
     "output_type": "stream",
     "text": [
      "[Parallel(n_jobs=-1)]: Using backend LokyBackend with 2 concurrent workers.\n",
      "[Parallel(n_jobs=-1)]: Done   1 tasks      | elapsed:    0.6s\n",
      "[Parallel(n_jobs=-1)]: Done   4 tasks      | elapsed:    1.2s\n",
      "[Parallel(n_jobs=-1)]: Done   9 tasks      | elapsed:    3.5s\n",
      "[Parallel(n_jobs=-1)]: Done  14 tasks      | elapsed:   26.3s\n",
      "[Parallel(n_jobs=-1)]: Done  21 tasks      | elapsed:  1.3min\n",
      "[Parallel(n_jobs=-1)]: Done  28 tasks      | elapsed:  2.3min\n",
      "[Parallel(n_jobs=-1)]: Done  37 tasks      | elapsed:  2.8min\n",
      "[Parallel(n_jobs=-1)]: Done  46 tasks      | elapsed:  3.0min\n",
      "[Parallel(n_jobs=-1)]: Done  57 tasks      | elapsed:  3.8min\n",
      "[Parallel(n_jobs=-1)]: Done  68 tasks      | elapsed:  5.1min\n",
      "[Parallel(n_jobs=-1)]: Done  81 tasks      | elapsed:  5.7min\n",
      "[Parallel(n_jobs=-1)]: Done  94 tasks      | elapsed:  6.1min\n",
      "[Parallel(n_jobs=-1)]: Done 109 tasks      | elapsed:  7.9min\n",
      "[Parallel(n_jobs=-1)]: Done 120 out of 120 | elapsed:  8.4min finished\n"
     ]
    },
    {
     "data": {
      "text/plain": [
       "GridSearchCV(cv=None, error_score=nan,\n",
       "             estimator=SGDClassifier(alpha=0.0001, average=False,\n",
       "                                     class_weight=None, early_stopping=False,\n",
       "                                     epsilon=0.1, eta0=0.0, fit_intercept=True,\n",
       "                                     l1_ratio=0.15, learning_rate='optimal',\n",
       "                                     loss='hinge', max_iter=300,\n",
       "                                     n_iter_no_change=5, n_jobs=None,\n",
       "                                     penalty='l2', power_t=0.5, random_state=2,\n",
       "                                     shuffle=True, tol=0.001,\n",
       "                                     validation_fraction=0.1, verbose=0,\n",
       "                                     warm_start=False),\n",
       "             iid='deprecated', n_jobs=-1,\n",
       "             param_grid={'alpha': [0.1, 0.01, 0.001], 'eta0': [0.1],\n",
       "                         'learning_rate': ['constant', 'optimal', 'invscaling',\n",
       "                                           'adaptive'],\n",
       "                         'loss': ['hinge', 'log']},\n",
       "             pre_dispatch='2*n_jobs', refit=True, return_train_score=False,\n",
       "             scoring='f1_weighted', verbose=10)"
      ]
     },
     "execution_count": 42,
     "metadata": {
      "tags": []
     },
     "output_type": "execute_result"
    }
   ],
   "source": [
    "param_grid={ \n",
    "    'loss': ['hinge', 'log'],\n",
    "    'alpha':  [0.1, 0.01, 0.001],\n",
    "    'learning_rate': ['constant', 'optimal', 'invscaling', 'adaptive'], \n",
    "    'eta0': [0.1]}\n",
    "\n",
    "model=SGDClassifier(random_state=2 , max_iter=300)\n",
    "\n",
    "cv=GridSearchCV(model, param_grid, scoring = 'f1_weighted', verbose=10, n_jobs=-1)\n",
    "\n",
    "cv.fit(X_train, y_train)"
   ]
  },
  {
   "cell_type": "code",
   "execution_count": null,
   "metadata": {
    "colab": {
     "base_uri": "https://localhost:8080/",
     "height": 793
    },
    "colab_type": "code",
    "id": "io6XmFJgFwCG",
    "outputId": "3c4bf60a-9c8f-4aa0-d1df-b6b419a6d327"
   },
   "outputs": [
    {
     "data": {
      "text/html": [
       "<div>\n",
       "<style scoped>\n",
       "    .dataframe tbody tr th:only-of-type {\n",
       "        vertical-align: middle;\n",
       "    }\n",
       "\n",
       "    .dataframe tbody tr th {\n",
       "        vertical-align: top;\n",
       "    }\n",
       "\n",
       "    .dataframe thead th {\n",
       "        text-align: right;\n",
       "    }\n",
       "</style>\n",
       "<table border=\"1\" class=\"dataframe\">\n",
       "  <thead>\n",
       "    <tr style=\"text-align: right;\">\n",
       "      <th></th>\n",
       "      <th>param_loss</th>\n",
       "      <th>param_alpha</th>\n",
       "      <th>param_learning_rate</th>\n",
       "      <th>param_eta0</th>\n",
       "      <th>mean_test_score</th>\n",
       "      <th>std_test_score</th>\n",
       "      <th>rank_test_score</th>\n",
       "    </tr>\n",
       "  </thead>\n",
       "  <tbody>\n",
       "    <tr>\n",
       "      <th>22</th>\n",
       "      <td>hinge</td>\n",
       "      <td>0.001</td>\n",
       "      <td>adaptive</td>\n",
       "      <td>0.1</td>\n",
       "      <td>0.088319</td>\n",
       "      <td>0.014485</td>\n",
       "      <td>1</td>\n",
       "    </tr>\n",
       "    <tr>\n",
       "      <th>23</th>\n",
       "      <td>log</td>\n",
       "      <td>0.001</td>\n",
       "      <td>adaptive</td>\n",
       "      <td>0.1</td>\n",
       "      <td>0.088246</td>\n",
       "      <td>0.014269</td>\n",
       "      <td>2</td>\n",
       "    </tr>\n",
       "    <tr>\n",
       "      <th>15</th>\n",
       "      <td>log</td>\n",
       "      <td>0.01</td>\n",
       "      <td>adaptive</td>\n",
       "      <td>0.1</td>\n",
       "      <td>0.067594</td>\n",
       "      <td>0.017540</td>\n",
       "      <td>3</td>\n",
       "    </tr>\n",
       "    <tr>\n",
       "      <th>14</th>\n",
       "      <td>hinge</td>\n",
       "      <td>0.01</td>\n",
       "      <td>adaptive</td>\n",
       "      <td>0.1</td>\n",
       "      <td>0.061612</td>\n",
       "      <td>0.012319</td>\n",
       "      <td>4</td>\n",
       "    </tr>\n",
       "    <tr>\n",
       "      <th>6</th>\n",
       "      <td>hinge</td>\n",
       "      <td>0.1</td>\n",
       "      <td>adaptive</td>\n",
       "      <td>0.1</td>\n",
       "      <td>0.030480</td>\n",
       "      <td>0.013500</td>\n",
       "      <td>5</td>\n",
       "    </tr>\n",
       "    <tr>\n",
       "      <th>7</th>\n",
       "      <td>log</td>\n",
       "      <td>0.1</td>\n",
       "      <td>adaptive</td>\n",
       "      <td>0.1</td>\n",
       "      <td>0.030480</td>\n",
       "      <td>0.013500</td>\n",
       "      <td>5</td>\n",
       "    </tr>\n",
       "    <tr>\n",
       "      <th>21</th>\n",
       "      <td>log</td>\n",
       "      <td>0.001</td>\n",
       "      <td>invscaling</td>\n",
       "      <td>0.1</td>\n",
       "      <td>0.023163</td>\n",
       "      <td>0.002837</td>\n",
       "      <td>7</td>\n",
       "    </tr>\n",
       "    <tr>\n",
       "      <th>20</th>\n",
       "      <td>hinge</td>\n",
       "      <td>0.001</td>\n",
       "      <td>invscaling</td>\n",
       "      <td>0.1</td>\n",
       "      <td>0.019106</td>\n",
       "      <td>0.009157</td>\n",
       "      <td>8</td>\n",
       "    </tr>\n",
       "    <tr>\n",
       "      <th>19</th>\n",
       "      <td>log</td>\n",
       "      <td>0.001</td>\n",
       "      <td>optimal</td>\n",
       "      <td>0.1</td>\n",
       "      <td>0.015745</td>\n",
       "      <td>0.007862</td>\n",
       "      <td>9</td>\n",
       "    </tr>\n",
       "    <tr>\n",
       "      <th>11</th>\n",
       "      <td>log</td>\n",
       "      <td>0.01</td>\n",
       "      <td>optimal</td>\n",
       "      <td>0.1</td>\n",
       "      <td>0.015745</td>\n",
       "      <td>0.007862</td>\n",
       "      <td>9</td>\n",
       "    </tr>\n",
       "    <tr>\n",
       "      <th>10</th>\n",
       "      <td>hinge</td>\n",
       "      <td>0.01</td>\n",
       "      <td>optimal</td>\n",
       "      <td>0.1</td>\n",
       "      <td>0.015521</td>\n",
       "      <td>0.007524</td>\n",
       "      <td>11</td>\n",
       "    </tr>\n",
       "    <tr>\n",
       "      <th>18</th>\n",
       "      <td>hinge</td>\n",
       "      <td>0.001</td>\n",
       "      <td>optimal</td>\n",
       "      <td>0.1</td>\n",
       "      <td>0.015521</td>\n",
       "      <td>0.007524</td>\n",
       "      <td>11</td>\n",
       "    </tr>\n",
       "    <tr>\n",
       "      <th>2</th>\n",
       "      <td>hinge</td>\n",
       "      <td>0.1</td>\n",
       "      <td>optimal</td>\n",
       "      <td>0.1</td>\n",
       "      <td>0.015521</td>\n",
       "      <td>0.007524</td>\n",
       "      <td>11</td>\n",
       "    </tr>\n",
       "    <tr>\n",
       "      <th>3</th>\n",
       "      <td>log</td>\n",
       "      <td>0.1</td>\n",
       "      <td>optimal</td>\n",
       "      <td>0.1</td>\n",
       "      <td>0.015271</td>\n",
       "      <td>0.008632</td>\n",
       "      <td>14</td>\n",
       "    </tr>\n",
       "    <tr>\n",
       "      <th>13</th>\n",
       "      <td>log</td>\n",
       "      <td>0.01</td>\n",
       "      <td>invscaling</td>\n",
       "      <td>0.1</td>\n",
       "      <td>0.014829</td>\n",
       "      <td>0.010636</td>\n",
       "      <td>15</td>\n",
       "    </tr>\n",
       "    <tr>\n",
       "      <th>12</th>\n",
       "      <td>hinge</td>\n",
       "      <td>0.01</td>\n",
       "      <td>invscaling</td>\n",
       "      <td>0.1</td>\n",
       "      <td>0.011877</td>\n",
       "      <td>0.011458</td>\n",
       "      <td>16</td>\n",
       "    </tr>\n",
       "    <tr>\n",
       "      <th>5</th>\n",
       "      <td>log</td>\n",
       "      <td>0.1</td>\n",
       "      <td>invscaling</td>\n",
       "      <td>0.1</td>\n",
       "      <td>0.006918</td>\n",
       "      <td>0.007178</td>\n",
       "      <td>17</td>\n",
       "    </tr>\n",
       "    <tr>\n",
       "      <th>4</th>\n",
       "      <td>hinge</td>\n",
       "      <td>0.1</td>\n",
       "      <td>invscaling</td>\n",
       "      <td>0.1</td>\n",
       "      <td>0.006918</td>\n",
       "      <td>0.007178</td>\n",
       "      <td>17</td>\n",
       "    </tr>\n",
       "    <tr>\n",
       "      <th>1</th>\n",
       "      <td>log</td>\n",
       "      <td>0.1</td>\n",
       "      <td>constant</td>\n",
       "      <td>0.1</td>\n",
       "      <td>0.004587</td>\n",
       "      <td>0.003790</td>\n",
       "      <td>19</td>\n",
       "    </tr>\n",
       "    <tr>\n",
       "      <th>0</th>\n",
       "      <td>hinge</td>\n",
       "      <td>0.1</td>\n",
       "      <td>constant</td>\n",
       "      <td>0.1</td>\n",
       "      <td>0.004587</td>\n",
       "      <td>0.003790</td>\n",
       "      <td>19</td>\n",
       "    </tr>\n",
       "    <tr>\n",
       "      <th>8</th>\n",
       "      <td>hinge</td>\n",
       "      <td>0.01</td>\n",
       "      <td>constant</td>\n",
       "      <td>0.1</td>\n",
       "      <td>0.004320</td>\n",
       "      <td>0.003481</td>\n",
       "      <td>21</td>\n",
       "    </tr>\n",
       "    <tr>\n",
       "      <th>16</th>\n",
       "      <td>hinge</td>\n",
       "      <td>0.001</td>\n",
       "      <td>constant</td>\n",
       "      <td>0.1</td>\n",
       "      <td>0.004134</td>\n",
       "      <td>0.003676</td>\n",
       "      <td>22</td>\n",
       "    </tr>\n",
       "    <tr>\n",
       "      <th>17</th>\n",
       "      <td>log</td>\n",
       "      <td>0.001</td>\n",
       "      <td>constant</td>\n",
       "      <td>0.1</td>\n",
       "      <td>0.004134</td>\n",
       "      <td>0.003676</td>\n",
       "      <td>22</td>\n",
       "    </tr>\n",
       "    <tr>\n",
       "      <th>9</th>\n",
       "      <td>log</td>\n",
       "      <td>0.01</td>\n",
       "      <td>constant</td>\n",
       "      <td>0.1</td>\n",
       "      <td>0.004134</td>\n",
       "      <td>0.003676</td>\n",
       "      <td>22</td>\n",
       "    </tr>\n",
       "  </tbody>\n",
       "</table>\n",
       "</div>"
      ],
      "text/plain": [
       "   param_loss param_alpha  ... std_test_score rank_test_score\n",
       "22      hinge       0.001  ...       0.014485               1\n",
       "23        log       0.001  ...       0.014269               2\n",
       "15        log        0.01  ...       0.017540               3\n",
       "14      hinge        0.01  ...       0.012319               4\n",
       "6       hinge         0.1  ...       0.013500               5\n",
       "7         log         0.1  ...       0.013500               5\n",
       "21        log       0.001  ...       0.002837               7\n",
       "20      hinge       0.001  ...       0.009157               8\n",
       "19        log       0.001  ...       0.007862               9\n",
       "11        log        0.01  ...       0.007862               9\n",
       "10      hinge        0.01  ...       0.007524              11\n",
       "18      hinge       0.001  ...       0.007524              11\n",
       "2       hinge         0.1  ...       0.007524              11\n",
       "3         log         0.1  ...       0.008632              14\n",
       "13        log        0.01  ...       0.010636              15\n",
       "12      hinge        0.01  ...       0.011458              16\n",
       "5         log         0.1  ...       0.007178              17\n",
       "4       hinge         0.1  ...       0.007178              17\n",
       "1         log         0.1  ...       0.003790              19\n",
       "0       hinge         0.1  ...       0.003790              19\n",
       "8       hinge        0.01  ...       0.003481              21\n",
       "16      hinge       0.001  ...       0.003676              22\n",
       "17        log       0.001  ...       0.003676              22\n",
       "9         log        0.01  ...       0.003676              22\n",
       "\n",
       "[24 rows x 7 columns]"
      ]
     },
     "execution_count": 43,
     "metadata": {
      "tags": []
     },
     "output_type": "execute_result"
    }
   ],
   "source": [
    "results=cv.cv_results_\n",
    "df=pd.DataFrame(results).sort_values('rank_test_score')\n",
    "df[['param_loss', 'param_alpha', 'param_learning_rate', 'param_eta0', 'mean_test_score', 'std_test_score', 'rank_test_score']]"
   ]
  },
  {
   "cell_type": "code",
   "execution_count": null,
   "metadata": {
    "colab": {
     "base_uri": "https://localhost:8080/",
     "height": 476
    },
    "colab_type": "code",
    "id": "WJJDjP1_FwCN",
    "outputId": "fd710fe3-fcd7-4da0-ffb9-0299773129d2"
   },
   "outputs": [
    {
     "name": "stdout",
     "output_type": "stream",
     "text": [
      "Accuracy: 8.056131 \n",
      "Accuracy: 7.979713 \n",
      "              precision    recall  f1-score   support\n",
      "\n",
      "         3.9       0.00      0.00      0.00       161\n",
      "         4.1       0.00      0.00      0.00       232\n",
      "         4.3       0.00      0.00      0.00       329\n",
      "         4.5       0.00      0.00      0.00       162\n",
      "         4.7       0.00      0.00      0.00       197\n",
      "         5.1       0.15      0.02      0.04       241\n",
      "         5.3       0.00      0.00      0.00       123\n",
      "         5.4       0.00      0.00      0.00       157\n",
      "         5.5       0.00      0.00      0.00       157\n",
      "         5.7       0.00      0.00      0.00       351\n",
      "         5.8       0.25      0.18      0.21       663\n",
      "         5.9       0.21      0.23      0.22       649\n",
      "         6.1       0.23      0.15      0.18       698\n",
      "         6.3       0.00      0.00      0.00         0\n",
      "         6.5       0.23      0.08      0.12       765\n",
      "         6.6       0.25      0.05      0.09       263\n",
      "         6.7       0.22      0.02      0.04       520\n",
      "         6.9       0.00      0.00      0.00       247\n",
      "\n",
      "    accuracy                           0.08      5915\n",
      "   macro avg       0.09      0.04      0.05      5915\n",
      "weighted avg       0.14      0.08      0.09      5915\n",
      "\n"
     ]
    }
   ],
   "source": [
    "# Get best model\n",
    "best_model = cv.best_estimator_\n",
    "\n",
    "\n",
    "predictions = best_model.predict(X_train)\n",
    "print ('Accuracy: %f ' % ((np.sum(y_train == predictions))/float(y_train.size)*100))\n",
    "\n",
    "predictions = best_model.predict(X_test)\n",
    "print ('Accuracy: %f ' % ((np.sum(y_test == predictions))/float(y_test.size)*100))\n",
    "\n",
    "print(classification_report(y_test, predictions))\n"
   ]
  },
  {
   "cell_type": "markdown",
   "metadata": {
    "colab_type": "text",
    "id": "a4zKiYJV0rcy"
   },
   "source": [
    "###**2.2.DecisionTreeClassifier**. \n",
    "Idem anterior"
   ]
  },
  {
   "cell_type": "code",
   "execution_count": 13,
   "metadata": {
    "colab": {
     "base_uri": "https://localhost:8080/",
     "height": 1000
    },
    "colab_type": "code",
    "id": "W0xW89d76xCB",
    "outputId": "b403fede-716e-42b4-be2f-9df660dbdc99"
   },
   "outputs": [
    {
     "name": "stdout",
     "output_type": "stream",
     "text": [
      "Fitting 5 folds for each of 48 candidates, totalling 240 fits\n"
     ]
    },
    {
     "name": "stderr",
     "output_type": "stream",
     "text": [
      "[Parallel(n_jobs=-1)]: Using backend LokyBackend with 4 concurrent workers.\n",
      "[Parallel(n_jobs=-1)]: Done   5 tasks      | elapsed:    2.2s\n",
      "[Parallel(n_jobs=-1)]: Done  10 tasks      | elapsed:    2.7s\n",
      "[Parallel(n_jobs=-1)]: Done  17 tasks      | elapsed:    3.7s\n",
      "[Parallel(n_jobs=-1)]: Done  24 tasks      | elapsed:    4.3s\n",
      "[Parallel(n_jobs=-1)]: Done  33 tasks      | elapsed:    5.7s\n",
      "[Parallel(n_jobs=-1)]: Done  42 tasks      | elapsed:    6.7s\n",
      "[Parallel(n_jobs=-1)]: Done  53 tasks      | elapsed:    8.0s\n",
      "[Parallel(n_jobs=-1)]: Done  64 tasks      | elapsed:    9.2s\n",
      "[Parallel(n_jobs=-1)]: Done  77 tasks      | elapsed:   10.9s\n",
      "[Parallel(n_jobs=-1)]: Done  90 tasks      | elapsed:   12.3s\n",
      "[Parallel(n_jobs=-1)]: Done 105 tasks      | elapsed:   14.2s\n",
      "[Parallel(n_jobs=-1)]: Done 120 tasks      | elapsed:   16.0s\n",
      "[Parallel(n_jobs=-1)]: Done 137 tasks      | elapsed:   19.8s\n",
      "[Parallel(n_jobs=-1)]: Done 154 tasks      | elapsed:   23.6s\n",
      "[Parallel(n_jobs=-1)]: Done 173 tasks      | elapsed:   27.2s\n",
      "[Parallel(n_jobs=-1)]: Done 192 tasks      | elapsed:   31.3s\n",
      "[Parallel(n_jobs=-1)]: Done 213 tasks      | elapsed:   36.2s\n",
      "[Parallel(n_jobs=-1)]: Done 240 out of 240 | elapsed:   42.2s finished\n"
     ]
    },
    {
     "data": {
      "text/html": [
       "<div>\n",
       "<style scoped>\n",
       "    .dataframe tbody tr th:only-of-type {\n",
       "        vertical-align: middle;\n",
       "    }\n",
       "\n",
       "    .dataframe tbody tr th {\n",
       "        vertical-align: top;\n",
       "    }\n",
       "\n",
       "    .dataframe thead th {\n",
       "        text-align: right;\n",
       "    }\n",
       "</style>\n",
       "<table border=\"1\" class=\"dataframe\">\n",
       "  <thead>\n",
       "    <tr style=\"text-align: right;\">\n",
       "      <th></th>\n",
       "      <th>param_criterion</th>\n",
       "      <th>param_max_depth</th>\n",
       "      <th>param_min_samples_leaf</th>\n",
       "      <th>mean_test_score</th>\n",
       "      <th>std_test_score</th>\n",
       "      <th>rank_test_score</th>\n",
       "    </tr>\n",
       "  </thead>\n",
       "  <tbody>\n",
       "    <tr>\n",
       "      <th>29</th>\n",
       "      <td>entropy</td>\n",
       "      <td>11</td>\n",
       "      <td>3</td>\n",
       "      <td>0.999535</td>\n",
       "      <td>0.000410</td>\n",
       "      <td>1</td>\n",
       "    </tr>\n",
       "    <tr>\n",
       "      <th>47</th>\n",
       "      <td>entropy</td>\n",
       "      <td>17</td>\n",
       "      <td>3</td>\n",
       "      <td>0.999451</td>\n",
       "      <td>0.000343</td>\n",
       "      <td>2</td>\n",
       "    </tr>\n",
       "    <tr>\n",
       "      <th>32</th>\n",
       "      <td>entropy</td>\n",
       "      <td>12</td>\n",
       "      <td>3</td>\n",
       "      <td>0.999451</td>\n",
       "      <td>0.000343</td>\n",
       "      <td>2</td>\n",
       "    </tr>\n",
       "    <tr>\n",
       "      <th>38</th>\n",
       "      <td>entropy</td>\n",
       "      <td>14</td>\n",
       "      <td>3</td>\n",
       "      <td>0.999451</td>\n",
       "      <td>0.000343</td>\n",
       "      <td>2</td>\n",
       "    </tr>\n",
       "    <tr>\n",
       "      <th>41</th>\n",
       "      <td>entropy</td>\n",
       "      <td>15</td>\n",
       "      <td>3</td>\n",
       "      <td>0.999451</td>\n",
       "      <td>0.000343</td>\n",
       "      <td>2</td>\n",
       "    </tr>\n",
       "    <tr>\n",
       "      <th>35</th>\n",
       "      <td>entropy</td>\n",
       "      <td>13</td>\n",
       "      <td>3</td>\n",
       "      <td>0.999451</td>\n",
       "      <td>0.000343</td>\n",
       "      <td>2</td>\n",
       "    </tr>\n",
       "    <tr>\n",
       "      <th>44</th>\n",
       "      <td>entropy</td>\n",
       "      <td>16</td>\n",
       "      <td>3</td>\n",
       "      <td>0.999451</td>\n",
       "      <td>0.000343</td>\n",
       "      <td>2</td>\n",
       "    </tr>\n",
       "    <tr>\n",
       "      <th>27</th>\n",
       "      <td>entropy</td>\n",
       "      <td>11</td>\n",
       "      <td>1</td>\n",
       "      <td>0.999451</td>\n",
       "      <td>0.000316</td>\n",
       "      <td>8</td>\n",
       "    </tr>\n",
       "    <tr>\n",
       "      <th>28</th>\n",
       "      <td>entropy</td>\n",
       "      <td>11</td>\n",
       "      <td>2</td>\n",
       "      <td>0.999451</td>\n",
       "      <td>0.000392</td>\n",
       "      <td>9</td>\n",
       "    </tr>\n",
       "    <tr>\n",
       "      <th>31</th>\n",
       "      <td>entropy</td>\n",
       "      <td>12</td>\n",
       "      <td>2</td>\n",
       "      <td>0.999366</td>\n",
       "      <td>0.000299</td>\n",
       "      <td>10</td>\n",
       "    </tr>\n",
       "    <tr>\n",
       "      <th>34</th>\n",
       "      <td>entropy</td>\n",
       "      <td>13</td>\n",
       "      <td>2</td>\n",
       "      <td>0.999366</td>\n",
       "      <td>0.000299</td>\n",
       "      <td>10</td>\n",
       "    </tr>\n",
       "    <tr>\n",
       "      <th>40</th>\n",
       "      <td>entropy</td>\n",
       "      <td>15</td>\n",
       "      <td>2</td>\n",
       "      <td>0.999366</td>\n",
       "      <td>0.000299</td>\n",
       "      <td>10</td>\n",
       "    </tr>\n",
       "    <tr>\n",
       "      <th>37</th>\n",
       "      <td>entropy</td>\n",
       "      <td>14</td>\n",
       "      <td>2</td>\n",
       "      <td>0.999366</td>\n",
       "      <td>0.000299</td>\n",
       "      <td>10</td>\n",
       "    </tr>\n",
       "    <tr>\n",
       "      <th>43</th>\n",
       "      <td>entropy</td>\n",
       "      <td>16</td>\n",
       "      <td>2</td>\n",
       "      <td>0.999366</td>\n",
       "      <td>0.000299</td>\n",
       "      <td>10</td>\n",
       "    </tr>\n",
       "    <tr>\n",
       "      <th>46</th>\n",
       "      <td>entropy</td>\n",
       "      <td>17</td>\n",
       "      <td>2</td>\n",
       "      <td>0.999366</td>\n",
       "      <td>0.000299</td>\n",
       "      <td>10</td>\n",
       "    </tr>\n",
       "    <tr>\n",
       "      <th>36</th>\n",
       "      <td>entropy</td>\n",
       "      <td>14</td>\n",
       "      <td>1</td>\n",
       "      <td>0.999324</td>\n",
       "      <td>0.000158</td>\n",
       "      <td>16</td>\n",
       "    </tr>\n",
       "    <tr>\n",
       "      <th>33</th>\n",
       "      <td>entropy</td>\n",
       "      <td>13</td>\n",
       "      <td>1</td>\n",
       "      <td>0.999324</td>\n",
       "      <td>0.000158</td>\n",
       "      <td>16</td>\n",
       "    </tr>\n",
       "    <tr>\n",
       "      <th>42</th>\n",
       "      <td>entropy</td>\n",
       "      <td>16</td>\n",
       "      <td>1</td>\n",
       "      <td>0.999324</td>\n",
       "      <td>0.000158</td>\n",
       "      <td>16</td>\n",
       "    </tr>\n",
       "    <tr>\n",
       "      <th>30</th>\n",
       "      <td>entropy</td>\n",
       "      <td>12</td>\n",
       "      <td>1</td>\n",
       "      <td>0.999324</td>\n",
       "      <td>0.000246</td>\n",
       "      <td>16</td>\n",
       "    </tr>\n",
       "    <tr>\n",
       "      <th>45</th>\n",
       "      <td>entropy</td>\n",
       "      <td>17</td>\n",
       "      <td>1</td>\n",
       "      <td>0.999324</td>\n",
       "      <td>0.000158</td>\n",
       "      <td>16</td>\n",
       "    </tr>\n",
       "    <tr>\n",
       "      <th>39</th>\n",
       "      <td>entropy</td>\n",
       "      <td>15</td>\n",
       "      <td>1</td>\n",
       "      <td>0.999324</td>\n",
       "      <td>0.000158</td>\n",
       "      <td>16</td>\n",
       "    </tr>\n",
       "    <tr>\n",
       "      <th>26</th>\n",
       "      <td>entropy</td>\n",
       "      <td>10</td>\n",
       "      <td>3</td>\n",
       "      <td>0.999155</td>\n",
       "      <td>0.000768</td>\n",
       "      <td>22</td>\n",
       "    </tr>\n",
       "    <tr>\n",
       "      <th>24</th>\n",
       "      <td>entropy</td>\n",
       "      <td>10</td>\n",
       "      <td>1</td>\n",
       "      <td>0.999070</td>\n",
       "      <td>0.000763</td>\n",
       "      <td>23</td>\n",
       "    </tr>\n",
       "    <tr>\n",
       "      <th>25</th>\n",
       "      <td>entropy</td>\n",
       "      <td>10</td>\n",
       "      <td>2</td>\n",
       "      <td>0.999028</td>\n",
       "      <td>0.000809</td>\n",
       "      <td>24</td>\n",
       "    </tr>\n",
       "    <tr>\n",
       "      <th>23</th>\n",
       "      <td>gini</td>\n",
       "      <td>17</td>\n",
       "      <td>3</td>\n",
       "      <td>0.998563</td>\n",
       "      <td>0.000410</td>\n",
       "      <td>25</td>\n",
       "    </tr>\n",
       "    <tr>\n",
       "      <th>21</th>\n",
       "      <td>gini</td>\n",
       "      <td>17</td>\n",
       "      <td>1</td>\n",
       "      <td>0.998563</td>\n",
       "      <td>0.000364</td>\n",
       "      <td>25</td>\n",
       "    </tr>\n",
       "    <tr>\n",
       "      <th>20</th>\n",
       "      <td>gini</td>\n",
       "      <td>16</td>\n",
       "      <td>3</td>\n",
       "      <td>0.998563</td>\n",
       "      <td>0.000410</td>\n",
       "      <td>25</td>\n",
       "    </tr>\n",
       "    <tr>\n",
       "      <th>18</th>\n",
       "      <td>gini</td>\n",
       "      <td>16</td>\n",
       "      <td>1</td>\n",
       "      <td>0.998563</td>\n",
       "      <td>0.000364</td>\n",
       "      <td>25</td>\n",
       "    </tr>\n",
       "    <tr>\n",
       "      <th>17</th>\n",
       "      <td>gini</td>\n",
       "      <td>15</td>\n",
       "      <td>3</td>\n",
       "      <td>0.998563</td>\n",
       "      <td>0.000410</td>\n",
       "      <td>25</td>\n",
       "    </tr>\n",
       "    <tr>\n",
       "      <th>15</th>\n",
       "      <td>gini</td>\n",
       "      <td>15</td>\n",
       "      <td>1</td>\n",
       "      <td>0.998563</td>\n",
       "      <td>0.000364</td>\n",
       "      <td>25</td>\n",
       "    </tr>\n",
       "    <tr>\n",
       "      <th>14</th>\n",
       "      <td>gini</td>\n",
       "      <td>14</td>\n",
       "      <td>3</td>\n",
       "      <td>0.998563</td>\n",
       "      <td>0.000410</td>\n",
       "      <td>25</td>\n",
       "    </tr>\n",
       "    <tr>\n",
       "      <th>12</th>\n",
       "      <td>gini</td>\n",
       "      <td>14</td>\n",
       "      <td>1</td>\n",
       "      <td>0.998563</td>\n",
       "      <td>0.000364</td>\n",
       "      <td>25</td>\n",
       "    </tr>\n",
       "    <tr>\n",
       "      <th>19</th>\n",
       "      <td>gini</td>\n",
       "      <td>16</td>\n",
       "      <td>2</td>\n",
       "      <td>0.998478</td>\n",
       "      <td>0.000311</td>\n",
       "      <td>33</td>\n",
       "    </tr>\n",
       "    <tr>\n",
       "      <th>16</th>\n",
       "      <td>gini</td>\n",
       "      <td>15</td>\n",
       "      <td>2</td>\n",
       "      <td>0.998478</td>\n",
       "      <td>0.000311</td>\n",
       "      <td>33</td>\n",
       "    </tr>\n",
       "    <tr>\n",
       "      <th>13</th>\n",
       "      <td>gini</td>\n",
       "      <td>14</td>\n",
       "      <td>2</td>\n",
       "      <td>0.998478</td>\n",
       "      <td>0.000311</td>\n",
       "      <td>33</td>\n",
       "    </tr>\n",
       "    <tr>\n",
       "      <th>22</th>\n",
       "      <td>gini</td>\n",
       "      <td>17</td>\n",
       "      <td>2</td>\n",
       "      <td>0.998478</td>\n",
       "      <td>0.000311</td>\n",
       "      <td>33</td>\n",
       "    </tr>\n",
       "    <tr>\n",
       "      <th>11</th>\n",
       "      <td>gini</td>\n",
       "      <td>13</td>\n",
       "      <td>3</td>\n",
       "      <td>0.997337</td>\n",
       "      <td>0.002393</td>\n",
       "      <td>37</td>\n",
       "    </tr>\n",
       "    <tr>\n",
       "      <th>9</th>\n",
       "      <td>gini</td>\n",
       "      <td>13</td>\n",
       "      <td>1</td>\n",
       "      <td>0.997253</td>\n",
       "      <td>0.002457</td>\n",
       "      <td>38</td>\n",
       "    </tr>\n",
       "    <tr>\n",
       "      <th>10</th>\n",
       "      <td>gini</td>\n",
       "      <td>13</td>\n",
       "      <td>2</td>\n",
       "      <td>0.997210</td>\n",
       "      <td>0.002426</td>\n",
       "      <td>39</td>\n",
       "    </tr>\n",
       "    <tr>\n",
       "      <th>6</th>\n",
       "      <td>gini</td>\n",
       "      <td>12</td>\n",
       "      <td>1</td>\n",
       "      <td>0.996027</td>\n",
       "      <td>0.004484</td>\n",
       "      <td>40</td>\n",
       "    </tr>\n",
       "    <tr>\n",
       "      <th>8</th>\n",
       "      <td>gini</td>\n",
       "      <td>12</td>\n",
       "      <td>3</td>\n",
       "      <td>0.995858</td>\n",
       "      <td>0.004616</td>\n",
       "      <td>41</td>\n",
       "    </tr>\n",
       "    <tr>\n",
       "      <th>7</th>\n",
       "      <td>gini</td>\n",
       "      <td>12</td>\n",
       "      <td>2</td>\n",
       "      <td>0.995816</td>\n",
       "      <td>0.004694</td>\n",
       "      <td>42</td>\n",
       "    </tr>\n",
       "    <tr>\n",
       "      <th>3</th>\n",
       "      <td>gini</td>\n",
       "      <td>11</td>\n",
       "      <td>1</td>\n",
       "      <td>0.984488</td>\n",
       "      <td>0.001467</td>\n",
       "      <td>43</td>\n",
       "    </tr>\n",
       "    <tr>\n",
       "      <th>4</th>\n",
       "      <td>gini</td>\n",
       "      <td>11</td>\n",
       "      <td>2</td>\n",
       "      <td>0.984446</td>\n",
       "      <td>0.001430</td>\n",
       "      <td>44</td>\n",
       "    </tr>\n",
       "    <tr>\n",
       "      <th>5</th>\n",
       "      <td>gini</td>\n",
       "      <td>11</td>\n",
       "      <td>3</td>\n",
       "      <td>0.984403</td>\n",
       "      <td>0.001566</td>\n",
       "      <td>45</td>\n",
       "    </tr>\n",
       "    <tr>\n",
       "      <th>2</th>\n",
       "      <td>gini</td>\n",
       "      <td>10</td>\n",
       "      <td>3</td>\n",
       "      <td>0.971427</td>\n",
       "      <td>0.000903</td>\n",
       "      <td>46</td>\n",
       "    </tr>\n",
       "    <tr>\n",
       "      <th>0</th>\n",
       "      <td>gini</td>\n",
       "      <td>10</td>\n",
       "      <td>1</td>\n",
       "      <td>0.971427</td>\n",
       "      <td>0.000960</td>\n",
       "      <td>46</td>\n",
       "    </tr>\n",
       "    <tr>\n",
       "      <th>1</th>\n",
       "      <td>gini</td>\n",
       "      <td>10</td>\n",
       "      <td>2</td>\n",
       "      <td>0.971300</td>\n",
       "      <td>0.000961</td>\n",
       "      <td>48</td>\n",
       "    </tr>\n",
       "  </tbody>\n",
       "</table>\n",
       "</div>"
      ],
      "text/plain": [
       "   param_criterion param_max_depth param_min_samples_leaf  mean_test_score  \\\n",
       "29         entropy              11                      3         0.999535   \n",
       "47         entropy              17                      3         0.999451   \n",
       "32         entropy              12                      3         0.999451   \n",
       "38         entropy              14                      3         0.999451   \n",
       "41         entropy              15                      3         0.999451   \n",
       "35         entropy              13                      3         0.999451   \n",
       "44         entropy              16                      3         0.999451   \n",
       "27         entropy              11                      1         0.999451   \n",
       "28         entropy              11                      2         0.999451   \n",
       "31         entropy              12                      2         0.999366   \n",
       "34         entropy              13                      2         0.999366   \n",
       "40         entropy              15                      2         0.999366   \n",
       "37         entropy              14                      2         0.999366   \n",
       "43         entropy              16                      2         0.999366   \n",
       "46         entropy              17                      2         0.999366   \n",
       "36         entropy              14                      1         0.999324   \n",
       "33         entropy              13                      1         0.999324   \n",
       "42         entropy              16                      1         0.999324   \n",
       "30         entropy              12                      1         0.999324   \n",
       "45         entropy              17                      1         0.999324   \n",
       "39         entropy              15                      1         0.999324   \n",
       "26         entropy              10                      3         0.999155   \n",
       "24         entropy              10                      1         0.999070   \n",
       "25         entropy              10                      2         0.999028   \n",
       "23            gini              17                      3         0.998563   \n",
       "21            gini              17                      1         0.998563   \n",
       "20            gini              16                      3         0.998563   \n",
       "18            gini              16                      1         0.998563   \n",
       "17            gini              15                      3         0.998563   \n",
       "15            gini              15                      1         0.998563   \n",
       "14            gini              14                      3         0.998563   \n",
       "12            gini              14                      1         0.998563   \n",
       "19            gini              16                      2         0.998478   \n",
       "16            gini              15                      2         0.998478   \n",
       "13            gini              14                      2         0.998478   \n",
       "22            gini              17                      2         0.998478   \n",
       "11            gini              13                      3         0.997337   \n",
       "9             gini              13                      1         0.997253   \n",
       "10            gini              13                      2         0.997210   \n",
       "6             gini              12                      1         0.996027   \n",
       "8             gini              12                      3         0.995858   \n",
       "7             gini              12                      2         0.995816   \n",
       "3             gini              11                      1         0.984488   \n",
       "4             gini              11                      2         0.984446   \n",
       "5             gini              11                      3         0.984403   \n",
       "2             gini              10                      3         0.971427   \n",
       "0             gini              10                      1         0.971427   \n",
       "1             gini              10                      2         0.971300   \n",
       "\n",
       "    std_test_score  rank_test_score  \n",
       "29        0.000410                1  \n",
       "47        0.000343                2  \n",
       "32        0.000343                2  \n",
       "38        0.000343                2  \n",
       "41        0.000343                2  \n",
       "35        0.000343                2  \n",
       "44        0.000343                2  \n",
       "27        0.000316                8  \n",
       "28        0.000392                9  \n",
       "31        0.000299               10  \n",
       "34        0.000299               10  \n",
       "40        0.000299               10  \n",
       "37        0.000299               10  \n",
       "43        0.000299               10  \n",
       "46        0.000299               10  \n",
       "36        0.000158               16  \n",
       "33        0.000158               16  \n",
       "42        0.000158               16  \n",
       "30        0.000246               16  \n",
       "45        0.000158               16  \n",
       "39        0.000158               16  \n",
       "26        0.000768               22  \n",
       "24        0.000763               23  \n",
       "25        0.000809               24  \n",
       "23        0.000410               25  \n",
       "21        0.000364               25  \n",
       "20        0.000410               25  \n",
       "18        0.000364               25  \n",
       "17        0.000410               25  \n",
       "15        0.000364               25  \n",
       "14        0.000410               25  \n",
       "12        0.000364               25  \n",
       "19        0.000311               33  \n",
       "16        0.000311               33  \n",
       "13        0.000311               33  \n",
       "22        0.000311               33  \n",
       "11        0.002393               37  \n",
       "9         0.002457               38  \n",
       "10        0.002426               39  \n",
       "6         0.004484               40  \n",
       "8         0.004616               41  \n",
       "7         0.004694               42  \n",
       "3         0.001467               43  \n",
       "4         0.001430               44  \n",
       "5         0.001566               45  \n",
       "2         0.000903               46  \n",
       "0         0.000960               46  \n",
       "1         0.000961               48  "
      ]
     },
     "execution_count": 13,
     "metadata": {},
     "output_type": "execute_result"
    }
   ],
   "source": [
    "clf_model = DecisionTreeClassifier(random_state=0)\n",
    "\n",
    "param_grid = {\n",
    "    'criterion': [\n",
    "        'gini',\n",
    "        'entropy',\n",
    "    ],\n",
    "    'max_depth': list(range(10,18)),\n",
    "    'min_samples_leaf' : list(range(1,4)),\n",
    "}\n",
    "\n",
    "# Param cv = None (default), to use the default 5-fold cross validation\n",
    "cv = GridSearchCV(clf_model, param_grid, scoring='accuracy', verbose=10, n_jobs=-1)\n",
    "cv.fit(X_train, y_train);\n",
    "\n",
    "\n",
    "results = cv.cv_results_\n",
    "best_model = cv.best_estimator_\n",
    "df = pd.DataFrame(results).sort_values('rank_test_score')\n",
    "df[['param_criterion', 'param_max_depth', 'param_min_samples_leaf', 'mean_test_score', 'std_test_score', 'rank_test_score']]"
   ]
  },
  {
   "cell_type": "code",
   "execution_count": 14,
   "metadata": {
    "colab": {
     "base_uri": "https://localhost:8080/",
     "height": 459
    },
    "colab_type": "code",
    "id": "F5uEDXpYKN4I",
    "outputId": "79feb890-9f79-4591-f501-be35970a807c"
   },
   "outputs": [
    {
     "name": "stdout",
     "output_type": "stream",
     "text": [
      "Accuracy: 99.983093 \n",
      "Accuracy: 99.915469 \n",
      "              precision    recall  f1-score   support\n",
      "\n",
      "         3.9       1.00      1.00      1.00       161\n",
      "         4.1       1.00      1.00      1.00       232\n",
      "         4.3       1.00      1.00      1.00       329\n",
      "         4.5       1.00      1.00      1.00       162\n",
      "         4.7       1.00      1.00      1.00       197\n",
      "         5.1       1.00      1.00      1.00       241\n",
      "         5.3       1.00      1.00      1.00       123\n",
      "         5.4       1.00      1.00      1.00       157\n",
      "         5.5       1.00      1.00      1.00       157\n",
      "         5.7       1.00      1.00      1.00       351\n",
      "         5.8       1.00      1.00      1.00       663\n",
      "         5.9       1.00      1.00      1.00       649\n",
      "         6.1       1.00      1.00      1.00       698\n",
      "         6.5       1.00      1.00      1.00       765\n",
      "         6.6       1.00      1.00      1.00       263\n",
      "         6.7       1.00      1.00      1.00       520\n",
      "         6.9       1.00      1.00      1.00       247\n",
      "\n",
      "    accuracy                           1.00      5915\n",
      "   macro avg       1.00      1.00      1.00      5915\n",
      "weighted avg       1.00      1.00      1.00      5915\n",
      "\n"
     ]
    }
   ],
   "source": [
    "# Get best model\n",
    "best_model = cv.best_estimator_\n",
    "\n",
    "\n",
    "predictions = best_model.predict(X_train)\n",
    "print ('Accuracy: %f ' % ((np.sum(y_train == predictions))/float(y_train.size)*100))\n",
    "\n",
    "predictions = best_model.predict(X_test)\n",
    "print ('Accuracy: %f ' % ((np.sum(y_test == predictions))/float(y_test.size)*100))\n",
    "\n",
    "print(classification_report(y_test, predictions))"
   ]
  },
  {
   "cell_type": "markdown",
   "metadata": {
    "colab_type": "text",
    "id": "38X2jvXz2Knj"
   },
   "source": [
    "###**2.3.Random Forest**\n",
    "idem anterior"
   ]
  },
  {
   "cell_type": "code",
   "execution_count": 28,
   "metadata": {
    "colab": {},
    "colab_type": "code",
    "id": "61KUpoBh9MZp"
   },
   "outputs": [],
   "source": [
    "from sklearn.ensemble import RandomForestClassifier\n",
    "from sklearn.model_selection import RandomizedSearchCV\n",
    "from sklearn.metrics import accuracy_score"
   ]
  },
  {
   "cell_type": "code",
   "execution_count": 29,
   "metadata": {
    "colab": {},
    "colab_type": "code",
    "id": "0KgiButa8YgY"
   },
   "outputs": [],
   "source": [
    "\n",
    "param_distributions = {'criterion': ['gini', 'entropy'], 'min_samples_split': [2, 5, 10], 'min_samples_leaf': [1, 2, 6], 'n_estimators': [30,60], 'max_features':['sqrt','log2',6]}\n",
    "random_cv=RandomizedSearchCV( RandomForestClassifier(random_state=1, n_jobs=-1) ,param_distributions, n_iter=10, scoring='accuracy', cv=3, n_jobs=-1)\n",
    "\n",
    "\n",
    "random_cv.fit(X_train, y_train)\n",
    "best_model=random_cv.best_estimator_"
   ]
  },
  {
   "cell_type": "code",
   "execution_count": 30,
   "metadata": {
    "colab": {
     "base_uri": "https://localhost:8080/",
     "height": 170
    },
    "colab_type": "code",
    "id": "wHNr_7-M0qbK",
    "outputId": "705ceabd-d878-4620-9d3f-2fa3d4f27bb1"
   },
   "outputs": [
    {
     "name": "stdout",
     "output_type": "stream",
     "text": [
      "random forest accuracy:  0.9982247984714089\n",
      "RandomForestClassifier(max_features='sqrt', min_samples_split=5,\n",
      "                       n_estimators=60, n_jobs=-1, random_state=1)\n"
     ]
    }
   ],
   "source": [
    "print('random forest accuracy: ', random_cv.best_score_)\n",
    "print(best_model)\n"
   ]
  },
  {
   "cell_type": "code",
   "execution_count": 31,
   "metadata": {
    "colab": {
     "base_uri": "https://localhost:8080/",
     "height": 459
    },
    "colab_type": "code",
    "id": "IhPy17p9KN4d",
    "outputId": "bc18e338-fdcb-436b-b068-7ae4b881df82"
   },
   "outputs": [
    {
     "name": "stdout",
     "output_type": "stream",
     "text": [
      "Accuracy: 100.000000 \n",
      "Accuracy: 99.898563 \n",
      "              precision    recall  f1-score   support\n",
      "\n",
      "         3.9       1.00      1.00      1.00       161\n",
      "         4.1       1.00      1.00      1.00       232\n",
      "         4.3       1.00      1.00      1.00       329\n",
      "         4.5       1.00      1.00      1.00       162\n",
      "         4.7       1.00      1.00      1.00       197\n",
      "         5.1       1.00      1.00      1.00       241\n",
      "         5.3       0.97      0.99      0.98       123\n",
      "         5.4       1.00      1.00      1.00       157\n",
      "         5.5       1.00      1.00      1.00       157\n",
      "         5.7       1.00      1.00      1.00       351\n",
      "         5.8       1.00      1.00      1.00       663\n",
      "         5.9       1.00      0.99      1.00       649\n",
      "         6.1       1.00      1.00      1.00       698\n",
      "         6.5       1.00      1.00      1.00       765\n",
      "         6.6       1.00      1.00      1.00       263\n",
      "         6.7       1.00      1.00      1.00       520\n",
      "         6.9       1.00      1.00      1.00       247\n",
      "\n",
      "    accuracy                           1.00      5915\n",
      "   macro avg       1.00      1.00      1.00      5915\n",
      "weighted avg       1.00      1.00      1.00      5915\n",
      "\n"
     ]
    }
   ],
   "source": [
    "# Get best model\n",
    "best_model = random_cv.best_estimator_\n",
    "\n",
    "\n",
    "predictions = best_model.predict(X_train)\n",
    "print ('Accuracy: %f ' % ((np.sum(y_train == predictions))/float(y_train.size)*100))\n",
    "\n",
    "predictions = best_model.predict(X_test)\n",
    "print ('Accuracy: %f ' % ((np.sum(y_test == predictions))/float(y_test.size)*100))\n",
    "\n",
    "print(classification_report(y_test, predictions))"
   ]
  },
  {
   "cell_type": "code",
   "execution_count": 34,
   "metadata": {
    "colab": {
     "base_uri": "https://localhost:8080/",
     "height": 374
    },
    "colab_type": "code",
    "id": "j_iavI9DkLqs",
    "outputId": "3807d525-ede0-4573-fc4b-53a6e63e5599"
   },
   "outputs": [
    {
     "data": {
      "image/png": "[encoded data removed]",
      "text/plain": [
       "<Figure size 720x720 with 1 Axes>"
      ]
     },
     "metadata": {
      "needs_background": "light"
     },
     "output_type": "display_data"
    }
   ],
   "source": [
    "# Importancia de las variables input del modelo\n",
    "from matplotlib import pyplot\n",
    "plt.figure(figsize=(10,10))\n",
    "pyplot.barh(feature_names, best_model.feature_importances_)\n",
    "pyplot.show()"
   ]
  },
  {
   "cell_type": "markdown",
   "metadata": {
    "colab_type": "text",
    "id": "yDZeBuBa3gFZ"
   },
   "source": [
    "###**2.4. Responder**\n",
    "\n",
    "¿Qué diferencias hay entre los distintos modelos? ¿Qué tan buenas son las predicciones?\n",
    "\n",
    "Jueguen un poco variando algunos parámetros (no es necesario hacer una búsqueda sistemática). ¿Qué parámetros influyen más en el desempeño de los clasificadores? ¿Por qué les parece que algunos parámetros influyen más que otros?\n",
    "\n"
   ]
  },
  {
   "cell_type": "markdown",
   "metadata": {
    "colab_type": "text",
    "id": "c5msZV9jKN4k"
   },
   "source": [
    "- El clasificador SGD implementa modelos lineales regularizados con aprendizaje por descenso de gradientes, pudimos observar un menor rendimiento en cuanto a presición de las clasificaciones.\n",
    "\n",
    "- Los otros dos modelos, basados en árboles de decisión (Decision Tree y Random Forest), mejoraron la clasificación. Su estructura y funcionamiento es muy diferente al clasificador SGD ya que estos últimos se basan en árboles que van generando nuevas ramas a medida que van dividiendo el conjunto de datos en función a un feature en particular."
   ]
  },
  {
   "cell_type": "markdown",
   "metadata": {
    "colab_type": "text",
    "id": "fSN49zriKN4l"
   },
   "source": [
    "###**2.5.Normalizando los datos de entrada**\n",
    " (pueden usar, por ejemplo MinMaxScaler o StandardScaler). ¿Hay alguna diferencia en el resultado de los modelos? ¿A qué se debe?"
   ]
  },
  {
   "cell_type": "markdown",
   "metadata": {},
   "source": [
    "- Se observa una diferencia en el SGDClassifier ya que el mismo es sensible a la normalización de features, incluso se indica que es necesario hacerlo en la propia documentación. En el caso de los árboles, no son afectados por la no normalización de los datos por lo que se obtiene un resultado similar."
   ]
  },
  {
   "cell_type": "markdown",
   "metadata": {},
   "source": [
    "Finalmente, intenten mejorar las predicciones agregando o quitando features, o variando el tipo de encoding. En base a los resultados que vayan obteniendo, determinen los features que ustedes consideren que son más informativos (aquellos que ayudan a mejorar la predicción) y aquellos que sean redundantes, o que empeoren el resultado."
   ]
  },
  {
   "cell_type": "markdown",
   "metadata": {
    "colab_type": "text",
    "id": "MjhGLOhtKN4m"
   },
   "source": [
    "# SGDClassifier con StandarScaler"
   ]
  },
  {
   "cell_type": "code",
   "execution_count": null,
   "metadata": {
    "colab": {},
    "colab_type": "code",
    "id": "--cAL4y7bs4z"
   },
   "outputs": [],
   "source": [
    "param_grid = {\n",
    "    'sgdclassifier__learning_rate': ('constant','optimal','invscaling','adaptive'),\n",
    "    'sgdclassifier__loss': ('hinge', 'log', 'modified_huber','squared_hinge'),\n",
    "    'sgdclassifier__alpha': (0.1, 0.01),   # Tasa de regularización\n",
    "    'sgdclassifier__eta0':  (0.1, 0.01),   # Tasa de entrenamiento\n",
    "}"
   ]
  },
  {
   "cell_type": "code",
   "execution_count": null,
   "metadata": {
    "colab": {},
    "colab_type": "code",
    "id": "nSZzYOoma4Xv"
   },
   "outputs": [],
   "source": [
    "model=make_pipeline(StandardScaler(), SGDClassifier(random_state=0, n_jobs=-1, max_iter=300))\n",
    "cv = GridSearchCV(model, param_grid, scoring='accuracy', cv=2, n_jobs=-1)\n"
   ]
  },
  {
   "cell_type": "code",
   "execution_count": null,
   "metadata": {
    "colab": {
     "base_uri": "https://localhost:8080/",
     "height": 527
    },
    "colab_type": "code",
    "id": "WiwNJD16dn8T",
    "outputId": "f5b5f6ce-47f2-41ce-9e71-4e533944e705"
   },
   "outputs": [
    {
     "data": {
      "text/plain": [
       "GridSearchCV(cv=2, error_score=nan,\n",
       "             estimator=Pipeline(memory=None,\n",
       "                                steps=[('standardscaler',\n",
       "                                        StandardScaler(copy=True,\n",
       "                                                       with_mean=True,\n",
       "                                                       with_std=True)),\n",
       "                                       ('sgdclassifier',\n",
       "                                        SGDClassifier(alpha=0.0001,\n",
       "                                                      average=False,\n",
       "                                                      class_weight=None,\n",
       "                                                      early_stopping=False,\n",
       "                                                      epsilon=0.1, eta0=0.0,\n",
       "                                                      fit_intercept=True,\n",
       "                                                      l1_ratio=0.15,\n",
       "                                                      learning_rate='optimal',\n",
       "                                                      loss='hinge',\n",
       "                                                      max_iter=300,\n",
       "                                                      n_i...\n",
       "                                verbose=False),\n",
       "             iid='deprecated', n_jobs=-1,\n",
       "             param_grid={'sgdclassifier__alpha': (0.1, 0.01),\n",
       "                         'sgdclassifier__eta0': (0.1, 0.01),\n",
       "                         'sgdclassifier__learning_rate': ('constant', 'optimal',\n",
       "                                                          'invscaling',\n",
       "                                                          'adaptive'),\n",
       "                         'sgdclassifier__loss': ('hinge', 'log',\n",
       "                                                 'modified_huber',\n",
       "                                                 'squared_hinge')},\n",
       "             pre_dispatch='2*n_jobs', refit=True, return_train_score=False,\n",
       "             scoring='accuracy', verbose=0)"
      ]
     },
     "execution_count": 56,
     "metadata": {
      "tags": []
     },
     "output_type": "execute_result"
    }
   ],
   "source": [
    "cv.fit(X_train, y_train)"
   ]
  },
  {
   "cell_type": "code",
   "execution_count": null,
   "metadata": {
    "colab": {
     "base_uri": "https://localhost:8080/",
     "height": 419
    },
    "colab_type": "code",
    "id": "rNCWN-a56O7k",
    "outputId": "a62c7e17-e85c-4492-a17e-0574766988c4"
   },
   "outputs": [
    {
     "data": {
      "text/html": [
       "<div>\n",
       "<style scoped>\n",
       "    .dataframe tbody tr th:only-of-type {\n",
       "        vertical-align: middle;\n",
       "    }\n",
       "\n",
       "    .dataframe tbody tr th {\n",
       "        vertical-align: top;\n",
       "    }\n",
       "\n",
       "    .dataframe thead th {\n",
       "        text-align: right;\n",
       "    }\n",
       "</style>\n",
       "<table border=\"1\" class=\"dataframe\">\n",
       "  <thead>\n",
       "    <tr style=\"text-align: right;\">\n",
       "      <th></th>\n",
       "      <th>param_sgdclassifier__alpha</th>\n",
       "      <th>param_sgdclassifier__eta0</th>\n",
       "      <th>param_sgdclassifier__learning_rate</th>\n",
       "      <th>param_sgdclassifier__loss</th>\n",
       "      <th>mean_test_score</th>\n",
       "      <th>std_test_score</th>\n",
       "      <th>rank_test_score</th>\n",
       "    </tr>\n",
       "  </thead>\n",
       "  <tbody>\n",
       "    <tr>\n",
       "      <th>47</th>\n",
       "      <td>0.01</td>\n",
       "      <td>0.1</td>\n",
       "      <td>adaptive</td>\n",
       "      <td>squared_hinge</td>\n",
       "      <td>0.824337</td>\n",
       "      <td>0.000077</td>\n",
       "      <td>1</td>\n",
       "    </tr>\n",
       "    <tr>\n",
       "      <th>62</th>\n",
       "      <td>0.01</td>\n",
       "      <td>0.01</td>\n",
       "      <td>adaptive</td>\n",
       "      <td>modified_huber</td>\n",
       "      <td>0.824042</td>\n",
       "      <td>0.000050</td>\n",
       "      <td>2</td>\n",
       "    </tr>\n",
       "    <tr>\n",
       "      <th>63</th>\n",
       "      <td>0.01</td>\n",
       "      <td>0.01</td>\n",
       "      <td>adaptive</td>\n",
       "      <td>squared_hinge</td>\n",
       "      <td>0.823830</td>\n",
       "      <td>0.000162</td>\n",
       "      <td>3</td>\n",
       "    </tr>\n",
       "    <tr>\n",
       "      <th>46</th>\n",
       "      <td>0.01</td>\n",
       "      <td>0.1</td>\n",
       "      <td>adaptive</td>\n",
       "      <td>modified_huber</td>\n",
       "      <td>0.823408</td>\n",
       "      <td>0.000346</td>\n",
       "      <td>4</td>\n",
       "    </tr>\n",
       "    <tr>\n",
       "      <th>43</th>\n",
       "      <td>0.01</td>\n",
       "      <td>0.1</td>\n",
       "      <td>invscaling</td>\n",
       "      <td>squared_hinge</td>\n",
       "      <td>0.810685</td>\n",
       "      <td>0.004192</td>\n",
       "      <td>5</td>\n",
       "    </tr>\n",
       "    <tr>\n",
       "      <th>...</th>\n",
       "      <td>...</td>\n",
       "      <td>...</td>\n",
       "      <td>...</td>\n",
       "      <td>...</td>\n",
       "      <td>...</td>\n",
       "      <td>...</td>\n",
       "      <td>...</td>\n",
       "    </tr>\n",
       "    <tr>\n",
       "      <th>3</th>\n",
       "      <td>0.1</td>\n",
       "      <td>0.1</td>\n",
       "      <td>constant</td>\n",
       "      <td>squared_hinge</td>\n",
       "      <td>0.386874</td>\n",
       "      <td>0.049765</td>\n",
       "      <td>60</td>\n",
       "    </tr>\n",
       "    <tr>\n",
       "      <th>0</th>\n",
       "      <td>0.1</td>\n",
       "      <td>0.1</td>\n",
       "      <td>constant</td>\n",
       "      <td>hinge</td>\n",
       "      <td>0.383069</td>\n",
       "      <td>0.019501</td>\n",
       "      <td>61</td>\n",
       "    </tr>\n",
       "    <tr>\n",
       "      <th>2</th>\n",
       "      <td>0.1</td>\n",
       "      <td>0.1</td>\n",
       "      <td>constant</td>\n",
       "      <td>modified_huber</td>\n",
       "      <td>0.326810</td>\n",
       "      <td>0.003226</td>\n",
       "      <td>62</td>\n",
       "    </tr>\n",
       "    <tr>\n",
       "      <th>23</th>\n",
       "      <td>0.1</td>\n",
       "      <td>0.01</td>\n",
       "      <td>optimal</td>\n",
       "      <td>squared_hinge</td>\n",
       "      <td>0.242060</td>\n",
       "      <td>0.102995</td>\n",
       "      <td>63</td>\n",
       "    </tr>\n",
       "    <tr>\n",
       "      <th>7</th>\n",
       "      <td>0.1</td>\n",
       "      <td>0.1</td>\n",
       "      <td>optimal</td>\n",
       "      <td>squared_hinge</td>\n",
       "      <td>0.242060</td>\n",
       "      <td>0.102995</td>\n",
       "      <td>63</td>\n",
       "    </tr>\n",
       "  </tbody>\n",
       "</table>\n",
       "<p>64 rows × 7 columns</p>\n",
       "</div>"
      ],
      "text/plain": [
       "   param_sgdclassifier__alpha  ... rank_test_score\n",
       "47                       0.01  ...               1\n",
       "62                       0.01  ...               2\n",
       "63                       0.01  ...               3\n",
       "46                       0.01  ...               4\n",
       "43                       0.01  ...               5\n",
       "..                        ...  ...             ...\n",
       "3                         0.1  ...              60\n",
       "0                         0.1  ...              61\n",
       "2                         0.1  ...              62\n",
       "23                        0.1  ...              63\n",
       "7                         0.1  ...              63\n",
       "\n",
       "[64 rows x 7 columns]"
      ]
     },
     "execution_count": 57,
     "metadata": {
      "tags": []
     },
     "output_type": "execute_result"
    }
   ],
   "source": [
    "results=cv.cv_results_\n",
    "df=pd.DataFrame(results).sort_values('rank_test_score')\n",
    "df[['param_sgdclassifier__alpha',\t'param_sgdclassifier__eta0', 'param_sgdclassifier__learning_rate','param_sgdclassifier__loss','mean_test_score',\t'std_test_score',\t'rank_test_score' ]]\n"
   ]
  },
  {
   "cell_type": "markdown",
   "metadata": {
    "colab_type": "text",
    "id": "8Ss-FfXdBKAi"
   },
   "source": [
    "# Decision Tree con StandarScaler"
   ]
  },
  {
   "cell_type": "code",
   "execution_count": null,
   "metadata": {
    "colab": {},
    "colab_type": "code",
    "id": "BLZL4rD2A1XJ"
   },
   "outputs": [],
   "source": [
    "\n",
    "param_distributions = {\n",
    "    'decisiontreeclassifier__criterion': [\n",
    "        'gini',\n",
    "        'entropy',\n",
    "    ],\n",
    "    'decisiontreeclassifier__max_depth': list(range(10,18)),\n",
    "    'decisiontreeclassifier__min_samples_leaf' : list(range(1,4)),\n",
    "}\n",
    "model=make_pipeline(StandardScaler(),  DecisionTreeClassifier(random_state=2))\n",
    "cv=RandomizedSearchCV(model, param_distributions, scoring='accuracy', cv=2, n_jobs=-1)\n",
    "\n",
    "cv.fit(X_train, y_train);\n",
    "\n",
    "\n",
    "results = cv.cv_results_\n",
    "best_model = cv.best_estimator_\n",
    "df = pd.DataFrame(results).sort_values('rank_test_score')\n"
   ]
  },
  {
   "cell_type": "code",
   "execution_count": null,
   "metadata": {
    "colab": {
     "base_uri": "https://localhost:8080/",
     "height": 359
    },
    "colab_type": "code",
    "id": "H_D1qKmMCtVc",
    "outputId": "3083edcc-4e67-455b-b8aa-ba67936ee3fe"
   },
   "outputs": [
    {
     "data": {
      "text/html": [
       "<div>\n",
       "<style scoped>\n",
       "    .dataframe tbody tr th:only-of-type {\n",
       "        vertical-align: middle;\n",
       "    }\n",
       "\n",
       "    .dataframe tbody tr th {\n",
       "        vertical-align: top;\n",
       "    }\n",
       "\n",
       "    .dataframe thead th {\n",
       "        text-align: right;\n",
       "    }\n",
       "</style>\n",
       "<table border=\"1\" class=\"dataframe\">\n",
       "  <thead>\n",
       "    <tr style=\"text-align: right;\">\n",
       "      <th></th>\n",
       "      <th>param_decisiontreeclassifier__min_samples_leaf</th>\n",
       "      <th>param_decisiontreeclassifier__max_depth</th>\n",
       "      <th>param_decisiontreeclassifier__criterion</th>\n",
       "      <th>mean_test_score</th>\n",
       "      <th>std_test_score</th>\n",
       "      <th>rank_test_score</th>\n",
       "    </tr>\n",
       "  </thead>\n",
       "  <tbody>\n",
       "    <tr>\n",
       "      <th>7</th>\n",
       "      <td>2</td>\n",
       "      <td>13</td>\n",
       "      <td>entropy</td>\n",
       "      <td>0.893613</td>\n",
       "      <td>0.000630</td>\n",
       "      <td>1</td>\n",
       "    </tr>\n",
       "    <tr>\n",
       "      <th>9</th>\n",
       "      <td>1</td>\n",
       "      <td>11</td>\n",
       "      <td>entropy</td>\n",
       "      <td>0.893191</td>\n",
       "      <td>0.000723</td>\n",
       "      <td>2</td>\n",
       "    </tr>\n",
       "    <tr>\n",
       "      <th>8</th>\n",
       "      <td>3</td>\n",
       "      <td>13</td>\n",
       "      <td>entropy</td>\n",
       "      <td>0.893022</td>\n",
       "      <td>0.000469</td>\n",
       "      <td>3</td>\n",
       "    </tr>\n",
       "    <tr>\n",
       "      <th>4</th>\n",
       "      <td>1</td>\n",
       "      <td>13</td>\n",
       "      <td>entropy</td>\n",
       "      <td>0.892557</td>\n",
       "      <td>0.000334</td>\n",
       "      <td>4</td>\n",
       "    </tr>\n",
       "    <tr>\n",
       "      <th>2</th>\n",
       "      <td>1</td>\n",
       "      <td>17</td>\n",
       "      <td>entropy</td>\n",
       "      <td>0.891289</td>\n",
       "      <td>0.002362</td>\n",
       "      <td>5</td>\n",
       "    </tr>\n",
       "    <tr>\n",
       "      <th>1</th>\n",
       "      <td>3</td>\n",
       "      <td>15</td>\n",
       "      <td>entropy</td>\n",
       "      <td>0.890655</td>\n",
       "      <td>0.000376</td>\n",
       "      <td>6</td>\n",
       "    </tr>\n",
       "    <tr>\n",
       "      <th>6</th>\n",
       "      <td>1</td>\n",
       "      <td>13</td>\n",
       "      <td>gini</td>\n",
       "      <td>0.890528</td>\n",
       "      <td>0.000841</td>\n",
       "      <td>7</td>\n",
       "    </tr>\n",
       "    <tr>\n",
       "      <th>0</th>\n",
       "      <td>2</td>\n",
       "      <td>16</td>\n",
       "      <td>entropy</td>\n",
       "      <td>0.890190</td>\n",
       "      <td>0.002531</td>\n",
       "      <td>8</td>\n",
       "    </tr>\n",
       "    <tr>\n",
       "      <th>3</th>\n",
       "      <td>3</td>\n",
       "      <td>14</td>\n",
       "      <td>gini</td>\n",
       "      <td>0.887062</td>\n",
       "      <td>0.001855</td>\n",
       "      <td>9</td>\n",
       "    </tr>\n",
       "    <tr>\n",
       "      <th>5</th>\n",
       "      <td>1</td>\n",
       "      <td>15</td>\n",
       "      <td>gini</td>\n",
       "      <td>0.886259</td>\n",
       "      <td>0.001475</td>\n",
       "      <td>10</td>\n",
       "    </tr>\n",
       "  </tbody>\n",
       "</table>\n",
       "</div>"
      ],
      "text/plain": [
       "  param_decisiontreeclassifier__min_samples_leaf  ... rank_test_score\n",
       "7                                              2  ...               1\n",
       "9                                              1  ...               2\n",
       "8                                              3  ...               3\n",
       "4                                              1  ...               4\n",
       "2                                              1  ...               5\n",
       "1                                              3  ...               6\n",
       "6                                              1  ...               7\n",
       "0                                              2  ...               8\n",
       "3                                              3  ...               9\n",
       "5                                              1  ...              10\n",
       "\n",
       "[10 rows x 6 columns]"
      ]
     },
     "execution_count": 59,
     "metadata": {
      "tags": []
     },
     "output_type": "execute_result"
    }
   ],
   "source": [
    "df[['param_decisiontreeclassifier__min_samples_leaf',\t'param_decisiontreeclassifier__max_depth',\t'param_decisiontreeclassifier__criterion', 'mean_test_score','std_test_score',\t'rank_test_score']]"
   ]
  },
  {
   "cell_type": "markdown",
   "metadata": {
    "colab_type": "text",
    "id": "GCOp5y_JA2T_"
   },
   "source": [
    "# Random forest con StandarScaler"
   ]
  },
  {
   "cell_type": "code",
   "execution_count": null,
   "metadata": {
    "colab": {},
    "colab_type": "code",
    "id": "Rc0JG0Zu8dOt"
   },
   "outputs": [],
   "source": [
    "param_distributions = {'randomforestclassifier__criterion': ['gini', 'entropy'], 'randomforestclassifier__min_samples_split': [2, 5], 'randomforestclassifier__min_samples_leaf': [1, 2], 'randomforestclassifier__max_features':['sqrt','log2']}\n"
   ]
  },
  {
   "cell_type": "code",
   "execution_count": null,
   "metadata": {
    "colab": {},
    "colab_type": "code",
    "id": "e5Kr1xEX8eeO"
   },
   "outputs": [],
   "source": [
    "model=make_pipeline(StandardScaler(), RandomForestClassifier(random_state=2, n_jobs=-1))\n",
    "cv=RandomizedSearchCV(model, param_distributions, scoring='accuracy', cv=2, n_jobs=-1)"
   ]
  },
  {
   "cell_type": "code",
   "execution_count": null,
   "metadata": {
    "colab": {
     "base_uri": "https://localhost:8080/",
     "height": 476
    },
    "colab_type": "code",
    "id": "dmdpoSuj8ldt",
    "outputId": "23c3e866-9bd1-47ed-cf60-cef3788ba855"
   },
   "outputs": [
    {
     "data": {
      "text/plain": [
       "RandomizedSearchCV(cv=2, error_score=nan,\n",
       "                   estimator=Pipeline(memory=None,\n",
       "                                      steps=[('standardscaler',\n",
       "                                              StandardScaler(copy=True,\n",
       "                                                             with_mean=True,\n",
       "                                                             with_std=True)),\n",
       "                                             ('randomforestclassifier',\n",
       "                                              RandomForestClassifier(bootstrap=True,\n",
       "                                                                     ccp_alpha=0.0,\n",
       "                                                                     class_weight=None,\n",
       "                                                                     criterion='gini',\n",
       "                                                                     max_depth=None,\n",
       "                                                                     max_features='auto',\n",
       "                                                                     max_leaf_nodes=None,\n",
       "                                                                     max_samples=None,\n",
       "                                                                     min_impurity_...\n",
       "                   iid='deprecated', n_iter=10, n_jobs=-1,\n",
       "                   param_distributions={'randomforestclassifier__criterion': ['gini',\n",
       "                                                                              'entropy'],\n",
       "                                        'randomforestclassifier__max_features': ['sqrt',\n",
       "                                                                                 'log2'],\n",
       "                                        'randomforestclassifier__min_samples_leaf': [1,\n",
       "                                                                                     2],\n",
       "                                        'randomforestclassifier__min_samples_split': [2,\n",
       "                                                                                      5]},\n",
       "                   pre_dispatch='2*n_jobs', random_state=None, refit=True,\n",
       "                   return_train_score=False, scoring='accuracy', verbose=0)"
      ]
     },
     "execution_count": 62,
     "metadata": {
      "tags": []
     },
     "output_type": "execute_result"
    }
   ],
   "source": [
    "cv.fit(X_train, y_train)"
   ]
  },
  {
   "cell_type": "code",
   "execution_count": null,
   "metadata": {
    "colab": {
     "base_uri": "https://localhost:8080/",
     "height": 379
    },
    "colab_type": "code",
    "id": "d7eew8oYAHuV",
    "outputId": "4951f364-12e3-463c-c06b-3cea3761084b"
   },
   "outputs": [
    {
     "data": {
      "text/html": [
       "<div>\n",
       "<style scoped>\n",
       "    .dataframe tbody tr th:only-of-type {\n",
       "        vertical-align: middle;\n",
       "    }\n",
       "\n",
       "    .dataframe tbody tr th {\n",
       "        vertical-align: top;\n",
       "    }\n",
       "\n",
       "    .dataframe thead th {\n",
       "        text-align: right;\n",
       "    }\n",
       "</style>\n",
       "<table border=\"1\" class=\"dataframe\">\n",
       "  <thead>\n",
       "    <tr style=\"text-align: right;\">\n",
       "      <th></th>\n",
       "      <th>param_randomforestclassifier__min_samples_split</th>\n",
       "      <th>param_randomforestclassifier__min_samples_leaf</th>\n",
       "      <th>param_randomforestclassifier__max_features</th>\n",
       "      <th>param_randomforestclassifier__criterion</th>\n",
       "      <th>mean_test_score</th>\n",
       "      <th>std_test_score</th>\n",
       "      <th>rank_test_score</th>\n",
       "    </tr>\n",
       "  </thead>\n",
       "  <tbody>\n",
       "    <tr>\n",
       "      <th>7</th>\n",
       "      <td>5</td>\n",
       "      <td>2</td>\n",
       "      <td>sqrt</td>\n",
       "      <td>entropy</td>\n",
       "      <td>0.906420</td>\n",
       "      <td>0.000419</td>\n",
       "      <td>1</td>\n",
       "    </tr>\n",
       "    <tr>\n",
       "      <th>3</th>\n",
       "      <td>2</td>\n",
       "      <td>1</td>\n",
       "      <td>sqrt</td>\n",
       "      <td>entropy</td>\n",
       "      <td>0.906294</td>\n",
       "      <td>0.001230</td>\n",
       "      <td>2</td>\n",
       "    </tr>\n",
       "    <tr>\n",
       "      <th>2</th>\n",
       "      <td>5</td>\n",
       "      <td>1</td>\n",
       "      <td>sqrt</td>\n",
       "      <td>entropy</td>\n",
       "      <td>0.906125</td>\n",
       "      <td>0.000038</td>\n",
       "      <td>3</td>\n",
       "    </tr>\n",
       "    <tr>\n",
       "      <th>0</th>\n",
       "      <td>2</td>\n",
       "      <td>1</td>\n",
       "      <td>sqrt</td>\n",
       "      <td>gini</td>\n",
       "      <td>0.905871</td>\n",
       "      <td>0.000630</td>\n",
       "      <td>4</td>\n",
       "    </tr>\n",
       "    <tr>\n",
       "      <th>1</th>\n",
       "      <td>5</td>\n",
       "      <td>2</td>\n",
       "      <td>sqrt</td>\n",
       "      <td>gini</td>\n",
       "      <td>0.904857</td>\n",
       "      <td>0.000046</td>\n",
       "      <td>5</td>\n",
       "    </tr>\n",
       "    <tr>\n",
       "      <th>8</th>\n",
       "      <td>5</td>\n",
       "      <td>2</td>\n",
       "      <td>log2</td>\n",
       "      <td>entropy</td>\n",
       "      <td>0.904392</td>\n",
       "      <td>0.000427</td>\n",
       "      <td>6</td>\n",
       "    </tr>\n",
       "    <tr>\n",
       "      <th>6</th>\n",
       "      <td>5</td>\n",
       "      <td>2</td>\n",
       "      <td>log2</td>\n",
       "      <td>gini</td>\n",
       "      <td>0.904307</td>\n",
       "      <td>0.000596</td>\n",
       "      <td>7</td>\n",
       "    </tr>\n",
       "    <tr>\n",
       "      <th>4</th>\n",
       "      <td>5</td>\n",
       "      <td>1</td>\n",
       "      <td>log2</td>\n",
       "      <td>gini</td>\n",
       "      <td>0.904223</td>\n",
       "      <td>0.001771</td>\n",
       "      <td>8</td>\n",
       "    </tr>\n",
       "    <tr>\n",
       "      <th>5</th>\n",
       "      <td>2</td>\n",
       "      <td>2</td>\n",
       "      <td>log2</td>\n",
       "      <td>gini</td>\n",
       "      <td>0.904138</td>\n",
       "      <td>0.000080</td>\n",
       "      <td>9</td>\n",
       "    </tr>\n",
       "    <tr>\n",
       "      <th>9</th>\n",
       "      <td>2</td>\n",
       "      <td>1</td>\n",
       "      <td>log2</td>\n",
       "      <td>gini</td>\n",
       "      <td>0.903673</td>\n",
       "      <td>0.000968</td>\n",
       "      <td>10</td>\n",
       "    </tr>\n",
       "  </tbody>\n",
       "</table>\n",
       "</div>"
      ],
      "text/plain": [
       "  param_randomforestclassifier__min_samples_split  ... rank_test_score\n",
       "7                                               5  ...               1\n",
       "3                                               2  ...               2\n",
       "2                                               5  ...               3\n",
       "0                                               2  ...               4\n",
       "1                                               5  ...               5\n",
       "8                                               5  ...               6\n",
       "6                                               5  ...               7\n",
       "4                                               5  ...               8\n",
       "5                                               2  ...               9\n",
       "9                                               2  ...              10\n",
       "\n",
       "[10 rows x 7 columns]"
      ]
     },
     "execution_count": 63,
     "metadata": {
      "tags": []
     },
     "output_type": "execute_result"
    }
   ],
   "source": [
    "results = cv.cv_results_\n",
    "best_model = cv.best_estimator_\n",
    "df = pd.DataFrame(results).sort_values('rank_test_score')\n",
    "df[['param_randomforestclassifier__min_samples_split',\t'param_randomforestclassifier__min_samples_leaf',\t'param_randomforestclassifier__max_features',\t'param_randomforestclassifier__criterion', 'mean_test_score',\t'std_test_score',\t'rank_test_score']]\n"
   ]
  },
  {
   "cell_type": "code",
   "execution_count": null,
   "metadata": {
    "colab": {},
    "colab_type": "code",
    "id": "zXtHRfIL9Sau"
   },
   "outputs": [],
   "source": [
    "# Random forest with pruned trees"
   ]
  },
  {
   "cell_type": "code",
   "execution_count": null,
   "metadata": {
    "colab": {
     "base_uri": "https://localhost:8080/",
     "height": 459
    },
    "colab_type": "code",
    "id": "Ub93a3XaKN5a",
    "outputId": "5a74efe0-8bba-47da-c41d-4b6a1ae53f79"
   },
   "outputs": [
    {
     "data": {
      "text/plain": [
       "RandomizedSearchCV(cv=2, error_score=nan,\n",
       "                   estimator=RandomForestClassifier(bootstrap=True,\n",
       "                                                    ccp_alpha=0.0,\n",
       "                                                    class_weight=None,\n",
       "                                                    criterion='gini',\n",
       "                                                    max_depth=None,\n",
       "                                                    max_features='auto',\n",
       "                                                    max_leaf_nodes=None,\n",
       "                                                    max_samples=None,\n",
       "                                                    min_impurity_decrease=0.0,\n",
       "                                                    min_impurity_split=None,\n",
       "                                                    min_samples_leaf=1,\n",
       "                                                    min_samples_split=2,\n",
       "                                                    min_weight_fraction_leaf=0.0,\n",
       "                                                    n_estimators=100, n_jobs...\n",
       "                                                    oob_score=False,\n",
       "                                                    random_state=2, verbose=0,\n",
       "                                                    warm_start=False),\n",
       "                   iid='deprecated', n_iter=10, n_jobs=-1,\n",
       "                   param_distributions={'criterion': ['gini', 'entropy'],\n",
       "                                        'max_depth': [3, 4, 5],\n",
       "                                        'max_features': ['sqrt', 'log2'],\n",
       "                                        'min_samples_leaf': [1, 2],\n",
       "                                        'min_samples_split': [10, 20]},\n",
       "                   pre_dispatch='2*n_jobs', random_state=None, refit=True,\n",
       "                   return_train_score=False, scoring='accuracy', verbose=0)"
      ]
     },
     "execution_count": 65,
     "metadata": {
      "tags": []
     },
     "output_type": "execute_result"
    }
   ],
   "source": [
    "param_distributions = {\n",
    "    'criterion': ['gini', 'entropy'],\n",
    "    'min_samples_split': [2, 5],\n",
    "    'min_samples_leaf': [1, 2],\n",
    "    'max_features':['sqrt','log2'],\n",
    "    'min_samples_split': [10,20],\n",
    "    'max_depth': [3,4,5]}\n",
    "\n",
    "model= RandomForestClassifier(random_state=2, n_jobs=-1)\n",
    "cv=RandomizedSearchCV(model, param_distributions, scoring='accuracy', cv=2, n_jobs=-1)\n",
    "\n",
    "cv.fit(X_train, y_train)"
   ]
  },
  {
   "cell_type": "code",
   "execution_count": null,
   "metadata": {
    "colab": {
     "base_uri": "https://localhost:8080/",
     "height": 359
    },
    "colab_type": "code",
    "id": "rI02K3HJKN5c",
    "outputId": "950023a9-ba3b-4d1f-d63c-5676ab5c2bb2"
   },
   "outputs": [
    {
     "data": {
      "text/html": [
       "<div>\n",
       "<style scoped>\n",
       "    .dataframe tbody tr th:only-of-type {\n",
       "        vertical-align: middle;\n",
       "    }\n",
       "\n",
       "    .dataframe tbody tr th {\n",
       "        vertical-align: top;\n",
       "    }\n",
       "\n",
       "    .dataframe thead th {\n",
       "        text-align: right;\n",
       "    }\n",
       "</style>\n",
       "<table border=\"1\" class=\"dataframe\">\n",
       "  <thead>\n",
       "    <tr style=\"text-align: right;\">\n",
       "      <th></th>\n",
       "      <th>param_min_samples_split</th>\n",
       "      <th>param_min_samples_leaf</th>\n",
       "      <th>param_max_features</th>\n",
       "      <th>param_criterion</th>\n",
       "      <th>param_min_samples_split</th>\n",
       "      <th>param_max_depth</th>\n",
       "      <th>mean_test_score</th>\n",
       "      <th>std_test_score</th>\n",
       "      <th>rank_test_score</th>\n",
       "    </tr>\n",
       "  </thead>\n",
       "  <tbody>\n",
       "    <tr>\n",
       "      <th>6</th>\n",
       "      <td>10</td>\n",
       "      <td>2</td>\n",
       "      <td>sqrt</td>\n",
       "      <td>gini</td>\n",
       "      <td>10</td>\n",
       "      <td>5</td>\n",
       "      <td>0.794581</td>\n",
       "      <td>0.005672</td>\n",
       "      <td>1</td>\n",
       "    </tr>\n",
       "    <tr>\n",
       "      <th>7</th>\n",
       "      <td>20</td>\n",
       "      <td>1</td>\n",
       "      <td>log2</td>\n",
       "      <td>gini</td>\n",
       "      <td>20</td>\n",
       "      <td>5</td>\n",
       "      <td>0.788368</td>\n",
       "      <td>0.002316</td>\n",
       "      <td>2</td>\n",
       "    </tr>\n",
       "    <tr>\n",
       "      <th>1</th>\n",
       "      <td>20</td>\n",
       "      <td>1</td>\n",
       "      <td>log2</td>\n",
       "      <td>gini</td>\n",
       "      <td>20</td>\n",
       "      <td>4</td>\n",
       "      <td>0.770404</td>\n",
       "      <td>0.001616</td>\n",
       "      <td>3</td>\n",
       "    </tr>\n",
       "    <tr>\n",
       "      <th>2</th>\n",
       "      <td>10</td>\n",
       "      <td>2</td>\n",
       "      <td>log2</td>\n",
       "      <td>gini</td>\n",
       "      <td>10</td>\n",
       "      <td>4</td>\n",
       "      <td>0.770404</td>\n",
       "      <td>0.001616</td>\n",
       "      <td>3</td>\n",
       "    </tr>\n",
       "    <tr>\n",
       "      <th>3</th>\n",
       "      <td>20</td>\n",
       "      <td>1</td>\n",
       "      <td>sqrt</td>\n",
       "      <td>gini</td>\n",
       "      <td>20</td>\n",
       "      <td>4</td>\n",
       "      <td>0.763430</td>\n",
       "      <td>0.000729</td>\n",
       "      <td>5</td>\n",
       "    </tr>\n",
       "    <tr>\n",
       "      <th>0</th>\n",
       "      <td>20</td>\n",
       "      <td>2</td>\n",
       "      <td>log2</td>\n",
       "      <td>gini</td>\n",
       "      <td>20</td>\n",
       "      <td>3</td>\n",
       "      <td>0.720867</td>\n",
       "      <td>0.006267</td>\n",
       "      <td>6</td>\n",
       "    </tr>\n",
       "    <tr>\n",
       "      <th>9</th>\n",
       "      <td>20</td>\n",
       "      <td>1</td>\n",
       "      <td>log2</td>\n",
       "      <td>gini</td>\n",
       "      <td>20</td>\n",
       "      <td>3</td>\n",
       "      <td>0.720867</td>\n",
       "      <td>0.006267</td>\n",
       "      <td>6</td>\n",
       "    </tr>\n",
       "    <tr>\n",
       "      <th>5</th>\n",
       "      <td>20</td>\n",
       "      <td>2</td>\n",
       "      <td>log2</td>\n",
       "      <td>entropy</td>\n",
       "      <td>20</td>\n",
       "      <td>3</td>\n",
       "      <td>0.709455</td>\n",
       "      <td>0.004154</td>\n",
       "      <td>8</td>\n",
       "    </tr>\n",
       "    <tr>\n",
       "      <th>8</th>\n",
       "      <td>20</td>\n",
       "      <td>1</td>\n",
       "      <td>log2</td>\n",
       "      <td>entropy</td>\n",
       "      <td>20</td>\n",
       "      <td>3</td>\n",
       "      <td>0.709455</td>\n",
       "      <td>0.004154</td>\n",
       "      <td>8</td>\n",
       "    </tr>\n",
       "    <tr>\n",
       "      <th>4</th>\n",
       "      <td>20</td>\n",
       "      <td>2</td>\n",
       "      <td>sqrt</td>\n",
       "      <td>gini</td>\n",
       "      <td>20</td>\n",
       "      <td>3</td>\n",
       "      <td>0.708652</td>\n",
       "      <td>0.002422</td>\n",
       "      <td>10</td>\n",
       "    </tr>\n",
       "  </tbody>\n",
       "</table>\n",
       "</div>"
      ],
      "text/plain": [
       "  param_min_samples_split  ... rank_test_score\n",
       "6                      10  ...               1\n",
       "7                      20  ...               2\n",
       "1                      20  ...               3\n",
       "2                      10  ...               3\n",
       "3                      20  ...               5\n",
       "0                      20  ...               6\n",
       "9                      20  ...               6\n",
       "5                      20  ...               8\n",
       "8                      20  ...               8\n",
       "4                      20  ...              10\n",
       "\n",
       "[10 rows x 9 columns]"
      ]
     },
     "execution_count": 66,
     "metadata": {
      "tags": []
     },
     "output_type": "execute_result"
    }
   ],
   "source": [
    "results = cv.cv_results_\n",
    "best_model = cv.best_estimator_\n",
    "df = pd.DataFrame(results).sort_values('rank_test_score')\n",
    "df[['param_min_samples_split','param_min_samples_leaf','param_max_features','param_criterion','param_min_samples_split','param_max_depth','mean_test_score','std_test_score','rank_test_score']]\n"
   ]
  },
  {
   "cell_type": "markdown",
   "metadata": {
    "colab_type": "text",
    "id": "tTuf_lDPKN5f"
   },
   "source": [
    "# Prunned Decision Tree"
   ]
  },
  {
   "cell_type": "code",
   "execution_count": null,
   "metadata": {
    "colab": {},
    "colab_type": "code",
    "id": "r7wmN2d5KN5f"
   },
   "outputs": [],
   "source": [
    "\n",
    "param_distributions = {\n",
    "    'criterion': [\n",
    "        'gini',\n",
    "        'entropy',\n",
    "    ],\n",
    "    'max_depth': list(range(3,5)),\n",
    "    'min_samples_leaf' : list(range(1,5)),\n",
    "}\n",
    "model=DecisionTreeClassifier(random_state=2)\n",
    "cv=RandomizedSearchCV(model, param_distributions, scoring='accuracy', cv=2, n_jobs=-1)\n",
    "\n",
    "cv.fit(X_train, y_train);\n",
    "\n",
    "\n",
    "results = cv.cv_results_\n",
    "best_model = cv.best_estimator_\n",
    "df = pd.DataFrame(results).sort_values('rank_test_score')\n"
   ]
  },
  {
   "cell_type": "code",
   "execution_count": null,
   "metadata": {
    "colab": {
     "base_uri": "https://localhost:8080/",
     "height": 359
    },
    "colab_type": "code",
    "id": "_-6IApJxKN5l",
    "outputId": "418c6e50-0d92-4239-9d88-73099065af97"
   },
   "outputs": [
    {
     "data": {
      "text/html": [
       "<div>\n",
       "<style scoped>\n",
       "    .dataframe tbody tr th:only-of-type {\n",
       "        vertical-align: middle;\n",
       "    }\n",
       "\n",
       "    .dataframe tbody tr th {\n",
       "        vertical-align: top;\n",
       "    }\n",
       "\n",
       "    .dataframe thead th {\n",
       "        text-align: right;\n",
       "    }\n",
       "</style>\n",
       "<table border=\"1\" class=\"dataframe\">\n",
       "  <thead>\n",
       "    <tr style=\"text-align: right;\">\n",
       "      <th></th>\n",
       "      <th>param_min_samples_leaf</th>\n",
       "      <th>param_max_depth</th>\n",
       "      <th>param_criterion</th>\n",
       "      <th>mean_test_score</th>\n",
       "      <th>std_test_score</th>\n",
       "      <th>rank_test_score</th>\n",
       "    </tr>\n",
       "  </thead>\n",
       "  <tbody>\n",
       "    <tr>\n",
       "      <th>3</th>\n",
       "      <td>4</td>\n",
       "      <td>4</td>\n",
       "      <td>gini</td>\n",
       "      <td>0.698888</td>\n",
       "      <td>0.001112</td>\n",
       "      <td>1</td>\n",
       "    </tr>\n",
       "    <tr>\n",
       "      <th>9</th>\n",
       "      <td>3</td>\n",
       "      <td>4</td>\n",
       "      <td>gini</td>\n",
       "      <td>0.698888</td>\n",
       "      <td>0.001112</td>\n",
       "      <td>1</td>\n",
       "    </tr>\n",
       "    <tr>\n",
       "      <th>1</th>\n",
       "      <td>4</td>\n",
       "      <td>4</td>\n",
       "      <td>entropy</td>\n",
       "      <td>0.670866</td>\n",
       "      <td>0.010764</td>\n",
       "      <td>3</td>\n",
       "    </tr>\n",
       "    <tr>\n",
       "      <th>4</th>\n",
       "      <td>1</td>\n",
       "      <td>4</td>\n",
       "      <td>entropy</td>\n",
       "      <td>0.670866</td>\n",
       "      <td>0.010764</td>\n",
       "      <td>3</td>\n",
       "    </tr>\n",
       "    <tr>\n",
       "      <th>5</th>\n",
       "      <td>2</td>\n",
       "      <td>4</td>\n",
       "      <td>entropy</td>\n",
       "      <td>0.670866</td>\n",
       "      <td>0.010764</td>\n",
       "      <td>3</td>\n",
       "    </tr>\n",
       "    <tr>\n",
       "      <th>0</th>\n",
       "      <td>2</td>\n",
       "      <td>3</td>\n",
       "      <td>entropy</td>\n",
       "      <td>0.549178</td>\n",
       "      <td>0.000357</td>\n",
       "      <td>6</td>\n",
       "    </tr>\n",
       "    <tr>\n",
       "      <th>7</th>\n",
       "      <td>1</td>\n",
       "      <td>3</td>\n",
       "      <td>entropy</td>\n",
       "      <td>0.549178</td>\n",
       "      <td>0.000357</td>\n",
       "      <td>6</td>\n",
       "    </tr>\n",
       "    <tr>\n",
       "      <th>8</th>\n",
       "      <td>4</td>\n",
       "      <td>3</td>\n",
       "      <td>entropy</td>\n",
       "      <td>0.549178</td>\n",
       "      <td>0.000357</td>\n",
       "      <td>6</td>\n",
       "    </tr>\n",
       "    <tr>\n",
       "      <th>2</th>\n",
       "      <td>1</td>\n",
       "      <td>3</td>\n",
       "      <td>gini</td>\n",
       "      <td>0.522127</td>\n",
       "      <td>0.001880</td>\n",
       "      <td>9</td>\n",
       "    </tr>\n",
       "    <tr>\n",
       "      <th>6</th>\n",
       "      <td>4</td>\n",
       "      <td>3</td>\n",
       "      <td>gini</td>\n",
       "      <td>0.522127</td>\n",
       "      <td>0.001880</td>\n",
       "      <td>9</td>\n",
       "    </tr>\n",
       "  </tbody>\n",
       "</table>\n",
       "</div>"
      ],
      "text/plain": [
       "  param_min_samples_leaf param_max_depth  ... std_test_score  rank_test_score\n",
       "3                      4               4  ...       0.001112                1\n",
       "9                      3               4  ...       0.001112                1\n",
       "1                      4               4  ...       0.010764                3\n",
       "4                      1               4  ...       0.010764                3\n",
       "5                      2               4  ...       0.010764                3\n",
       "0                      2               3  ...       0.000357                6\n",
       "7                      1               3  ...       0.000357                6\n",
       "8                      4               3  ...       0.000357                6\n",
       "2                      1               3  ...       0.001880                9\n",
       "6                      4               3  ...       0.001880                9\n",
       "\n",
       "[10 rows x 6 columns]"
      ]
     },
     "execution_count": 68,
     "metadata": {
      "tags": []
     },
     "output_type": "execute_result"
    }
   ],
   "source": [
    "df[['param_min_samples_leaf',\t'param_max_depth',\t'param_criterion', 'mean_test_score','std_test_score',\t'rank_test_score']]"
   ]
  },
  {
   "cell_type": "markdown",
   "metadata": {
    "colab_type": "text",
    "id": "3stfAjKrK5do"
   },
   "source": [
    "###**3.Opcional**"
   ]
  },
  {
   "cell_type": "markdown",
   "metadata": {
    "colab_type": "text",
    "id": "VIPoeK--LE1s"
   },
   "source": [
    "###**3.1. Multinomial Naives Bayes**"
   ]
  },
  {
   "cell_type": "markdown",
   "metadata": {
    "colab_type": "text",
    "id": "_5rttdFxLdGD"
   },
   "source": [
    "###**3.2. KNN**"
   ]
  },
  {
   "cell_type": "code",
   "execution_count": null,
   "metadata": {
    "colab": {},
    "colab_type": "code",
    "id": "SkENhn5yKN5p"
   },
   "outputs": [],
   "source": [
    "from sklearn.preprocessing import MinMaxScaler\n",
    "from sklearn.neighbors import KNeighborsClassifier"
   ]
  },
  {
   "cell_type": "code",
   "execution_count": null,
   "metadata": {
    "colab": {},
    "colab_type": "code",
    "id": "jCkq5y0CKN5r"
   },
   "outputs": [],
   "source": [
    "scaler = MinMaxScaler()\n",
    "X_train = scaler.fit_transform(X_train)\n",
    "X_test = scaler.transform(X_test)"
   ]
  },
  {
   "cell_type": "code",
   "execution_count": null,
   "metadata": {
    "colab": {
     "base_uri": "https://localhost:8080/",
     "height": 51
    },
    "colab_type": "code",
    "id": "7xAPCjg2KN5u",
    "outputId": "433998a0-e45d-47c2-dd2b-5bd633b174ae"
   },
   "outputs": [
    {
     "name": "stdout",
     "output_type": "stream",
     "text": [
      "Accuracy of K-NN classifier on training set: 0.92\n",
      "Accuracy of K-NN classifier on test set: 0.88\n"
     ]
    }
   ],
   "source": [
    "n_neighbors = 7\n",
    "\n",
    "knn = KNeighborsClassifier(n_neighbors, n_jobs=-1)\n",
    "knn.fit(X_train, y_train)\n",
    "\n",
    "print('Accuracy of K-NN classifier on training set: {:.2f}'\n",
    "     .format(knn.score(X_train, y_train)))\n",
    "print('Accuracy of K-NN classifier on test set: {:.2f}'\n",
    "     .format(knn.score(X_test, y_test)))"
   ]
  },
  {
   "cell_type": "code",
   "execution_count": null,
   "metadata": {
    "colab": {
     "base_uri": "https://localhost:8080/",
     "height": 347
    },
    "colab_type": "code",
    "id": "_DylA4RkKN5v",
    "outputId": "5734b717-32da-49d8-f0c9-e1ff1c76d5b5"
   },
   "outputs": [
    {
     "data": {
      "text/plain": [
       "([<matplotlib.axis.XTick at 0x7fcacb8c0cf8>,\n",
       "  <matplotlib.axis.XTick at 0x7fcacb8c0cc0>,\n",
       "  <matplotlib.axis.XTick at 0x7fcacb8c0908>],\n",
       " <a list of 3 Text major ticklabel objects>)"
      ]
     },
     "execution_count": 72,
     "metadata": {
      "tags": []
     },
     "output_type": "execute_result"
    },
    {
     "data": {
      "image/png": "[encoded data removed]",
      "text/plain": [
       "<Figure size 432x288 with 1 Axes>"
      ]
     },
     "metadata": {
      "needs_background": "light",
      "tags": []
     },
     "output_type": "display_data"
    }
   ],
   "source": [
    "k_range = range(1, 15)\n",
    "scores = []\n",
    "for k in k_range:\n",
    "    knn = KNeighborsClassifier(n_neighbors = k, n_jobs=-1)\n",
    "    knn.fit(X_train, y_train)\n",
    "    scores.append(knn.score(X_test, y_test))\n",
    "plt.figure()\n",
    "plt.xlabel('k')\n",
    "plt.ylabel('accuracy')\n",
    "plt.scatter(k_range, scores)\n",
    "plt.xticks([0,5,10])\n",
    "\n"
   ]
  },
  {
   "cell_type": "code",
   "execution_count": null,
   "metadata": {
    "colab": {},
    "colab_type": "code",
    "id": "HTO983WOKN5x"
   },
   "outputs": [],
   "source": []
  },
  {
   "cell_type": "markdown",
   "metadata": {
    "colab_type": "text",
    "id": "j1VXHLUKhZpn"
   },
   "source": [
    "# **Aprendizaje Automático**\n",
    "\n",
    "El objetivo de este práctico es afianzar los conocimientos adquiridos hasta este momento, haciendo un proceso de re-análisis de los datos para encarar desde distintas perspectivas (selección de features, redefinición de clases y subclases) para conseguir nuevos resultados sobre los modelos ya trabajados, añadiendo ensemble learning al análisis.\n",
    "\n",
    "La idea es aprender a iterar en el proceso de ciencia de datos, no quedandonos con los resultados obtenidos del primer proceso realizado.\n",
    "\n",
    "# **Enunciado**\n",
    "\n",
    "Se les da la libertad de hacer los análisis que consideren necesarios en base a lo ya aprendido, encarando el problema desde distintos puntos de vista sobre todo en el proceso de los datos.\n",
    "\n",
    "Se les dá la libertad de seleccionar una de las Targets o ambas para aplicar los algoritmos.\n",
    "\n",
    "Se desea generar perspectivas diferentes que amplíen desde la investigación los resultados ya obtenidos.\n",
    "\n",
    "Generar un informe del enfoque que se tomó y cuales son las conclusiones a las que se arribó.\n",
    "\n",
    "Se pide también que sumen aquellos algoritmos en la medida de lo posible (por la cantidad de datos) aprendidos en AS de la familia de Ensemble Learning"
   ]
  },
  {
   "cell_type": "code",
   "execution_count": 9,
   "metadata": {
    "colab": {},
    "colab_type": "code",
    "executionInfo": {
     "elapsed": 795,
     "status": "ok",
     "timestamp": 1600304265692,
     "user": {
      "displayName": "Fernando Vazquez",
      "photoUrl": "",
      "userId": "07463311502574319119"
     },
     "user_tz": 180
    },
    "id": "nYEMk70LibWW"
   },
   "outputs": [],
   "source": [
    "from sklearn.ensemble import RandomForestClassifier, AdaBoostClassifier, GradientBoostingClassifier\n",
    "import xgboost as xgb"
   ]
  },
  {
   "cell_type": "code",
   "execution_count": 10,
   "metadata": {
    "colab": {},
    "colab_type": "code",
    "executionInfo": {
     "elapsed": 794,
     "status": "ok",
     "timestamp": 1600304267894,
     "user": {
      "displayName": "Fernando Vazquez",
      "photoUrl": "",
      "userId": "07463311502574319119"
     },
     "user_tz": 180
    },
    "id": "StUMhvaSjB1e"
   },
   "outputs": [],
   "source": [
    "rfc= RandomForestClassifier(n_estimators=500, random_state=1)\n",
    "abc= AdaBoostClassifier(n_estimators=500, random_state=1, learning_rate=0.01)\n",
    "gbc= GradientBoostingClassifier(n_estimators=500, random_state=1, learning_rate=0.01)\n",
    "xgb_clf=xgb.XGBClassifier(n_estimators=500, random_state=1, learning_rate=0.01)"
   ]
  },
  {
   "cell_type": "code",
   "execution_count": 20,
   "metadata": {
    "colab": {
     "base_uri": "https://localhost:8080/",
     "height": 136
    },
    "colab_type": "code",
    "executionInfo": {
     "elapsed": 1283819,
     "status": "ok",
     "timestamp": 1600305659625,
     "user": {
      "displayName": "Fernando Vazquez",
      "photoUrl": "",
      "userId": "07463311502574319119"
     },
     "user_tz": 180
    },
    "id": "dV6Q8zMojZpp",
    "outputId": "c4cf5f72-3168-4469-c680-46ea9689a9e0"
   },
   "outputs": [
    {
     "data": {
      "text/plain": [
       "XGBClassifier(base_score=0.5, booster='gbtree', colsample_bylevel=1,\n",
       "              colsample_bynode=1, colsample_bytree=1, gamma=0,\n",
       "              learning_rate=0.01, max_delta_step=0, max_depth=3,\n",
       "              min_child_weight=1, missing=None, n_estimators=500, n_jobs=1,\n",
       "              nthread=None, objective='multi:softprob', random_state=1,\n",
       "              reg_alpha=0, reg_lambda=1, scale_pos_weight=1, seed=None,\n",
       "              silent=None, subsample=1, verbosity=1)"
      ]
     },
     "execution_count": 20,
     "metadata": {
      "tags": []
     },
     "output_type": "execute_result"
    }
   ],
   "source": [
    "rfc.fit(X_train, y_train)\n",
    "abc.fit(X_train, y_train)\n",
    "gbc.fit(X_train, y_train)\n",
    "xgb_clf.fit(X_train, y_train)"
   ]
  },
  {
   "cell_type": "code",
   "execution_count": 21,
   "metadata": {
    "colab": {
     "base_uri": "https://localhost:8080/",
     "height": 85
    },
    "colab_type": "code",
    "executionInfo": {
     "elapsed": 6141,
     "status": "ok",
     "timestamp": 1600305747011,
     "user": {
      "displayName": "Fernando Vazquez",
      "photoUrl": "",
      "userId": "07463311502574319119"
     },
     "user_tz": 180
    },
    "id": "za10RqmljdK9",
    "outputId": "aca8abe5-a494-4b2e-8f26-37f66bc7e003"
   },
   "outputs": [
    {
     "name": "stdout",
     "output_type": "stream",
     "text": [
      "Random Forest Score:  0.9146238377007607\n",
      "Ada Boost Score:  0.4294167371090448\n",
      "Gradient Boosting Score:  0.8995773457311919\n",
      "XGBoost Score:  0.8909551986475064\n"
     ]
    }
   ],
   "source": [
    "print('Random Forest Score: ', rfc.score(X_test, y_test))\n",
    "print('Ada Boost Score: ', abc.score(X_test, y_test))\n",
    "print('Gradient Boosting Score: ', gbc.score(X_test, y_test))\n",
    "print('XGBoost Score: ', xgb_clf.score(X_test, y_test))"
   ]
  }
 ],
 "metadata": {
  "accelerator": "GPU",
  "colab": {
   "collapsed_sections": [],
   "name": "Practicos_3_4_resolucion.ipynb",
   "provenance": []
  },
  "kernelspec": {
   "display_name": "Python 3",
   "language": "python",
   "name": "python3"
  },
  "language_info": {
   "codemirror_mode": {
    "name": "ipython",
    "version": 3
   },
   "file_extension": ".py",
   "mimetype": "text/x-python",
   "name": "python",
   "nbconvert_exporter": "python",
   "pygments_lexer": "ipython3",
   "version": "3.6.10"
  }
 },
 "nbformat": 4,
 "nbformat_minor": 1
}
